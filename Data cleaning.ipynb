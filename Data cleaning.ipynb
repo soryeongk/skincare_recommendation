{
 "cells": [
  {
   "cell_type": "code",
   "execution_count": 1,
   "metadata": {},
   "outputs": [],
   "source": [
    "import pandas as pd\n",
    "import matplotlib.pylab as plt\n",
    "import re"
   ]
  },
  {
   "cell_type": "markdown",
   "metadata": {},
   "source": [
    "# 0. Reading the survey data with pandas"
   ]
  },
  {
   "cell_type": "code",
   "execution_count": 2,
   "metadata": {},
   "outputs": [],
   "source": [
    "data = pd.read_csv('survey_data.csv')"
   ]
  },
  {
   "cell_type": "code",
   "execution_count": 3,
   "metadata": {},
   "outputs": [
    {
     "data": {
      "text/html": [
       "<div>\n",
       "<style scoped>\n",
       "    .dataframe tbody tr th:only-of-type {\n",
       "        vertical-align: middle;\n",
       "    }\n",
       "\n",
       "    .dataframe tbody tr th {\n",
       "        vertical-align: top;\n",
       "    }\n",
       "\n",
       "    .dataframe thead th {\n",
       "        text-align: right;\n",
       "    }\n",
       "</style>\n",
       "<table border=\"1\" class=\"dataframe\">\n",
       "  <thead>\n",
       "    <tr style=\"text-align: right;\">\n",
       "      <th></th>\n",
       "      <th>타임스탬프</th>\n",
       "      <th>연령대를 선택해주세요. (2020 - \"출생년도\" + 1의 결과값)</th>\n",
       "      <th>성별을 선택해주세요</th>\n",
       "      <th>기초제품을 구매하거나 선물한 적이 있나요?</th>\n",
       "      <th>평소 화장품에 대한 관심/지식은 어느정도인가요? (복수응답 가능)</th>\n",
       "      <th>기초제품 구매 시, 선택에 어려움을 겪은 적이 있나요? 그 이유를 말씀해주세요. (복수응답가능)</th>\n",
       "      <th>화장품 구매에 있어, 오프라인 매장 방문의 목적이 무엇인가요? (복수응답)</th>\n",
       "      <th>오프라인 매장 방문을 꺼리는 이유는 무엇인가요?</th>\n",
       "      <th>화장품과 관련하여 유튜브로 정보를 탐색하시나요?</th>\n",
       "      <th>화장품과 관련한 어플을 사용하시나요? (화해, 글로우픽 등)</th>\n",
       "      <th>화장품과 관련하여 유튜브 혹은 어플을 사용하는 이유는 무엇인가요?</th>\n",
       "      <th>어떻게 하면 기초 제품 구매가 더 편리할 것 같아요? (복수응답가능)</th>\n",
       "    </tr>\n",
       "  </thead>\n",
       "  <tbody>\n",
       "    <tr>\n",
       "      <th>0</th>\n",
       "      <td>2020/05/18 5:26:50 오후 GMT+9</td>\n",
       "      <td>20 ~ 24세</td>\n",
       "      <td>여성</td>\n",
       "      <td>예</td>\n",
       "      <td>건성, 복합성, 지성이 무엇인지는 알고 있어요.;비타민이 미백에 좋다는 것, 시카와...</td>\n",
       "      <td>제품이 너무 다양하고 많아서 정보를 알 수 없어서;진짜 좋은 제품인지 알 수 없어서...</td>\n",
       "      <td>제품을 직접 테스트하고 크기 등을 보려고;사람에게 물어보고 구매하고 싶어서;온라인 ...</td>\n",
       "      <td>오프라인 매장 방문을 꺼리지 않아요!</td>\n",
       "      <td>1.0</td>\n",
       "      <td>0.0</td>\n",
       "      <td>언젠가 구매할지도 모르니까;색조, 메이트업베이스 등에 대한 정보를 얻기 위해</td>\n",
       "      <td>직원의 대면 응대를 활성화해주세요(상담은 사람과 만나서 하고 싶어요, 추천받은 제품...</td>\n",
       "    </tr>\n",
       "    <tr>\n",
       "      <th>1</th>\n",
       "      <td>2020/05/18 5:43:14 오후 GMT+9</td>\n",
       "      <td>20 ~ 24세</td>\n",
       "      <td>여성</td>\n",
       "      <td>예</td>\n",
       "      <td>비타민이 미백에 좋다는 것, 시카와 티트리 성분이 진정효과가 있다는 것 등을 알고 ...</td>\n",
       "      <td>제품이 너무 다양하고 많아서 정보를 알 수 없어서;진짜 좋은 제품인지 알 수 없어서</td>\n",
       "      <td>제품을 직접 테스트하고 크기 등을 보려고</td>\n",
       "      <td>오프라인 매장 방문을 꺼리지 않아요!;온라인 쇼핑에 익숙해져서;혼자 비교하고 결정하...</td>\n",
       "      <td>0.0</td>\n",
       "      <td>0.0</td>\n",
       "      <td>사용하지 않음</td>\n",
       "      <td>비대면 응대를 활성화해주세요(낯을 가려요, 집에서 쇼핑하고 싶어요, 혼자 고민하고 ...</td>\n",
       "    </tr>\n",
       "    <tr>\n",
       "      <th>2</th>\n",
       "      <td>2020/05/18 5:44:06 오후 GMT+9</td>\n",
       "      <td>20 ~ 24세</td>\n",
       "      <td>여성</td>\n",
       "      <td>예</td>\n",
       "      <td>건성, 복합성, 지성이 무엇인지는 알고 있어요.;비타민이 미백에 좋다는 것, 시카와...</td>\n",
       "      <td>제품이 너무 다양하고 많아서 정보를 알 수 없어서;진짜 좋은 제품인지 알 수 없어서</td>\n",
       "      <td>제품을 직접 테스트하고 크기 등을 보려고;사람에게 물어보고 구매하고 싶어서</td>\n",
       "      <td>직원들의 접객이 불편해서;혜택이 더 다양하고 많아서</td>\n",
       "      <td>3.0</td>\n",
       "      <td>1.0</td>\n",
       "      <td>유행을 알고 싶어서;색조, 메이트업베이스 등에 대한 정보를 얻기 위해</td>\n",
       "      <td>직원의 대면 응대를 활성화해주세요(상담은 사람과 만나서 하고 싶어요, 추천받은 제품...</td>\n",
       "    </tr>\n",
       "    <tr>\n",
       "      <th>3</th>\n",
       "      <td>2020/05/18 5:45:14 오후 GMT+9</td>\n",
       "      <td>19세 이하</td>\n",
       "      <td>여성</td>\n",
       "      <td>예</td>\n",
       "      <td>자신의 피부에 맞게 상품을 비교하고 선택할 수 있어요.</td>\n",
       "      <td>진짜 좋은 제품인지 알 수 없어서</td>\n",
       "      <td>제품을 직접 테스트하고 크기 등을 보려고</td>\n",
       "      <td>오프라인 매장 방문을 꺼리지 않아요!</td>\n",
       "      <td>4.0</td>\n",
       "      <td>4.0</td>\n",
       "      <td>색조, 메이트업베이스 등에 대한 정보를 얻기 위해;기초제품(스킨, 로션, 미스트, ...</td>\n",
       "      <td>특징별로 상품에 대한 요약 정리를 해주세요(보습라인 : 가,나,다 / 여드름 진정 ...</td>\n",
       "    </tr>\n",
       "    <tr>\n",
       "      <th>4</th>\n",
       "      <td>2020/05/18 5:46:18 오후 GMT+9</td>\n",
       "      <td>20 ~ 24세</td>\n",
       "      <td>여성</td>\n",
       "      <td>예</td>\n",
       "      <td>비타민이 미백에 좋다는 것, 시카와 티트리 성분이 진정효과가 있다는 것 등을 알고 ...</td>\n",
       "      <td>제품이 너무 다양하고 많아서 정보를 알 수 없어서;피부가 민감하지 않아서 제품 다양...</td>\n",
       "      <td>집이랑 가까워서;그냥 집가다가 생각나면 사는 거고 아니면 쿠팡으로 사는거구~</td>\n",
       "      <td>오프라인 매장 방문을 꺼리지 않아요!</td>\n",
       "      <td>1.0</td>\n",
       "      <td>0.0</td>\n",
       "      <td>그냥 화장한 얼굴이 예뻐서 대리만족하려구</td>\n",
       "      <td>특징별로 상품에 대한 요약 정리를 해주세요(보습라인 : 가,나,다 / 여드름 진정 ...</td>\n",
       "    </tr>\n",
       "  </tbody>\n",
       "</table>\n",
       "</div>"
      ],
      "text/plain": [
       "                         타임스탬프 연령대를 선택해주세요. (2020 - \"출생년도\" + 1의 결과값)  \\\n",
       "0  2020/05/18 5:26:50 오후 GMT+9                              20 ~ 24세   \n",
       "1  2020/05/18 5:43:14 오후 GMT+9                              20 ~ 24세   \n",
       "2  2020/05/18 5:44:06 오후 GMT+9                              20 ~ 24세   \n",
       "3  2020/05/18 5:45:14 오후 GMT+9                                19세 이하   \n",
       "4  2020/05/18 5:46:18 오후 GMT+9                              20 ~ 24세   \n",
       "\n",
       "  성별을 선택해주세요 기초제품을 구매하거나 선물한 적이 있나요?  \\\n",
       "0         여성                       예   \n",
       "1         여성                       예   \n",
       "2         여성                       예   \n",
       "3         여성                       예   \n",
       "4         여성                       예   \n",
       "\n",
       "                평소 화장품에 대한 관심/지식은 어느정도인가요? (복수응답 가능)  \\\n",
       "0  건성, 복합성, 지성이 무엇인지는 알고 있어요.;비타민이 미백에 좋다는 것, 시카와...   \n",
       "1  비타민이 미백에 좋다는 것, 시카와 티트리 성분이 진정효과가 있다는 것 등을 알고 ...   \n",
       "2  건성, 복합성, 지성이 무엇인지는 알고 있어요.;비타민이 미백에 좋다는 것, 시카와...   \n",
       "3                     자신의 피부에 맞게 상품을 비교하고 선택할 수 있어요.   \n",
       "4  비타민이 미백에 좋다는 것, 시카와 티트리 성분이 진정효과가 있다는 것 등을 알고 ...   \n",
       "\n",
       "  기초제품 구매 시, 선택에 어려움을 겪은 적이 있나요? 그 이유를 말씀해주세요. (복수응답가능)  \\\n",
       "0  제품이 너무 다양하고 많아서 정보를 알 수 없어서;진짜 좋은 제품인지 알 수 없어서...      \n",
       "1     제품이 너무 다양하고 많아서 정보를 알 수 없어서;진짜 좋은 제품인지 알 수 없어서      \n",
       "2     제품이 너무 다양하고 많아서 정보를 알 수 없어서;진짜 좋은 제품인지 알 수 없어서      \n",
       "3                                 진짜 좋은 제품인지 알 수 없어서      \n",
       "4  제품이 너무 다양하고 많아서 정보를 알 수 없어서;피부가 민감하지 않아서 제품 다양...      \n",
       "\n",
       "           화장품 구매에 있어, 오프라인 매장 방문의 목적이 무엇인가요? (복수응답)  \\\n",
       "0  제품을 직접 테스트하고 크기 등을 보려고;사람에게 물어보고 구매하고 싶어서;온라인 ...   \n",
       "1                             제품을 직접 테스트하고 크기 등을 보려고   \n",
       "2          제품을 직접 테스트하고 크기 등을 보려고;사람에게 물어보고 구매하고 싶어서   \n",
       "3                             제품을 직접 테스트하고 크기 등을 보려고   \n",
       "4         집이랑 가까워서;그냥 집가다가 생각나면 사는 거고 아니면 쿠팡으로 사는거구~   \n",
       "\n",
       "                          오프라인 매장 방문을 꺼리는 이유는 무엇인가요?  \\\n",
       "0                               오프라인 매장 방문을 꺼리지 않아요!   \n",
       "1  오프라인 매장 방문을 꺼리지 않아요!;온라인 쇼핑에 익숙해져서;혼자 비교하고 결정하...   \n",
       "2                       직원들의 접객이 불편해서;혜택이 더 다양하고 많아서   \n",
       "3                               오프라인 매장 방문을 꺼리지 않아요!   \n",
       "4                               오프라인 매장 방문을 꺼리지 않아요!   \n",
       "\n",
       "   화장품과 관련하여 유튜브로 정보를 탐색하시나요?  화장품과 관련한 어플을 사용하시나요? (화해, 글로우픽 등)  \\\n",
       "0                         1.0                                0.0   \n",
       "1                         0.0                                0.0   \n",
       "2                         3.0                                1.0   \n",
       "3                         4.0                                4.0   \n",
       "4                         1.0                                0.0   \n",
       "\n",
       "                화장품과 관련하여 유튜브 혹은 어플을 사용하는 이유는 무엇인가요?  \\\n",
       "0         언젠가 구매할지도 모르니까;색조, 메이트업베이스 등에 대한 정보를 얻기 위해   \n",
       "1                                            사용하지 않음   \n",
       "2             유행을 알고 싶어서;색조, 메이트업베이스 등에 대한 정보를 얻기 위해   \n",
       "3  색조, 메이트업베이스 등에 대한 정보를 얻기 위해;기초제품(스킨, 로션, 미스트, ...   \n",
       "4                             그냥 화장한 얼굴이 예뻐서 대리만족하려구   \n",
       "\n",
       "              어떻게 하면 기초 제품 구매가 더 편리할 것 같아요? (복수응답가능)  \n",
       "0  직원의 대면 응대를 활성화해주세요(상담은 사람과 만나서 하고 싶어요, 추천받은 제품...  \n",
       "1  비대면 응대를 활성화해주세요(낯을 가려요, 집에서 쇼핑하고 싶어요, 혼자 고민하고 ...  \n",
       "2  직원의 대면 응대를 활성화해주세요(상담은 사람과 만나서 하고 싶어요, 추천받은 제품...  \n",
       "3  특징별로 상품에 대한 요약 정리를 해주세요(보습라인 : 가,나,다 / 여드름 진정 ...  \n",
       "4  특징별로 상품에 대한 요약 정리를 해주세요(보습라인 : 가,나,다 / 여드름 진정 ...  "
      ]
     },
     "execution_count": 3,
     "metadata": {},
     "output_type": "execute_result"
    }
   ],
   "source": [
    "data.head()"
   ]
  },
  {
   "cell_type": "code",
   "execution_count": 4,
   "metadata": {},
   "outputs": [
    {
     "data": {
      "text/plain": [
       "(135, 12)"
      ]
     },
     "execution_count": 4,
     "metadata": {},
     "output_type": "execute_result"
    }
   ],
   "source": [
    "data.shape"
   ]
  },
  {
   "cell_type": "markdown",
   "metadata": {},
   "source": [
    "11 questions(excluding time stamp) and 135 answers"
   ]
  },
  {
   "cell_type": "markdown",
   "metadata": {},
   "source": [
    "# 1. Classifying the questions and the answers as a table"
   ]
  },
  {
   "cell_type": "markdown",
   "metadata": {},
   "source": [
    "## 1 - 1. Making a question list"
   ]
  },
  {
   "cell_type": "markdown",
   "metadata": {},
   "source": [
    "Before making the list, I need to translate the questions as English.\n",
    "\n",
    "The questions can be traslated as follows:\n",
    "\n",
    " - Ages\n",
    " - Gender\n",
    " - Have you ever purchased or present the skin care products? : 'The experience status'\n",
    " - How much do you know about the skin care? : 'The knowledge about skin care'\n",
    " - Have you ever been in trouble in purchasing the skin care porducts? : 'A difficult experience in purchasing'\n",
    " - Why do you visit the offline stores instead online mall? : 'The reasons for visit'\n",
    " - Why do you mind visiting the offline stores? Why you prefer to online? : 'The reasons not to visit'\n",
    " - Do you usually searching for the information through youtube contents? : 'Youtube usage status'\n",
    " - Do you usually searching for the information through related applications? : 'Application usage status'\n",
    " - Why do you use the applications or youtube contents for getting the informations about skin care? : 'The reasons for use the apps or youtube'\n",
    " - Can you tell me how to improve the offline store systems to make the consumers easy to purchase the skin care products? : 'The way to improve'"
   ]
  },
  {
   "cell_type": "code",
   "execution_count": 10,
   "metadata": {},
   "outputs": [
    {
     "data": {
      "text/plain": [
       "['연령대를 선택해주세요. (2020 - \"출생년도\" + 1의 결과값)',\n",
       " '성별을 선택해주세요',\n",
       " '기초제품을 구매하거나 선물한 적이 있나요?',\n",
       " '평소 화장품에 대한 관심/지식은 어느정도인가요? (복수응답 가능)',\n",
       " '기초제품 구매 시, 선택에 어려움을 겪은 적이 있나요? 그 이유를 말씀해주세요. (복수응답가능)',\n",
       " '화장품 구매에 있어, 오프라인 매장 방문의 목적이 무엇인가요? (복수응답)',\n",
       " '오프라인 매장 방문을 꺼리는 이유는 무엇인가요?',\n",
       " '화장품과 관련하여 유튜브로 정보를 탐색하시나요?',\n",
       " '화장품과 관련한 어플을 사용하시나요? (화해, 글로우픽 등)',\n",
       " '화장품과 관련하여 유튜브 혹은 어플을 사용하는 이유는 무엇인가요?',\n",
       " '어떻게 하면 기초 제품 구매가 더 편리할 것 같아요? (복수응답가능)']"
      ]
     },
     "execution_count": 10,
     "metadata": {},
     "output_type": "execute_result"
    }
   ],
   "source": [
    "# questions without time stamp\n",
    "\n",
    "ques = list(data.columns)[1:]\n",
    "ques"
   ]
  },
  {
   "cell_type": "markdown",
   "metadata": {},
   "source": [
    "## 1 - 2. Making an answer sheet : gathering the answers including each opinions"
   ]
  },
  {
   "cell_type": "markdown",
   "metadata": {},
   "source": [
    "Let's check the answers with multiple choices.\n",
    "\n",
    "Befor that, make"
   ]
  },
  {
   "cell_type": "code",
   "execution_count": 6,
   "metadata": {},
   "outputs": [
    {
     "data": {
      "text/plain": [
       "0      제품이 너무 다양하고 많아서 정보를 알 수 없어서;진짜 좋은 제품인지 알 수 없어서...\n",
       "1         제품이 너무 다양하고 많아서 정보를 알 수 없어서;진짜 좋은 제품인지 알 수 없어서\n",
       "2         제품이 너무 다양하고 많아서 정보를 알 수 없어서;진짜 좋은 제품인지 알 수 없어서\n",
       "3                                     진짜 좋은 제품인지 알 수 없어서\n",
       "4      제품이 너무 다양하고 많아서 정보를 알 수 없어서;피부가 민감하지 않아서 제품 다양...\n",
       "5                                     진짜 좋은 제품인지 알 수 없어서\n",
       "6                            제품이 너무 다양하고 많아서 정보를 알 수 없어서\n",
       "7      제품이 너무 다양하고 많아서 정보를 알 수 없어서;매번 실패해서;진짜 좋은 제품인지...\n",
       "8         제품이 너무 다양하고 많아서 정보를 알 수 없어서;진짜 좋은 제품인지 알 수 없어서\n",
       "9       진짜 좋은 제품인지 알 수 없어서;검색이 귀찮아서;더 싸게 살 수 있을 것같아서 미뤄서\n",
       "10        제품이 너무 다양하고 많아서 정보를 알 수 없어서;진짜 좋은 제품인지 알 수 없어서\n",
       "11     피부(스킨케어)에 대한 지식이 없어서;제품이 너무 다양하고 많아서 정보를 알 수 없...\n",
       "12                                    진짜 좋은 제품인지 알 수 없어서\n",
       "13                           제품이 너무 다양하고 많아서 정보를 알 수 없어서\n",
       "14     피부(스킨케어)에 대한 지식이 없어서;제품이 너무 다양하고 많아서 정보를 알 수 없...\n",
       "15        제품이 너무 다양하고 많아서 정보를 알 수 없어서;진짜 좋은 제품인지 알 수 없어서\n",
       "16      피부(스킨케어)에 대한 지식이 없어서;제품이 너무 다양하고 많아서 정보를 알 수 없어서\n",
       "17     제품이 너무 다양하고 많아서 정보를 알 수 없어서;(오프라인의 경우)직원이 불친절해...\n",
       "18     제품이 너무 다양하고 많아서 정보를 알 수 없어서;진짜 좋은 제품인지 알 수 없어서...\n",
       "19                           제품이 너무 다양하고 많아서 정보를 알 수 없어서\n",
       "20                                                   NaN\n",
       "21        제품이 너무 다양하고 많아서 정보를 알 수 없어서;진짜 좋은 제품인지 알 수 없어서\n",
       "22                                              검색이 귀찮아서\n",
       "23     피부(스킨케어)에 대한 지식이 없어서;제품이 너무 다양하고 많아서 정보를 알 수 없...\n",
       "24        제품이 너무 다양하고 많아서 정보를 알 수 없어서;진짜 좋은 제품인지 알 수 없어서\n",
       "25     제품이 너무 다양하고 많아서 정보를 알 수 없어서;진짜 좋은 제품인지 알 수 없어서...\n",
       "26                                              검색이 귀찮아서\n",
       "27                                  피부(스킨케어)에 대한 지식이 없어서\n",
       "28     제품이 너무 다양하고 많아서 정보를 알 수 없어서;진짜 좋은 제품인지 알 수 없어서...\n",
       "29     피부(스킨케어)에 대한 지식이 없어서;제품이 너무 다양하고 많아서 정보를 알 수 없...\n",
       "                             ...                        \n",
       "105    피부(스킨케어)에 대한 지식이 없어서;제품이 너무 다양하고 많아서 정보를 알 수 없...\n",
       "106       제품이 너무 다양하고 많아서 정보를 알 수 없어서;진짜 좋은 제품인지 알 수 없어서\n",
       "107                                 피부(스킨케어)에 대한 지식이 없어서\n",
       "108                                                  NaN\n",
       "109     제품이 너무 다양하고 많아서 정보를 알 수 없어서;더 싸게 살 수 있을 것같아서 미뤄서\n",
       "110                                                  NaN\n",
       "111              진짜 좋은 제품인지 알 수 없어서;더 싸게 살 수 있을 것같아서 미뤄서\n",
       "112    제품이 너무 다양하고 많아서 정보를 알 수 없어서;(오프라인의 경우)직원이 불친절해...\n",
       "113       제품이 너무 다양하고 많아서 정보를 알 수 없어서;진짜 좋은 제품인지 알 수 없어서\n",
       "114    제품이 너무 다양하고 많아서 정보를 알 수 없어서;매번 실패해서;진짜 좋은 제품인지...\n",
       "115                                   진짜 좋은 제품인지 알 수 없어서\n",
       "116                                   진짜 좋은 제품인지 알 수 없어서\n",
       "117    제품이 너무 다양하고 많아서 정보를 알 수 없어서;검색이 귀찮아서;더 싸게 살 수 ...\n",
       "118       제품이 너무 다양하고 많아서 정보를 알 수 없어서;진짜 좋은 제품인지 알 수 없어서\n",
       "119       제품이 너무 다양하고 많아서 정보를 알 수 없어서;진짜 좋은 제품인지 알 수 없어서\n",
       "120                          제품이 너무 다양하고 많아서 정보를 알 수 없어서\n",
       "121                                                   없음\n",
       "122     피부(스킨케어)에 대한 지식이 없어서;제품이 너무 다양하고 많아서 정보를 알 수 없어서\n",
       "123     피부(스킨케어)에 대한 지식이 없어서;제품이 너무 다양하고 많아서 정보를 알 수 없어서\n",
       "124                                                  NaN\n",
       "125                                   진짜 좋은 제품인지 알 수 없어서\n",
       "126                          제품이 너무 다양하고 많아서 정보를 알 수 없어서\n",
       "127                                 피부(스킨케어)에 대한 지식이 없어서\n",
       "128                                      없음;물어보면 잘 알려주던뎅\n",
       "129                                                  NaN\n",
       "130    제품이 너무 다양하고 많아서 정보를 알 수 없어서;(오프라인의 경우)직원이 불친절해...\n",
       "131       제품이 너무 다양하고 많아서 정보를 알 수 없어서;진짜 좋은 제품인지 알 수 없어서\n",
       "132       제품이 너무 다양하고 많아서 정보를 알 수 없어서;진짜 좋은 제품인지 알 수 없어서\n",
       "133       제품이 너무 다양하고 많아서 정보를 알 수 없어서;진짜 좋은 제품인지 알 수 없어서\n",
       "134       제품이 너무 다양하고 많아서 정보를 알 수 없어서;진짜 좋은 제품인지 알 수 없어서\n",
       "Name: 기초제품 구매 시, 선택에 어려움을 겪은 적이 있나요? 그 이유를 말씀해주세요. (복수응답가능), Length: 135, dtype: object"
      ]
     },
     "execution_count": 6,
     "metadata": {},
     "output_type": "execute_result"
    }
   ],
   "source": [
    "data.iloc[:, 5]"
   ]
  },
  {
   "cell_type": "markdown",
   "metadata": {},
   "source": [
    "## (보류) 1 - 3. 기타 의견 수집하기\n",
    "\n",
    "더 쉽게 하는 방법 생각해보기"
   ]
  },
  {
   "cell_type": "code",
   "execution_count": 16,
   "metadata": {},
   "outputs": [],
   "source": [
    "ans_age = list(data.iloc[:, 1].unique())\n",
    "ans_gender = list(data.iloc[:, 2].unique())\n",
    "ans_purchase_experience_status = list(data.iloc[:, 3].unique())\n",
    "ans_skincare_knowledge = list(data.iloc[:, 4].unique())\n",
    "ans_trouble_in_purchase = list(data.iloc[:, 5].unique())\n",
    "ans_reason_visiting_store = list(data.iloc[:, 6].unique())\n",
    "ans_reason_mind_visiting = list(data.iloc[:, 7].unique())\n",
    "ans_info_from_app = list(data.iloc[:, 8].unique())\n",
    "ans_info_from_youtube = list(data.iloc[:, 9].unique())\n",
    "ans_reason_app_youtube = list(data.iloc[:, 10].unique())\n",
    "ans_how_to_improve = list(data.iloc[:, 11].unique())"
   ]
  },
  {
   "cell_type": "code",
   "execution_count": 17,
   "metadata": {},
   "outputs": [],
   "source": [
    "# Gathering all the answers\n",
    "\n",
    "answers = [ans_age, ans_gender, ans_purchase_experience_status, ans_skincare_knowledge, ans_trouble_in_purchase, ans_reason_visiting_store,\n",
    "           ans_reason_mind_visiting, ans_info_from_app, ans_info_from_youtube, ans_reason_app_youtube, ans_how_to_improve]"
   ]
  },
  {
   "cell_type": "markdown",
   "metadata": {},
   "source": [
    "From question number 4, all the questions includes multiple choices."
   ]
  },
  {
   "cell_type": "code",
   "execution_count": 10,
   "metadata": {},
   "outputs": [
    {
     "ename": "SyntaxError",
     "evalue": "invalid syntax (<ipython-input-10-b867ddace643>, line 2)",
     "output_type": "error",
     "traceback": [
      "\u001b[1;36m  File \u001b[1;32m\"<ipython-input-10-b867ddace643>\"\u001b[1;36m, line \u001b[1;32m2\u001b[0m\n\u001b[1;33m    if ''\u001b[0m\n\u001b[1;37m         ^\u001b[0m\n\u001b[1;31mSyntaxError\u001b[0m\u001b[1;31m:\u001b[0m invalid syntax\n"
     ]
    }
   ],
   "source": [
    "for ans in ans_skincare_knowledge:\n",
    "    if ''"
   ]
  },
  {
   "cell_type": "code",
   "execution_count": null,
   "metadata": {},
   "outputs": [],
   "source": [
    "len(ans_skincare_knowledge)"
   ]
  },
  {
   "cell_type": "markdown",
   "metadata": {},
   "source": [
    "## 1 - 4. (보류) Deleting the doubled option answers"
   ]
  },
  {
   "cell_type": "markdown",
   "metadata": {},
   "source": [
    "The questions able to submit the opinions are as follows:\n",
    " - Have you ever been in trouble in purchasing the skin care porducts? : 'A difficult experience in purchasing'\n",
    " - Why do you visit the offline stores instead online mall? : 'The reasons for visit'\n",
    " - Why do you mind visiting the offline stores? Why you prefer to online? : 'The reasons not to visit'\n",
    " - Why do you use the applications or youtube contents for getting the informations about skin care? : 'The reasons for use the apps or youtube'\n",
    " - Can you tell me how to improve the offline store systems to make the consumers easy to purchase the skin care products? : 'The way to improve'\n",
    " \n",
    "So I need to check the answers whether there are the doubled or not."
   ]
  },
  {
   "cell_type": "code",
   "execution_count": 18,
   "metadata": {},
   "outputs": [
    {
     "data": {
      "text/plain": [
       "['제품이 너무 다양하고 많아서 정보를 알 수 없어서;진짜 좋은 제품인지 알 수 없어서;검색이 귀찮아서',\n",
       " '제품이 너무 다양하고 많아서 정보를 알 수 없어서;진짜 좋은 제품인지 알 수 없어서',\n",
       " '진짜 좋은 제품인지 알 수 없어서',\n",
       " '제품이 너무 다양하고 많아서 정보를 알 수 없어서;피부가 민감하지 않아서 제품 다양성이 주는 혼란이 있지만, 사실 그렇게 신경쓰지 않고 사는 편(그냥 적당한 가격대에 로드샵 대표 스킨케어라인 산다)',\n",
       " '제품이 너무 다양하고 많아서 정보를 알 수 없어서',\n",
       " '제품이 너무 다양하고 많아서 정보를 알 수 없어서;매번 실패해서;진짜 좋은 제품인지 알 수 없어서',\n",
       " '진짜 좋은 제품인지 알 수 없어서;검색이 귀찮아서;더 싸게 살 수 있을 것같아서 미뤄서',\n",
       " '피부(스킨케어)에 대한 지식이 없어서;제품이 너무 다양하고 많아서 정보를 알 수 없어서;검색이 귀찮아서',\n",
       " '피부(스킨케어)에 대한 지식이 없어서;제품이 너무 다양하고 많아서 정보를 알 수 없어서;진짜 좋은 제품인지 알 수 없어서',\n",
       " '피부(스킨케어)에 대한 지식이 없어서;제품이 너무 다양하고 많아서 정보를 알 수 없어서',\n",
       " '제품이 너무 다양하고 많아서 정보를 알 수 없어서;(오프라인의 경우)직원이 불친절해서 / 혹은 접객이 미흡해서;진짜 좋은 제품인지 알 수 없어서;검색이 귀찮아서',\n",
       " '제품이 너무 다양하고 많아서 정보를 알 수 없어서;진짜 좋은 제품인지 알 수 없어서;검색이 귀찮아서;더 싸게 살 수 있을 것같아서 미뤄서',\n",
       " nan,\n",
       " '검색이 귀찮아서',\n",
       " '피부(스킨케어)에 대한 지식이 없어서',\n",
       " '피부(스킨케어)에 대한 지식이 없어서;제품이 너무 다양하고 많아서 정보를 알 수 없어서;매번 실패해서;(오프라인의 경우)직원이 불친절해서 / 혹은 접객이 미흡해서;진짜 좋은 제품인지 알 수 없어서;검색이 귀찮아서;더 싸게 살 수 있을 것같아서 미뤄서',\n",
       " '피부(스킨케어)에 대한 지식이 없어서;진짜 좋은 제품인지 알 수 없어서',\n",
       " '피부(스킨케어)에 대한 지식이 없어서;제품이 너무 다양하고 많아서 정보를 알 수 없어서;진짜 좋은 제품인지 알 수 없어서;더 싸게 살 수 있을 것같아서 미뤄서',\n",
       " '없음;검색이 귀찮아서',\n",
       " '제품이 너무 다양하고 많아서 정보를 알 수 없어서;더 싸게 살 수 있을 것같아서 미뤄서',\n",
       " '제품이 너무 다양하고 많아서 정보를 알 수 없어서;매번 실패해서',\n",
       " '제품이 너무 다양하고 많아서 정보를 알 수 없어서;진짜 좋은 제품인지 알 수 없어서;더 싸게 살 수 있을 것같아서 미뤄서',\n",
       " '제품이 너무 다양하고 많아서 정보를 알 수 없어서;검색이 귀찮아서',\n",
       " '피부(스킨케어)에 대한 지식이 없어서;진짜 좋은 제품인지 알 수 없어서;더 싸게 살 수 있을 것같아서 미뤄서',\n",
       " '피부(스킨케어)에 대한 지식이 없어서;제품이 너무 다양하고 많아서 정보를 알 수 없어서;매번 실패해서',\n",
       " '없음',\n",
       " '매번 실패해서',\n",
       " '피부(스킨케어)에 대한 지식이 없어서;제품이 너무 다양하고 많아서 정보를 알 수 없어서;진짜 좋은 제품인지 알 수 없어서;검색이 귀찮아서',\n",
       " '피부(스킨케어)에 대한 지식이 없어서;제품이 너무 다양하고 많아서 정보를 알 수 없어서;더 싸게 살 수 있을 것같아서 미뤄서',\n",
       " '제품이 너무 다양하고 많아서 정보를 알 수 없어서;진짜 좋은 제품인지 알 수 없어서;더 싸게 살 수 있을 것같아서 미뤄서;다른브랜드의 비슷한기능의제품들중 선택하기 어려워서',\n",
       " '매번 실패해서;유명하고 좋은 제품이라 해도 직접 사용했을 때 트러블이 난 적이 많아서.',\n",
       " '진짜 좋은 제품인지 알 수 없어서;더 싸게 살 수 있을 것같아서 미뤄서',\n",
       " '제품이 너무 다양하고 많아서 정보를 알 수 없어서;(오프라인의 경우)직원이 불친절해서 / 혹은 접객이 미흡해서;더 싸게 살 수 있을 것같아서 미뤄서',\n",
       " '제품이 너무 다양하고 많아서 정보를 알 수 없어서;매번 실패해서;진짜 좋은 제품인지 알 수 없어서;더 싸게 살 수 있을 것같아서 미뤄서;트러블이 잘 나는 피부에 한 번 트러블이 나면 되돌리기가 힘들기 때문에 기초제품은 새로운 것으로 구매하기에 리스크가 크다고 느낀다. (개인적 입장)',\n",
       " '제품이 너무 다양하고 많아서 정보를 알 수 없어서;검색이 귀찮아서;더 싸게 살 수 있을 것같아서 미뤄서',\n",
       " '없음;물어보면 잘 알려주던뎅',\n",
       " '제품이 너무 다양하고 많아서 정보를 알 수 없어서;(오프라인의 경우)직원이 불친절해서 / 혹은 접객이 미흡해서']"
      ]
     },
     "execution_count": 18,
     "metadata": {},
     "output_type": "execute_result"
    }
   ],
   "source": [
    "ans_trouble_in_purchase"
   ]
  },
  {
   "cell_type": "markdown",
   "metadata": {},
   "source": [
    "# 2. Classifying the respondents : as customers, purchaser and the related."
   ]
  },
  {
   "cell_type": "markdown",
   "metadata": {},
   "source": [
    "1. related : The respondents who answered '업계에 종사하고 있어요.'\n",
    "2. customer : The respondents who did not answer '업계에 종사하고 있어요.'\n",
    "3. purchasers : The respondents who have ever purchased any skin care products"
   ]
  },
  {
   "cell_type": "code",
   "execution_count": 3,
   "metadata": {},
   "outputs": [],
   "source": [
    "related = pd.DataFrame(columns = data.columns)\n",
    "customers =  pd.DataFrame(columns = data.columns)\n",
    "purchasers =  pd.DataFrame(columns = data.columns)"
   ]
  },
  {
   "cell_type": "code",
   "execution_count": 4,
   "metadata": {},
   "outputs": [],
   "source": [
    "for i, ans in enumerate(data.iloc[:, 4]):\n",
    "    if type(ans) is not str:    # the respendents who have never purchased the related products - ignore\n",
    "        customers = customers.append(data.iloc[i])\n",
    "        continue\n",
    "    purchasers = purchasers.append(data.iloc[i])\n",
    "    if '업계에 종사하고 있어요.' in ans:\n",
    "        related = related.append(data.iloc[i])\n",
    "    else:\n",
    "        customers = customers.append(data.iloc[i])"
   ]
  },
  {
   "cell_type": "code",
   "execution_count": 5,
   "metadata": {},
   "outputs": [
    {
     "data": {
      "text/plain": [
       "(3, 12)"
      ]
     },
     "execution_count": 5,
     "metadata": {},
     "output_type": "execute_result"
    }
   ],
   "source": [
    "related.shape"
   ]
  },
  {
   "cell_type": "code",
   "execution_count": 6,
   "metadata": {},
   "outputs": [
    {
     "data": {
      "text/plain": [
       "(132, 12)"
      ]
     },
     "execution_count": 6,
     "metadata": {},
     "output_type": "execute_result"
    }
   ],
   "source": [
    "customers.shape"
   ]
  },
  {
   "cell_type": "code",
   "execution_count": 7,
   "metadata": {},
   "outputs": [
    {
     "data": {
      "text/plain": [
       "(122, 12)"
      ]
     },
     "execution_count": 7,
     "metadata": {},
     "output_type": "execute_result"
    }
   ],
   "source": [
    "purchasers.shape"
   ]
  },
  {
   "cell_type": "markdown",
   "metadata": {},
   "source": [
    "# 3. Recognition of offline/online store"
   ]
  },
  {
   "cell_type": "markdown",
   "metadata": {},
   "source": [
    "## 3 - 1. The reasons why the customers mind visiting offline store"
   ]
  },
  {
   "cell_type": "markdown",
   "metadata": {},
   "source": [
    "오프라인 매장 방문을 꺼리는 이유 살피기"
   ]
  },
  {
   "cell_type": "code",
   "execution_count": 11,
   "metadata": {},
   "outputs": [
    {
     "data": {
      "text/plain": [
       "{'오프라인 매장 방문을 꺼리지 않아요!': 58,\n",
       " '온라인 쇼핑에 익숙해져서': 20,\n",
       " '혼자 비교하고 결정하고 싶어서': 20,\n",
       " '직원들의 접객이 불편해서': 28,\n",
       " '혜택이 더 다양하고 많아서': 16,\n",
       " '집에서 나가고 싶지 않아서': 15,\n",
       " '온라인이 더 싸요': 1,\n",
       " '어플, 유튜브, 방송 등 스스로도 충분히 정보를 얻을 수 있어서': 18,\n",
       " '사람 많은 곳을 좋아하지 않아서': 1,\n",
       " '귀찮아서': 1,\n",
       " '온라인으로 더 저렴히 구매가능해서': 1,\n",
       " '온라인으로 받을 수 있는 혜택(ex.할인)이 많아서': 1,\n",
       " '나가기귀찮아서': 1}"
      ]
     },
     "execution_count": 11,
     "metadata": {},
     "output_type": "execute_result"
    }
   ],
   "source": [
    "answers_count = dict()\n",
    "answers = list(purchasers.iloc[:, 7])\n",
    "\n",
    "for answer in answers:\n",
    "    if ';' in answer:\n",
    "        for ans in answer.split(';'):\n",
    "            if ans not in answers_count.keys():\n",
    "                answers_count[ans] = 1\n",
    "            else:\n",
    "                answers_count[ans] += 1\n",
    "    else:\n",
    "        if answer not in answers_count.keys():\n",
    "            answers_count[answer] = 1\n",
    "        else:\n",
    "            answers_count[answer] += 1\n",
    "answers_count"
   ]
  },
  {
   "cell_type": "markdown",
   "metadata": {},
   "source": [
    "오프라인 방문을 꺼리지 않는다고 답한 사람들이 꺼리는 이유를 선택한 경우도 있었다.\n",
    "\n",
    "선택의 이유는 아래의 경우라고 추정할 수 있다.\n",
    "\n",
    "1. 본인은 오프라인 방문을 꺼리지 않지만, 사람들이 생각한 이유에 대해서 추측한 답변\n",
    "2. 오프라인 매장 방문을 꺼리지는 않지만, 한 번씩 불편함을 느끼는 정도\n",
    "3. 업계 종사자가 느낀 일반 고객들의 생각\n",
    "4. 기타\n",
    "\n",
    "중복된 답변은 아래와 같이 처리하자.\n",
    "\n",
    "1. '귀찮'이라는 답변이 들어간 내용은 '집에서 나가고 싶지 않아서'로 합친다.\n",
    "2. '온라인', '혜택', '저렴'이라는 단어가 들어간 답변은 '온라인에서의 혜택이 더 다양하고 많아서'라는 답변으로 고친다.\n",
    "3. 기타(추가 사항이 있다면 기록해두기)"
   ]
  },
  {
   "cell_type": "code",
   "execution_count": 12,
   "metadata": {},
   "outputs": [
    {
     "data": {
      "text/plain": [
       "{'오프라인 매장 방문을 꺼리지 않아요!': 58,\n",
       " '온라인 쇼핑에 익숙해져서': 20,\n",
       " '혼자 비교하고 결정하고 싶어서': 20,\n",
       " '직원들의 접객이 불편해서': 28,\n",
       " '혜택이 더 다양하고 많아서': 19,\n",
       " '집에서 나가고 싶지 않아서': 17,\n",
       " '온라인이 더 싸요': 0,\n",
       " '어플, 유튜브, 방송 등 스스로도 충분히 정보를 얻을 수 있어서': 18,\n",
       " '사람 많은 곳을 좋아하지 않아서': 1,\n",
       " '귀찮아서': 0,\n",
       " '온라인으로 더 저렴히 구매가능해서': 0,\n",
       " '온라인으로 받을 수 있는 혜택(ex.할인)이 많아서': 0,\n",
       " '나가기귀찮아서': 0}"
      ]
     },
     "execution_count": 12,
     "metadata": {},
     "output_type": "execute_result"
    }
   ],
   "source": [
    "import re\n",
    "\n",
    "for key, value in answers_count.items():\n",
    "    if '귀찮' in key:\n",
    "#         print(key)\n",
    "        answers_count['집에서 나가고 싶지 않아서'] += value\n",
    "        answers_count[key] = 0\n",
    "    elif re.search('온라인.+(혜택|싸[요다서]|저렴)', key):\n",
    "#         print(key)\n",
    "        answers_count['혜택이 더 다양하고 많아서'] += value\n",
    "        answers_count[key] = 0\n",
    "\n",
    "answers_count"
   ]
  },
  {
   "cell_type": "code",
   "execution_count": 13,
   "metadata": {},
   "outputs": [
    {
     "data": {
      "text/plain": [
       "{'오프라인 매장 방문을 꺼리지 않아요!': 58,\n",
       " '온라인 쇼핑에 익숙해져서': 20,\n",
       " '혼자 비교하고 결정하고 싶어서': 20,\n",
       " '직원들의 접객이 불편해서': 28,\n",
       " '집에서 나가고 싶지 않아서': 17,\n",
       " '온라인이 더 싸요': 0,\n",
       " '어플, 유튜브, 방송 등 스스로도 충분히 정보를 얻을 수 있어서': 18,\n",
       " '사람 많은 곳을 좋아하지 않아서': 1,\n",
       " '귀찮아서': 0,\n",
       " '온라인으로 더 저렴히 구매가능해서': 0,\n",
       " '온라인으로 받을 수 있는 혜택(ex.할인)이 많아서': 0,\n",
       " '나가기귀찮아서': 0,\n",
       " '온라인 구매가 혜택이 더 다양하고 많아서': 19}"
      ]
     },
     "execution_count": 13,
     "metadata": {},
     "output_type": "execute_result"
    }
   ],
   "source": [
    "# dictionary[new_key] = dictionary.pop(old_key)\n",
    "answers_count['온라인 구매가 혜택이 더 다양하고 많아서'] = answers_count.pop('혜택이 더 다양하고 많아서')\n",
    "answers_count"
   ]
  },
  {
   "cell_type": "code",
   "execution_count": 14,
   "metadata": {},
   "outputs": [
    {
     "data": {
      "text/plain": [
       "{'오프라인 매장 방문을 꺼리지 않아요!': 58,\n",
       " '온라인 쇼핑에 익숙해져서': 20,\n",
       " '혼자 비교하고 결정하고 싶어서': 20,\n",
       " '직원들의 접객이 불편해서': 28,\n",
       " '집에서 나가고 싶지 않아서': 17,\n",
       " '어플, 유튜브, 방송 등 스스로도 충분히 정보를 얻을 수 있어서': 18,\n",
       " '사람 많은 곳을 좋아하지 않아서': 1,\n",
       " '온라인 구매가 혜택이 더 다양하고 많아서': 19}"
      ]
     },
     "execution_count": 14,
     "metadata": {},
     "output_type": "execute_result"
    }
   ],
   "source": [
    "answers = dict()\n",
    "\n",
    "for k, v in answers_count.items():\n",
    "    if v:\n",
    "        answers[k] = v\n",
    "\n",
    "answers"
   ]
  },
  {
   "cell_type": "code",
   "execution_count": 32,
   "metadata": {},
   "outputs": [
    {
     "name": "stdout",
     "output_type": "stream",
     "text": [
      "['온라인 쇼핑에 익숙해져서', '혼자 비교하고 결정하고 싶어서']\n",
      "['혜택이 더 다양하고 많아서']\n",
      "['직원들의 접객이 불편해서']\n",
      "['온라인 쇼핑에 익숙해져서', '혜택이 더 다양하고 많아서', '어플, 유튜브, 방송 등 스스로도 충분히 정보를 얻을 수 있어서']\n",
      "['귀찮아서']\n",
      "['직원들의 접객이 불편해서']\n",
      "['온라인으로 받을 수 있는 혜택(ex.할인)이 많아서']\n",
      "['어플, 유튜브, 방송 등 스스로도 충분히 정보를 얻을 수 있어서']\n",
      "['집에서 나가고 싶지 않아서']\n",
      "['온라인 쇼핑에 익숙해져서']\n",
      "오프라인 매장 방문을 조금이라도 꺼리는 고객의 비율 : 60.66%\n",
      "온라인을 선호하기 떄문에 굳이 매장에 오지 않는 고객의 비율 : 31.08%\n",
      "접객이 불편하거나 혼자 의사결정을 하고 싶은 고객의 비율 : 44.59%\n"
     ]
    }
   ],
   "source": [
    "'''\n",
    "오프라인 매장 방문을 조금이라도 꺼리는 사람들의 비율\n",
    "     = \"오프라인 방문을 꺼리지 않아요\"를 선택하지 않은 사람들\n",
    "        + 꺼리지 않지만, 이유는 알겠는 사람들\n",
    "구매 경험이 있는 사람들(purchaser) 중에서 살피기\n",
    "'''\n",
    "\n",
    "num_mind_visiting, num_prefer_online, num_dislike_hospitality = 0, 0, 0\n",
    "\n",
    "for ans in purchasers.iloc[:, 7]:\n",
    "    if re.search('오프라인 매장 방문을 꺼리지 않아요!', ans):\n",
    "        if ';' in ans:\n",
    "            print(ans.split(';')[1:])\n",
    "        else:\n",
    "            continue\n",
    "    num_mind_visiting += 1\n",
    "    if re.search('온라인', ans):\n",
    "        num_prefer_online += 1\n",
    "    elif re.search('(혼자|직원(접객)?)', ans):\n",
    "        num_dislike_hospitality += 1\n",
    "        \n",
    "print(f'오프라인 매장 방문을 조금이라도 꺼리는 고객의 비율 : {round(num_mind_visiting*100/purchasers.shape[0], 2)}%')\n",
    "print(f'온라인을 선호하기 떄문에 굳이 매장에 오지 않는 고객의 비율 : {round(num_prefer_online*100/num_mind_visiting, 2)}%') # 오프라인을 조금이라도 꺼리는 사람들 중 온라인을 선호기 때문에 굳이 오프라인에 방문하지 않는 비율 찾기\n",
    "print(f'접객이 불편하거나 혼자 의사결정을 하고 싶은 고객의 비율 : {round(num_dislike_hospitality*100/num_mind_visiting, 2)}%')"
   ]
  },
  {
   "cell_type": "markdown",
   "metadata": {},
   "source": [
    "접객이 불편하거나 혼자 의사결정을 하고 싶은 고객의 정보 좀 더 살피기\n",
    "\n",
    "1. 연령대\n",
    "2. 성별\n",
    "3. 후보군 추천 희망 비율"
   ]
  },
  {
   "cell_type": "code",
   "execution_count": 16,
   "metadata": {},
   "outputs": [
    {
     "name": "stdout",
     "output_type": "stream",
     "text": [
      "33\n"
     ]
    }
   ],
   "source": [
    "print(num_dislike_hospitality)"
   ]
  },
  {
   "cell_type": "code",
   "execution_count": 17,
   "metadata": {},
   "outputs": [
    {
     "data": {
      "text/html": [
       "<div>\n",
       "<style scoped>\n",
       "    .dataframe tbody tr th:only-of-type {\n",
       "        vertical-align: middle;\n",
       "    }\n",
       "\n",
       "    .dataframe tbody tr th {\n",
       "        vertical-align: top;\n",
       "    }\n",
       "\n",
       "    .dataframe thead th {\n",
       "        text-align: right;\n",
       "    }\n",
       "</style>\n",
       "<table border=\"1\" class=\"dataframe\">\n",
       "  <thead>\n",
       "    <tr style=\"text-align: right;\">\n",
       "      <th></th>\n",
       "      <th>타임스탬프</th>\n",
       "      <th>연령대를 선택해주세요. (2020 - \"출생년도\" + 1의 결과값)</th>\n",
       "      <th>성별을 선택해주세요</th>\n",
       "      <th>기초제품을 구매하거나 선물한 적이 있나요?</th>\n",
       "      <th>평소 화장품에 대한 관심/지식은 어느정도인가요? (복수응답 가능)</th>\n",
       "      <th>기초제품 구매 시, 선택에 어려움을 겪은 적이 있나요? 그 이유를 말씀해주세요. (복수응답가능)</th>\n",
       "      <th>화장품 구매에 있어, 오프라인 매장 방문의 목적이 무엇인가요? (복수응답)</th>\n",
       "      <th>오프라인 매장 방문을 꺼리는 이유는 무엇인가요?</th>\n",
       "      <th>화장품과 관련하여 유튜브로 정보를 탐색하시나요?</th>\n",
       "      <th>화장품과 관련한 어플을 사용하시나요? (화해, 글로우픽 등)</th>\n",
       "      <th>화장품과 관련하여 유튜브 혹은 어플을 사용하는 이유는 무엇인가요?</th>\n",
       "      <th>어떻게 하면 기초 제품 구매가 더 편리할 것 같아요? (복수응답가능)</th>\n",
       "    </tr>\n",
       "  </thead>\n",
       "  <tbody>\n",
       "    <tr>\n",
       "      <th>0</th>\n",
       "      <td>2020/05/18 5:26:50 오후 GMT+9</td>\n",
       "      <td>20 ~ 24세</td>\n",
       "      <td>여성</td>\n",
       "      <td>예</td>\n",
       "      <td>건성, 복합성, 지성이 무엇인지는 알고 있어요.;비타민이 미백에 좋다는 것, 시카와...</td>\n",
       "      <td>제품이 너무 다양하고 많아서 정보를 알 수 없어서;진짜 좋은 제품인지 알 수 없어서...</td>\n",
       "      <td>제품을 직접 테스트하고 크기 등을 보려고;사람에게 물어보고 구매하고 싶어서;온라인 ...</td>\n",
       "      <td>오프라인 매장 방문을 꺼리지 않아요!</td>\n",
       "      <td>1.0</td>\n",
       "      <td>0.0</td>\n",
       "      <td>언젠가 구매할지도 모르니까;색조, 메이트업베이스 등에 대한 정보를 얻기 위해</td>\n",
       "      <td>직원의 대면 응대를 활성화해주세요(상담은 사람과 만나서 하고 싶어요, 추천받은 제품...</td>\n",
       "    </tr>\n",
       "    <tr>\n",
       "      <th>1</th>\n",
       "      <td>2020/05/18 5:43:14 오후 GMT+9</td>\n",
       "      <td>20 ~ 24세</td>\n",
       "      <td>여성</td>\n",
       "      <td>예</td>\n",
       "      <td>비타민이 미백에 좋다는 것, 시카와 티트리 성분이 진정효과가 있다는 것 등을 알고 ...</td>\n",
       "      <td>제품이 너무 다양하고 많아서 정보를 알 수 없어서;진짜 좋은 제품인지 알 수 없어서</td>\n",
       "      <td>제품을 직접 테스트하고 크기 등을 보려고</td>\n",
       "      <td>오프라인 매장 방문을 꺼리지 않아요!;온라인 쇼핑에 익숙해져서;혼자 비교하고 결정하...</td>\n",
       "      <td>0.0</td>\n",
       "      <td>0.0</td>\n",
       "      <td>사용하지 않음</td>\n",
       "      <td>비대면 응대를 활성화해주세요(낯을 가려요, 집에서 쇼핑하고 싶어요, 혼자 고민하고 ...</td>\n",
       "    </tr>\n",
       "    <tr>\n",
       "      <th>2</th>\n",
       "      <td>2020/05/18 5:44:06 오후 GMT+9</td>\n",
       "      <td>20 ~ 24세</td>\n",
       "      <td>여성</td>\n",
       "      <td>예</td>\n",
       "      <td>건성, 복합성, 지성이 무엇인지는 알고 있어요.;비타민이 미백에 좋다는 것, 시카와...</td>\n",
       "      <td>제품이 너무 다양하고 많아서 정보를 알 수 없어서;진짜 좋은 제품인지 알 수 없어서</td>\n",
       "      <td>제품을 직접 테스트하고 크기 등을 보려고;사람에게 물어보고 구매하고 싶어서</td>\n",
       "      <td>직원들의 접객이 불편해서;혜택이 더 다양하고 많아서</td>\n",
       "      <td>3.0</td>\n",
       "      <td>1.0</td>\n",
       "      <td>유행을 알고 싶어서;색조, 메이트업베이스 등에 대한 정보를 얻기 위해</td>\n",
       "      <td>직원의 대면 응대를 활성화해주세요(상담은 사람과 만나서 하고 싶어요, 추천받은 제품...</td>\n",
       "    </tr>\n",
       "  </tbody>\n",
       "</table>\n",
       "</div>"
      ],
      "text/plain": [
       "                         타임스탬프 연령대를 선택해주세요. (2020 - \"출생년도\" + 1의 결과값)  \\\n",
       "0  2020/05/18 5:26:50 오후 GMT+9                              20 ~ 24세   \n",
       "1  2020/05/18 5:43:14 오후 GMT+9                              20 ~ 24세   \n",
       "2  2020/05/18 5:44:06 오후 GMT+9                              20 ~ 24세   \n",
       "\n",
       "  성별을 선택해주세요 기초제품을 구매하거나 선물한 적이 있나요?  \\\n",
       "0         여성                       예   \n",
       "1         여성                       예   \n",
       "2         여성                       예   \n",
       "\n",
       "                평소 화장품에 대한 관심/지식은 어느정도인가요? (복수응답 가능)  \\\n",
       "0  건성, 복합성, 지성이 무엇인지는 알고 있어요.;비타민이 미백에 좋다는 것, 시카와...   \n",
       "1  비타민이 미백에 좋다는 것, 시카와 티트리 성분이 진정효과가 있다는 것 등을 알고 ...   \n",
       "2  건성, 복합성, 지성이 무엇인지는 알고 있어요.;비타민이 미백에 좋다는 것, 시카와...   \n",
       "\n",
       "  기초제품 구매 시, 선택에 어려움을 겪은 적이 있나요? 그 이유를 말씀해주세요. (복수응답가능)  \\\n",
       "0  제품이 너무 다양하고 많아서 정보를 알 수 없어서;진짜 좋은 제품인지 알 수 없어서...      \n",
       "1     제품이 너무 다양하고 많아서 정보를 알 수 없어서;진짜 좋은 제품인지 알 수 없어서      \n",
       "2     제품이 너무 다양하고 많아서 정보를 알 수 없어서;진짜 좋은 제품인지 알 수 없어서      \n",
       "\n",
       "           화장품 구매에 있어, 오프라인 매장 방문의 목적이 무엇인가요? (복수응답)  \\\n",
       "0  제품을 직접 테스트하고 크기 등을 보려고;사람에게 물어보고 구매하고 싶어서;온라인 ...   \n",
       "1                             제품을 직접 테스트하고 크기 등을 보려고   \n",
       "2          제품을 직접 테스트하고 크기 등을 보려고;사람에게 물어보고 구매하고 싶어서   \n",
       "\n",
       "                          오프라인 매장 방문을 꺼리는 이유는 무엇인가요?  \\\n",
       "0                               오프라인 매장 방문을 꺼리지 않아요!   \n",
       "1  오프라인 매장 방문을 꺼리지 않아요!;온라인 쇼핑에 익숙해져서;혼자 비교하고 결정하...   \n",
       "2                       직원들의 접객이 불편해서;혜택이 더 다양하고 많아서   \n",
       "\n",
       "   화장품과 관련하여 유튜브로 정보를 탐색하시나요?  화장품과 관련한 어플을 사용하시나요? (화해, 글로우픽 등)  \\\n",
       "0                         1.0                                0.0   \n",
       "1                         0.0                                0.0   \n",
       "2                         3.0                                1.0   \n",
       "\n",
       "         화장품과 관련하여 유튜브 혹은 어플을 사용하는 이유는 무엇인가요?  \\\n",
       "0  언젠가 구매할지도 모르니까;색조, 메이트업베이스 등에 대한 정보를 얻기 위해   \n",
       "1                                     사용하지 않음   \n",
       "2      유행을 알고 싶어서;색조, 메이트업베이스 등에 대한 정보를 얻기 위해   \n",
       "\n",
       "              어떻게 하면 기초 제품 구매가 더 편리할 것 같아요? (복수응답가능)  \n",
       "0  직원의 대면 응대를 활성화해주세요(상담은 사람과 만나서 하고 싶어요, 추천받은 제품...  \n",
       "1  비대면 응대를 활성화해주세요(낯을 가려요, 집에서 쇼핑하고 싶어요, 혼자 고민하고 ...  \n",
       "2  직원의 대면 응대를 활성화해주세요(상담은 사람과 만나서 하고 싶어요, 추천받은 제품...  "
      ]
     },
     "execution_count": 17,
     "metadata": {},
     "output_type": "execute_result"
    }
   ],
   "source": [
    "purchasers.head(3)"
   ]
  },
  {
   "cell_type": "markdown",
   "metadata": {},
   "source": [
    "7번째 질문에서 혼자 의사결정 혹은 접객 불편을 선택했다면\n",
    "\n",
    "그사람의 연령대, 성별, 어떻게 하면~의 응답(11)을 기록"
   ]
  },
  {
   "cell_type": "code",
   "execution_count": 18,
   "metadata": {},
   "outputs": [
    {
     "data": {
      "text/plain": [
       "['연령대를 선택해주세요. (2020 - \"출생년도\" + 1의 결과값)',\n",
       " '성별을 선택해주세요',\n",
       " '기초제품을 구매하거나 선물한 적이 있나요?',\n",
       " '평소 화장품에 대한 관심/지식은 어느정도인가요? (복수응답 가능)',\n",
       " '기초제품 구매 시, 선택에 어려움을 겪은 적이 있나요? 그 이유를 말씀해주세요. (복수응답가능)',\n",
       " '화장품 구매에 있어, 오프라인 매장 방문의 목적이 무엇인가요? (복수응답)',\n",
       " '오프라인 매장 방문을 꺼리는 이유는 무엇인가요?',\n",
       " '화장품과 관련하여 유튜브로 정보를 탐색하시나요?',\n",
       " '화장품과 관련한 어플을 사용하시나요? (화해, 글로우픽 등)',\n",
       " '화장품과 관련하여 유튜브 혹은 어플을 사용하는 이유는 무엇인가요?',\n",
       " '어떻게 하면 기초 제품 구매가 더 편리할 것 같아요? (복수응답가능)']"
      ]
     },
     "execution_count": 18,
     "metadata": {},
     "output_type": "execute_result"
    }
   ],
   "source": [
    "ques"
   ]
  },
  {
   "cell_type": "code",
   "execution_count": 19,
   "metadata": {},
   "outputs": [
    {
     "data": {
      "text/html": [
       "<div>\n",
       "<style scoped>\n",
       "    .dataframe tbody tr th:only-of-type {\n",
       "        vertical-align: middle;\n",
       "    }\n",
       "\n",
       "    .dataframe tbody tr th {\n",
       "        vertical-align: top;\n",
       "    }\n",
       "\n",
       "    .dataframe thead th {\n",
       "        text-align: right;\n",
       "    }\n",
       "</style>\n",
       "<table border=\"1\" class=\"dataframe\">\n",
       "  <thead>\n",
       "    <tr style=\"text-align: right;\">\n",
       "      <th></th>\n",
       "      <th>연령대를 선택해주세요. (2020 - \"출생년도\" + 1의 결과값)</th>\n",
       "      <th>성별을 선택해주세요</th>\n",
       "      <th>오프라인 매장 방문을 꺼리는 이유는 무엇인가요?</th>\n",
       "      <th>어떻게 하면 기초 제품 구매가 더 편리할 것 같아요? (복수응답가능)</th>\n",
       "    </tr>\n",
       "  </thead>\n",
       "  <tbody>\n",
       "    <tr>\n",
       "      <th>0</th>\n",
       "      <td>20 ~ 24세</td>\n",
       "      <td>여성</td>\n",
       "      <td>오프라인 매장 방문을 꺼리지 않아요!</td>\n",
       "      <td>직원의 대면 응대를 활성화해주세요(상담은 사람과 만나서 하고 싶어요, 추천받은 제품...</td>\n",
       "    </tr>\n",
       "    <tr>\n",
       "      <th>1</th>\n",
       "      <td>20 ~ 24세</td>\n",
       "      <td>여성</td>\n",
       "      <td>오프라인 매장 방문을 꺼리지 않아요!;온라인 쇼핑에 익숙해져서;혼자 비교하고 결정하...</td>\n",
       "      <td>비대면 응대를 활성화해주세요(낯을 가려요, 집에서 쇼핑하고 싶어요, 혼자 고민하고 ...</td>\n",
       "    </tr>\n",
       "    <tr>\n",
       "      <th>2</th>\n",
       "      <td>20 ~ 24세</td>\n",
       "      <td>여성</td>\n",
       "      <td>직원들의 접객이 불편해서;혜택이 더 다양하고 많아서</td>\n",
       "      <td>직원의 대면 응대를 활성화해주세요(상담은 사람과 만나서 하고 싶어요, 추천받은 제품...</td>\n",
       "    </tr>\n",
       "    <tr>\n",
       "      <th>3</th>\n",
       "      <td>19세 이하</td>\n",
       "      <td>여성</td>\n",
       "      <td>오프라인 매장 방문을 꺼리지 않아요!</td>\n",
       "      <td>특징별로 상품에 대한 요약 정리를 해주세요(보습라인 : 가,나,다 / 여드름 진정 ...</td>\n",
       "    </tr>\n",
       "    <tr>\n",
       "      <th>4</th>\n",
       "      <td>20 ~ 24세</td>\n",
       "      <td>여성</td>\n",
       "      <td>오프라인 매장 방문을 꺼리지 않아요!</td>\n",
       "      <td>특징별로 상품에 대한 요약 정리를 해주세요(보습라인 : 가,나,다 / 여드름 진정 ...</td>\n",
       "    </tr>\n",
       "  </tbody>\n",
       "</table>\n",
       "</div>"
      ],
      "text/plain": [
       "  연령대를 선택해주세요. (2020 - \"출생년도\" + 1의 결과값) 성별을 선택해주세요  \\\n",
       "0                              20 ~ 24세         여성   \n",
       "1                              20 ~ 24세         여성   \n",
       "2                              20 ~ 24세         여성   \n",
       "3                                19세 이하         여성   \n",
       "4                              20 ~ 24세         여성   \n",
       "\n",
       "                          오프라인 매장 방문을 꺼리는 이유는 무엇인가요?  \\\n",
       "0                               오프라인 매장 방문을 꺼리지 않아요!   \n",
       "1  오프라인 매장 방문을 꺼리지 않아요!;온라인 쇼핑에 익숙해져서;혼자 비교하고 결정하...   \n",
       "2                       직원들의 접객이 불편해서;혜택이 더 다양하고 많아서   \n",
       "3                               오프라인 매장 방문을 꺼리지 않아요!   \n",
       "4                               오프라인 매장 방문을 꺼리지 않아요!   \n",
       "\n",
       "              어떻게 하면 기초 제품 구매가 더 편리할 것 같아요? (복수응답가능)  \n",
       "0  직원의 대면 응대를 활성화해주세요(상담은 사람과 만나서 하고 싶어요, 추천받은 제품...  \n",
       "1  비대면 응대를 활성화해주세요(낯을 가려요, 집에서 쇼핑하고 싶어요, 혼자 고민하고 ...  \n",
       "2  직원의 대면 응대를 활성화해주세요(상담은 사람과 만나서 하고 싶어요, 추천받은 제품...  \n",
       "3  특징별로 상품에 대한 요약 정리를 해주세요(보습라인 : 가,나,다 / 여드름 진정 ...  \n",
       "4  특징별로 상품에 대한 요약 정리를 해주세요(보습라인 : 가,나,다 / 여드름 진정 ...  "
      ]
     },
     "execution_count": 19,
     "metadata": {},
     "output_type": "execute_result"
    }
   ],
   "source": [
    "df_purchasers = purchasers[[ques[0], ques[1], ques[6], ques[10]]]\n",
    "df_purchasers.head()"
   ]
  },
  {
   "cell_type": "code",
   "execution_count": 20,
   "metadata": {},
   "outputs": [
    {
     "data": {
      "text/plain": [
       "'20 ~ 24세'"
      ]
     },
     "execution_count": 20,
     "metadata": {},
     "output_type": "execute_result"
    }
   ],
   "source": [
    "df_purchasers.iloc[0, 0]"
   ]
  },
  {
   "cell_type": "code",
   "execution_count": 24,
   "metadata": {},
   "outputs": [],
   "source": [
    "ages = {}\n",
    "gender = {'여성' : 0, '남성' : 0, '기타' : 0, '응답을 원하지 않음' : 0}\n",
    "like_recomendation_sys = 0\n",
    "basic_ways = [\n",
    "    '직원의 대면 응대를 활성화해주세요(상담은 사람과 만나서 하고 싶어요, 추천받은 제품을 사는 것이 마음 편해요 등)',\n",
    "'비대면 응대를 활성화해주세요(낯을 가려요, 집에서 쇼핑하고 싶어요, 혼자 고민하고 싶어요 등)',\n",
    "'특징별로 상품에 대한 요약 정리를 해주세요(보습라인 : 가,나,다 / 여드름 진정 : A,B,C / 미백라인 : x,y,z 등)',\n",
    "'응답을 원하지 않아요']\n",
    "other_ways = []\n",
    "\n",
    "for age in list(df_purchasers.iloc[:, 0].unique()):\n",
    "    ages[age] = 0\n",
    "    \n",
    "i = 0\n",
    "for reason in df_purchasers.iloc[:, 2]:\n",
    "    if re.search('(혼자|직원(접객)?)', reason):\n",
    "        ages[df_purchasers.iloc[i, 0]] += 1\n",
    "        gender[df_purchasers.iloc[i, 1]] += 1\n",
    "        \n",
    "        if re.search('(요약|정리)', df_purchasers.iloc[i, 3]):\n",
    "            like_recomendation_sys += 1\n",
    "    i += 1\n",
    "    \n",
    "    \n",
    "basic_ways = [\n",
    "    '직원의 대면 응대를 활성화해주세요(상담은 사람과 만나서 하고 싶어요, 추천받은 제품을 사는 것이 마음 편해요 등)',\n",
    "'비대면 응대를 활성화해주세요(낯을 가려요, 집에서 쇼핑하고 싶어요, 혼자 고민하고 싶어요 등)',\n",
    "'특징별로 상품에 대한 요약 정리를 해주세요(보습라인 : 가,나,다 / 여드름 진정 : A,B,C / 미백라인 : x,y,z 등)',\n",
    "'응답을 원하지 않아요']\n",
    "other_ways = []\n",
    "for way in df_purchasers.iloc[:, 3]:\n",
    "    if ';' in way:\n",
    "        for w in way.split(';'):\n",
    "            if w not in basic_ways:\n",
    "                other_ways.append(w)\n",
    "    else:\n",
    "        if way not in basic_ways:\n",
    "            other_ways.append(way)"
   ]
  },
  {
   "cell_type": "code",
   "execution_count": 25,
   "metadata": {},
   "outputs": [
    {
     "data": {
      "text/plain": [
       "{'20 ~ 24세': 21,\n",
       " '19세 이하': 6,\n",
       " '25 ~ 29세': 9,\n",
       " '40 ~ 44세': 2,\n",
       " '30 ~ 34세': 2,\n",
       " '35 ~ 39세': 0,\n",
       " '응답을 원하지 않음': 0,\n",
       " '45 ~ 49세': 0,\n",
       " '50 ~ 59세': 1}"
      ]
     },
     "execution_count": 25,
     "metadata": {},
     "output_type": "execute_result"
    }
   ],
   "source": [
    "ages"
   ]
  },
  {
   "cell_type": "code",
   "execution_count": 26,
   "metadata": {},
   "outputs": [
    {
     "data": {
      "text/plain": [
       "{'여성': 34, '남성': 7, '기타': 0, '응답을 원하지 않음': 0}"
      ]
     },
     "execution_count": 26,
     "metadata": {},
     "output_type": "execute_result"
    }
   ],
   "source": [
    "gender"
   ]
  },
  {
   "cell_type": "code",
   "execution_count": 27,
   "metadata": {},
   "outputs": [
    {
     "data": {
      "text/plain": [
       "35"
      ]
     },
     "execution_count": 27,
     "metadata": {},
     "output_type": "execute_result"
    }
   ],
   "source": [
    "like_recomendation_sys"
   ]
  },
  {
   "cell_type": "code",
   "execution_count": 28,
   "metadata": {},
   "outputs": [
    {
     "data": {
      "text/plain": [
       "['사실 특징별로 상품요약은 잘되어있는편이라고 생각하는데 특히 화장품업계에서 무분별한 광고가 오히려 소비자들에게 혼란을 준다고 생각합니당',\n",
       " \"보통 하나의 브랜드별로는 분류 및 표기가 잘 되어있는데 사실 매장가서 고민하고 검색하는건 여러 브랜드간의 여드름진정라인 비교를 하는것 같아요. 직원분께 추천받는것도 한 브랜드내에서 제품군을 비교받기보단 모든 브랜드 통틀어서 내가 원하는 성분을 포함한 것 중 가성비가 좋거나 '효과'좋은 걸 추천받고 싶으니까요!\",\n",
       " '특징별 요약 + 상품별 비교가 잘 되어있으면 편할 거 같습니다',\n",
       " '알레르기 유발성분을 정리 해주세요']"
      ]
     },
     "execution_count": 28,
     "metadata": {},
     "output_type": "execute_result"
    }
   ],
   "source": [
    "other_ways"
   ]
  },
  {
   "cell_type": "code",
   "execution_count": 38,
   "metadata": {},
   "outputs": [
    {
     "name": "stdout",
     "output_type": "stream",
     "text": [
      "전체 응답자 중에서 요약이나 정리를 선호하는 사람들은 102명으로, 약 83.61%이다.\n"
     ]
    }
   ],
   "source": [
    "like_recomendation_sys_whole = 0\n",
    "\n",
    "for ans in df_purchasers.iloc[:, 3]:\n",
    "    if re.search('(요약|정리)', ans):\n",
    "        like_recomendation_sys_whole += 1\n",
    "\n",
    "print(f'전체 응답자 중에서 요약이나 정리를 선호하는 사람들은 {like_recomendation_sys_whole}명으로, 약 {round(like_recomendation_sys_whole*100/df_purchasers.shape[0], 2)}%이다.')"
   ]
  },
  {
   "cell_type": "code",
   "execution_count": 39,
   "metadata": {},
   "outputs": [
    {
     "data": {
      "text/plain": [
       "0.8333333333333334"
      ]
     },
     "execution_count": 39,
     "metadata": {},
     "output_type": "execute_result"
    }
   ],
   "source": [
    "35/42"
   ]
  },
  {
   "cell_type": "code",
   "execution_count": 40,
   "metadata": {},
   "outputs": [
    {
     "data": {
      "text/html": [
       "<div>\n",
       "<style scoped>\n",
       "    .dataframe tbody tr th:only-of-type {\n",
       "        vertical-align: middle;\n",
       "    }\n",
       "\n",
       "    .dataframe tbody tr th {\n",
       "        vertical-align: top;\n",
       "    }\n",
       "\n",
       "    .dataframe thead th {\n",
       "        text-align: right;\n",
       "    }\n",
       "</style>\n",
       "<table border=\"1\" class=\"dataframe\">\n",
       "  <thead>\n",
       "    <tr style=\"text-align: right;\">\n",
       "      <th></th>\n",
       "      <th>연령대를 선택해주세요. (2020 - \"출생년도\" + 1의 결과값)</th>\n",
       "      <th>성별을 선택해주세요</th>\n",
       "      <th>오프라인 매장 방문을 꺼리는 이유는 무엇인가요?</th>\n",
       "      <th>어떻게 하면 기초 제품 구매가 더 편리할 것 같아요? (복수응답가능)</th>\n",
       "    </tr>\n",
       "  </thead>\n",
       "  <tbody>\n",
       "    <tr>\n",
       "      <th>0</th>\n",
       "      <td>20 ~ 24세</td>\n",
       "      <td>여성</td>\n",
       "      <td>오프라인 매장 방문을 꺼리지 않아요!</td>\n",
       "      <td>직원의 대면 응대를 활성화해주세요(상담은 사람과 만나서 하고 싶어요, 추천받은 제품...</td>\n",
       "    </tr>\n",
       "    <tr>\n",
       "      <th>1</th>\n",
       "      <td>20 ~ 24세</td>\n",
       "      <td>여성</td>\n",
       "      <td>오프라인 매장 방문을 꺼리지 않아요!;온라인 쇼핑에 익숙해져서;혼자 비교하고 결정하...</td>\n",
       "      <td>비대면 응대를 활성화해주세요(낯을 가려요, 집에서 쇼핑하고 싶어요, 혼자 고민하고 ...</td>\n",
       "    </tr>\n",
       "    <tr>\n",
       "      <th>2</th>\n",
       "      <td>20 ~ 24세</td>\n",
       "      <td>여성</td>\n",
       "      <td>직원들의 접객이 불편해서;혜택이 더 다양하고 많아서</td>\n",
       "      <td>직원의 대면 응대를 활성화해주세요(상담은 사람과 만나서 하고 싶어요, 추천받은 제품...</td>\n",
       "    </tr>\n",
       "  </tbody>\n",
       "</table>\n",
       "</div>"
      ],
      "text/plain": [
       "  연령대를 선택해주세요. (2020 - \"출생년도\" + 1의 결과값) 성별을 선택해주세요  \\\n",
       "0                              20 ~ 24세         여성   \n",
       "1                              20 ~ 24세         여성   \n",
       "2                              20 ~ 24세         여성   \n",
       "\n",
       "                          오프라인 매장 방문을 꺼리는 이유는 무엇인가요?  \\\n",
       "0                               오프라인 매장 방문을 꺼리지 않아요!   \n",
       "1  오프라인 매장 방문을 꺼리지 않아요!;온라인 쇼핑에 익숙해져서;혼자 비교하고 결정하...   \n",
       "2                       직원들의 접객이 불편해서;혜택이 더 다양하고 많아서   \n",
       "\n",
       "              어떻게 하면 기초 제품 구매가 더 편리할 것 같아요? (복수응답가능)  \n",
       "0  직원의 대면 응대를 활성화해주세요(상담은 사람과 만나서 하고 싶어요, 추천받은 제품...  \n",
       "1  비대면 응대를 활성화해주세요(낯을 가려요, 집에서 쇼핑하고 싶어요, 혼자 고민하고 ...  \n",
       "2  직원의 대면 응대를 활성화해주세요(상담은 사람과 만나서 하고 싶어요, 추천받은 제품...  "
      ]
     },
     "execution_count": 40,
     "metadata": {},
     "output_type": "execute_result"
    }
   ],
   "source": [
    "df_purchasers.head(3)"
   ]
  },
  {
   "cell_type": "code",
   "execution_count": 45,
   "metadata": {},
   "outputs": [],
   "source": [
    "df_purchasers_genderless = df_purchasers[[ques[0], ques[6], ques[10]]]"
   ]
  },
  {
   "cell_type": "code",
   "execution_count": 55,
   "metadata": {},
   "outputs": [
    {
     "data": {
      "text/plain": [
       "'오프라인 매장 방문을 꺼리지 않아요!'"
      ]
     },
     "execution_count": 55,
     "metadata": {},
     "output_type": "execute_result"
    }
   ],
   "source": [
    "df_purchasers.iloc[0,:][2]"
   ]
  },
  {
   "cell_type": "code",
   "execution_count": 60,
   "metadata": {},
   "outputs": [
    {
     "name": "stdout",
     "output_type": "stream",
     "text": [
      "접객이 불편하거나 혼자 보고 싶은 20대는 30명으로 20대 중 약 37.5%를 차지한다.\n",
      "또한, 비대면 응대를 선호하거나 상품의 요약 정리를 원하는 20대는 74명으로 20대 중 약 92.5%를 차지한다.\n",
      "접객이 불편하거나 혼자 보고 싶은 40대는 3명으로 40대 중 약 18.75%를 차지한다.\n",
      "또한, 비대면 응대를 선호하거나 상품의 요약 정리를 원하는 40대는 12명으로 40대 중 약 75.0%를 차지한다.\n"
     ]
    }
   ],
   "source": [
    "age_20s = 0; age_40_over = 0\n",
    "dislike_contact_20s = 0; dislike_contact_40s = 0\n",
    "prefer_untact_20s = 0; prefer_untact_40s = 0\n",
    "\n",
    "i = 0\n",
    "for age in df_purchasers_genderless.iloc[:, 0]:\n",
    "    if re.search('^2', age):\n",
    "        age_20s += 1\n",
    "        if re.search('(접객|혼자)', df_purchasers_genderless.iloc[i, 1]):\n",
    "            dislike_contact_20s += 1\n",
    "        if re.search('(비대면|요약|정리)', df_purchasers_genderless.iloc[i, 2]):\n",
    "            prefer_untact_20s += 1\n",
    "    elif re.search('^[456]', age):\n",
    "        age_40_over += 1\n",
    "        if re.search('(접객|혼자)', df_purchasers_genderless.iloc[i, 1]):\n",
    "            dislike_contact_40s += 1\n",
    "        if re.search('(비대면|요약|정리)', df_purchasers_genderless.iloc[i, 2]):\n",
    "            prefer_untact_40s += 1\n",
    "    i += 1\n",
    "\n",
    "print(f'접객이 불편하거나 혼자 보고 싶은 20대는 {dislike_contact_20s}명으로 20대 중 약 {round(dislike_contact_20s*100/age_20s, 2)}%를 차지한다.')\n",
    "print(f'또한, 비대면 응대를 선호하거나 상품의 요약 정리를 원하는 20대는 {prefer_untact_20s}명으로 20대 중 약 {round(prefer_untact_20s*100/age_20s, 2)}%를 차지한다.')\n",
    "print(f'접객이 불편하거나 혼자 보고 싶은 40대는 {dislike_contact_40s}명으로 40대 중 약 {round(dislike_contact_40s*100/age_40_over, 2)}%를 차지한다.')\n",
    "print(f'또한, 비대면 응대를 선호하거나 상품의 요약 정리를 원하는 40대는 {prefer_untact_40s}명으로 40대 중 약 {round(prefer_untact_40s*100/age_40_over, 2)}%를 차지한다.')"
   ]
  },
  {
   "cell_type": "markdown",
   "metadata": {},
   "source": [
    "오프라인 매장 방문 목적"
   ]
  },
  {
   "cell_type": "code",
   "execution_count": 83,
   "metadata": {},
   "outputs": [
    {
     "data": {
      "text/plain": [
       "{'급해서 혹은 빨리 사용하고 싶어서': 3,\n",
       " '온라인은 신뢰할 수 없어서': 2,\n",
       " '제품을 직접 테스트하고 크기 등을 보려고': 43,\n",
       " '사람에게 물어보고 구매하고 싶어서': 30,\n",
       " '온라인 쇼핑이 익숙하지 않아서': 8,\n",
       " '온라인 결제가 귀찮아서/불편해서': 15,\n",
       " '집이랑 가까워서': 24,\n",
       " '그냥 집가다가 생각나면 사는 거고 아니면 쿠팡으로 사는거구~': 1,\n",
       " '온라인은 신뢰가 잘 되지 않는 느낌이라서요. 인스타 광고 제품이 많은데 믿을 만한 제품인지 잘 모르겠어서': 0,\n",
       " '샘플, 증정품 등 혜택이 더 다양하고 많아서': 10,\n",
       " '급해서': 0,\n",
       " '지금 당장 필요해서': 0,\n",
       " '빨리쓰고싶어서 지금당장!': 0,\n",
       " '온라인은 믿을 수 없어서': 0}"
      ]
     },
     "execution_count": 83,
     "metadata": {},
     "output_type": "execute_result"
    }
   ],
   "source": [
    "reason_visit = {}\n",
    "reason_visit['급해서 혹은 빨리 사용하고 싶어서'] = 0\n",
    "reason_visit['온라인은 신뢰할 수 없어서'] = 0\n",
    "\n",
    "for reason in purchasers.iloc[:,6]:\n",
    "    if '방문하지 않아요' == reason:\n",
    "        continue\n",
    "    elif ';' in reason:\n",
    "        for r in reason.split(';'):\n",
    "            if r == '방문하지 않아요':\n",
    "                continue\n",
    "            elif re.search('(급해서|당장|빨리)', r):\n",
    "#                 print(r)\n",
    "                reason_visit['급해서 혹은 빨리 사용하고 싶어서'] += 1\n",
    "                reason_visit[r] = 0\n",
    "                continue\n",
    "            elif re.search('온라인.*(신뢰|믿을\\s?수)', r):\n",
    "                reason_visit['온라인은 신뢰할 수 없어서'] += 1\n",
    "                reason_visit[r] = 0\n",
    "                continue\n",
    "            if r not in reason_visit.keys():\n",
    "                reason_visit[r] = 1\n",
    "            else:\n",
    "                reason_visit[r] += 1\n",
    "\n",
    "reason_visit"
   ]
  },
  {
   "cell_type": "code",
   "execution_count": 88,
   "metadata": {},
   "outputs": [
    {
     "data": {
      "text/plain": [
       "{'급해서 혹은 빨리 사용하고 싶어서': 3,\n",
       " '온라인은 신뢰할 수 없어서': 2,\n",
       " '제품을 직접 테스트하고 크기 등을 보려고': 43,\n",
       " '사람에게 물어보고 구매하고 싶어서': 30,\n",
       " '온라인 쇼핑이 익숙하지 않아서': 8,\n",
       " '온라인 결제가 귀찮아서/불편해서': 15,\n",
       " '집이랑 가까워서': 24,\n",
       " '특별한 이유 없음': 1,\n",
       " '샘플, 증정품 등 혜택이 더 다양하고 많아서': 10}"
      ]
     },
     "execution_count": 88,
     "metadata": {},
     "output_type": "execute_result"
    }
   ],
   "source": [
    "reason_visit_store = dict()\n",
    "\n",
    "for k, v in reason_visit.items():\n",
    "    if re.search('(그냥|생각이?/s나면)', k):\n",
    "        reason_visit_store['특별한 이유 없음'] = v\n",
    "        continue\n",
    "    elif v:\n",
    "        reason_visit_store[k] = v\n",
    "        \n",
    "reason_visit_store"
   ]
  },
  {
   "cell_type": "code",
   "execution_count": 89,
   "metadata": {},
   "outputs": [
    {
     "data": {
      "text/html": [
       "<div>\n",
       "<style scoped>\n",
       "    .dataframe tbody tr th:only-of-type {\n",
       "        vertical-align: middle;\n",
       "    }\n",
       "\n",
       "    .dataframe tbody tr th {\n",
       "        vertical-align: top;\n",
       "    }\n",
       "\n",
       "    .dataframe thead th {\n",
       "        text-align: right;\n",
       "    }\n",
       "</style>\n",
       "<table border=\"1\" class=\"dataframe\">\n",
       "  <thead>\n",
       "    <tr style=\"text-align: right;\">\n",
       "      <th></th>\n",
       "      <th>타임스탬프</th>\n",
       "      <th>연령대를 선택해주세요. (2020 - \"출생년도\" + 1의 결과값)</th>\n",
       "      <th>성별을 선택해주세요</th>\n",
       "      <th>기초제품을 구매하거나 선물한 적이 있나요?</th>\n",
       "      <th>평소 화장품에 대한 관심/지식은 어느정도인가요? (복수응답 가능)</th>\n",
       "      <th>기초제품 구매 시, 선택에 어려움을 겪은 적이 있나요? 그 이유를 말씀해주세요. (복수응답가능)</th>\n",
       "      <th>화장품 구매에 있어, 오프라인 매장 방문의 목적이 무엇인가요? (복수응답)</th>\n",
       "      <th>오프라인 매장 방문을 꺼리는 이유는 무엇인가요?</th>\n",
       "      <th>화장품과 관련하여 유튜브로 정보를 탐색하시나요?</th>\n",
       "      <th>화장품과 관련한 어플을 사용하시나요? (화해, 글로우픽 등)</th>\n",
       "      <th>화장품과 관련하여 유튜브 혹은 어플을 사용하는 이유는 무엇인가요?</th>\n",
       "      <th>어떻게 하면 기초 제품 구매가 더 편리할 것 같아요? (복수응답가능)</th>\n",
       "    </tr>\n",
       "  </thead>\n",
       "  <tbody>\n",
       "    <tr>\n",
       "      <th>0</th>\n",
       "      <td>2020/05/18 5:26:50 오후 GMT+9</td>\n",
       "      <td>20 ~ 24세</td>\n",
       "      <td>여성</td>\n",
       "      <td>예</td>\n",
       "      <td>건성, 복합성, 지성이 무엇인지는 알고 있어요.;비타민이 미백에 좋다는 것, 시카와...</td>\n",
       "      <td>제품이 너무 다양하고 많아서 정보를 알 수 없어서;진짜 좋은 제품인지 알 수 없어서...</td>\n",
       "      <td>제품을 직접 테스트하고 크기 등을 보려고;사람에게 물어보고 구매하고 싶어서;온라인 ...</td>\n",
       "      <td>오프라인 매장 방문을 꺼리지 않아요!</td>\n",
       "      <td>1.0</td>\n",
       "      <td>0.0</td>\n",
       "      <td>언젠가 구매할지도 모르니까;색조, 메이트업베이스 등에 대한 정보를 얻기 위해</td>\n",
       "      <td>직원의 대면 응대를 활성화해주세요(상담은 사람과 만나서 하고 싶어요, 추천받은 제품...</td>\n",
       "    </tr>\n",
       "    <tr>\n",
       "      <th>22</th>\n",
       "      <td>2020/05/18 6:21:54 오후 GMT+9</td>\n",
       "      <td>30 ~ 34세</td>\n",
       "      <td>여성</td>\n",
       "      <td>예</td>\n",
       "      <td>건성, 복합성, 지성이 무엇인지는 알고 있어요.;비타민이 미백에 좋다는 것, 시카와...</td>\n",
       "      <td>검색이 귀찮아서</td>\n",
       "      <td>온라인 배송 시 일회용 쓰레기가 생겨서 - 환경주의자입니다</td>\n",
       "      <td>오프라인 매장 방문을 꺼리지 않아요!</td>\n",
       "      <td>0.0</td>\n",
       "      <td>0.0</td>\n",
       "      <td>사용하지 않음</td>\n",
       "      <td>비대면 응대를 활성화해주세요(낯을 가려요, 집에서 쇼핑하고 싶어요, 혼자 고민하고 ...</td>\n",
       "    </tr>\n",
       "    <tr>\n",
       "      <th>62</th>\n",
       "      <td>2020/05/18 7:58:14 오후 GMT+9</td>\n",
       "      <td>20 ~ 24세</td>\n",
       "      <td>남성</td>\n",
       "      <td>예</td>\n",
       "      <td>업계에 종사하고 있어요.</td>\n",
       "      <td>피부(스킨케어)에 대한 지식이 없어서;제품이 너무 다양하고 많아서 정보를 알 수 없...</td>\n",
       "      <td>제품을 직접 테스트하고 크기 등을 보려고;사람에게 물어보고 구매하고 싶어서;집이랑 ...</td>\n",
       "      <td>오프라인 매장 방문을 꺼리지 않아요!</td>\n",
       "      <td>2.0</td>\n",
       "      <td>3.0</td>\n",
       "      <td>기초제품(스킨, 로션, 미스트, 선케어 등)에 대한 정보를 얻기 위해</td>\n",
       "      <td>직원의 대면 응대를 활성화해주세요(상담은 사람과 만나서 하고 싶어요, 추천받은 제품...</td>\n",
       "    </tr>\n",
       "  </tbody>\n",
       "</table>\n",
       "</div>"
      ],
      "text/plain": [
       "                          타임스탬프 연령대를 선택해주세요. (2020 - \"출생년도\" + 1의 결과값)  \\\n",
       "0   2020/05/18 5:26:50 오후 GMT+9                              20 ~ 24세   \n",
       "22  2020/05/18 6:21:54 오후 GMT+9                              30 ~ 34세   \n",
       "62  2020/05/18 7:58:14 오후 GMT+9                              20 ~ 24세   \n",
       "\n",
       "   성별을 선택해주세요 기초제품을 구매하거나 선물한 적이 있나요?  \\\n",
       "0          여성                       예   \n",
       "22         여성                       예   \n",
       "62         남성                       예   \n",
       "\n",
       "                 평소 화장품에 대한 관심/지식은 어느정도인가요? (복수응답 가능)  \\\n",
       "0   건성, 복합성, 지성이 무엇인지는 알고 있어요.;비타민이 미백에 좋다는 것, 시카와...   \n",
       "22  건성, 복합성, 지성이 무엇인지는 알고 있어요.;비타민이 미백에 좋다는 것, 시카와...   \n",
       "62                                      업계에 종사하고 있어요.   \n",
       "\n",
       "   기초제품 구매 시, 선택에 어려움을 겪은 적이 있나요? 그 이유를 말씀해주세요. (복수응답가능)  \\\n",
       "0   제품이 너무 다양하고 많아서 정보를 알 수 없어서;진짜 좋은 제품인지 알 수 없어서...      \n",
       "22                                           검색이 귀찮아서      \n",
       "62  피부(스킨케어)에 대한 지식이 없어서;제품이 너무 다양하고 많아서 정보를 알 수 없...      \n",
       "\n",
       "            화장품 구매에 있어, 오프라인 매장 방문의 목적이 무엇인가요? (복수응답)  \\\n",
       "0   제품을 직접 테스트하고 크기 등을 보려고;사람에게 물어보고 구매하고 싶어서;온라인 ...   \n",
       "22                   온라인 배송 시 일회용 쓰레기가 생겨서 - 환경주의자입니다   \n",
       "62  제품을 직접 테스트하고 크기 등을 보려고;사람에게 물어보고 구매하고 싶어서;집이랑 ...   \n",
       "\n",
       "   오프라인 매장 방문을 꺼리는 이유는 무엇인가요?  화장품과 관련하여 유튜브로 정보를 탐색하시나요?  \\\n",
       "0        오프라인 매장 방문을 꺼리지 않아요!                         1.0   \n",
       "22       오프라인 매장 방문을 꺼리지 않아요!                         0.0   \n",
       "62       오프라인 매장 방문을 꺼리지 않아요!                         2.0   \n",
       "\n",
       "    화장품과 관련한 어플을 사용하시나요? (화해, 글로우픽 등)  \\\n",
       "0                                 0.0   \n",
       "22                                0.0   \n",
       "62                                3.0   \n",
       "\n",
       "          화장품과 관련하여 유튜브 혹은 어플을 사용하는 이유는 무엇인가요?  \\\n",
       "0   언젠가 구매할지도 모르니까;색조, 메이트업베이스 등에 대한 정보를 얻기 위해   \n",
       "22                                     사용하지 않음   \n",
       "62      기초제품(스킨, 로션, 미스트, 선케어 등)에 대한 정보를 얻기 위해   \n",
       "\n",
       "               어떻게 하면 기초 제품 구매가 더 편리할 것 같아요? (복수응답가능)  \n",
       "0   직원의 대면 응대를 활성화해주세요(상담은 사람과 만나서 하고 싶어요, 추천받은 제품...  \n",
       "22  비대면 응대를 활성화해주세요(낯을 가려요, 집에서 쇼핑하고 싶어요, 혼자 고민하고 ...  \n",
       "62  직원의 대면 응대를 활성화해주세요(상담은 사람과 만나서 하고 싶어요, 추천받은 제품...  "
      ]
     },
     "execution_count": 89,
     "metadata": {},
     "output_type": "execute_result"
    }
   ],
   "source": [
    "related"
   ]
  },
  {
   "cell_type": "code",
   "execution_count": 96,
   "metadata": {},
   "outputs": [
    {
     "name": "stdout",
     "output_type": "stream",
     "text": [
      "응답을 원하지 않음\n",
      "응답을 원하지 않음\n"
     ]
    },
    {
     "data": {
      "text/plain": [
       "{'여성': 89, '남성': 31}"
      ]
     },
     "execution_count": 96,
     "metadata": {},
     "output_type": "execute_result"
    }
   ],
   "source": [
    "purchaser_genders = dict()\n",
    "purchaser_genders['여성'] = 0\n",
    "purchaser_genders['남성'] = 0\n",
    "\n",
    "for gender in purchasers.iloc[:,2]:\n",
    "    if gender == '여성':\n",
    "        purchaser_genders[gender] += 1\n",
    "    elif gender == '남성':\n",
    "        purchaser_genders[gender] += 1\n",
    "    else:\n",
    "        continue\n",
    "\n",
    "purchaser_genders"
   ]
  },
  {
   "cell_type": "code",
   "execution_count": 11,
   "metadata": {},
   "outputs": [
    {
     "data": {
      "text/plain": [
       "['연령대를 선택해주세요. (2020 - \"출생년도\" + 1의 결과값)',\n",
       " '성별을 선택해주세요',\n",
       " '기초제품을 구매하거나 선물한 적이 있나요?',\n",
       " '평소 화장품에 대한 관심/지식은 어느정도인가요? (복수응답 가능)',\n",
       " '기초제품 구매 시, 선택에 어려움을 겪은 적이 있나요? 그 이유를 말씀해주세요. (복수응답가능)',\n",
       " '화장품 구매에 있어, 오프라인 매장 방문의 목적이 무엇인가요? (복수응답)',\n",
       " '오프라인 매장 방문을 꺼리는 이유는 무엇인가요?',\n",
       " '화장품과 관련하여 유튜브로 정보를 탐색하시나요?',\n",
       " '화장품과 관련한 어플을 사용하시나요? (화해, 글로우픽 등)',\n",
       " '화장품과 관련하여 유튜브 혹은 어플을 사용하는 이유는 무엇인가요?',\n",
       " '어떻게 하면 기초 제품 구매가 더 편리할 것 같아요? (복수응답가능)']"
      ]
     },
     "execution_count": 11,
     "metadata": {},
     "output_type": "execute_result"
    }
   ],
   "source": [
    "ques"
   ]
  },
  {
   "cell_type": "code",
   "execution_count": 78,
   "metadata": {},
   "outputs": [
    {
     "data": {
      "text/html": [
       "<div>\n",
       "<style scoped>\n",
       "    .dataframe tbody tr th:only-of-type {\n",
       "        vertical-align: middle;\n",
       "    }\n",
       "\n",
       "    .dataframe tbody tr th {\n",
       "        vertical-align: top;\n",
       "    }\n",
       "\n",
       "    .dataframe thead th {\n",
       "        text-align: right;\n",
       "    }\n",
       "</style>\n",
       "<table border=\"1\" class=\"dataframe\">\n",
       "  <thead>\n",
       "    <tr style=\"text-align: right;\">\n",
       "      <th></th>\n",
       "      <th>연령대를 선택해주세요. (2020 - \"출생년도\" + 1의 결과값)</th>\n",
       "      <th>성별을 선택해주세요</th>\n",
       "      <th>기초제품을 구매하거나 선물한 적이 있나요?</th>\n",
       "      <th>평소 화장품에 대한 관심/지식은 어느정도인가요? (복수응답 가능)</th>\n",
       "      <th>기초제품 구매 시, 선택에 어려움을 겪은 적이 있나요? 그 이유를 말씀해주세요. (복수응답가능)</th>\n",
       "      <th>화장품 구매에 있어, 오프라인 매장 방문의 목적이 무엇인가요? (복수응답)</th>\n",
       "      <th>오프라인 매장 방문을 꺼리는 이유는 무엇인가요?</th>\n",
       "      <th>화장품과 관련하여 유튜브로 정보를 탐색하시나요?</th>\n",
       "      <th>화장품과 관련한 어플을 사용하시나요? (화해, 글로우픽 등)</th>\n",
       "      <th>화장품과 관련하여 유튜브 혹은 어플을 사용하는 이유는 무엇인가요?</th>\n",
       "      <th>어떻게 하면 기초 제품 구매가 더 편리할 것 같아요? (복수응답가능)</th>\n",
       "      <th>related</th>\n",
       "    </tr>\n",
       "  </thead>\n",
       "  <tbody>\n",
       "    <tr>\n",
       "      <th>0</th>\n",
       "      <td>20 ~ 24세</td>\n",
       "      <td>여성</td>\n",
       "      <td>예</td>\n",
       "      <td>건성, 복합성, 지성이 무엇인지는 알고 있어요.;비타민이 미백에 좋다는 것, 시카와...</td>\n",
       "      <td>제품이 너무 다양하고 많아서 정보를 알 수 없어서;진짜 좋은 제품인지 알 수 없어서...</td>\n",
       "      <td>제품을 직접 테스트하고 크기 등을 보려고;사람에게 물어보고 구매하고 싶어서;온라인 ...</td>\n",
       "      <td>오프라인 매장 방문을 꺼리지 않아요!</td>\n",
       "      <td>1.0</td>\n",
       "      <td>0.0</td>\n",
       "      <td>언젠가 구매할지도 모르니까;색조, 메이트업베이스 등에 대한 정보를 얻기 위해</td>\n",
       "      <td>직원의 대면 응대를 활성화해주세요(상담은 사람과 만나서 하고 싶어요, 추천받은 제품...</td>\n",
       "      <td>the related</td>\n",
       "    </tr>\n",
       "    <tr>\n",
       "      <th>1</th>\n",
       "      <td>20 ~ 24세</td>\n",
       "      <td>여성</td>\n",
       "      <td>예</td>\n",
       "      <td>비타민이 미백에 좋다는 것, 시카와 티트리 성분이 진정효과가 있다는 것 등을 알고 ...</td>\n",
       "      <td>제품이 너무 다양하고 많아서 정보를 알 수 없어서;진짜 좋은 제품인지 알 수 없어서</td>\n",
       "      <td>제품을 직접 테스트하고 크기 등을 보려고</td>\n",
       "      <td>오프라인 매장 방문을 꺼리지 않아요!;온라인 쇼핑에 익숙해져서;혼자 비교하고 결정하...</td>\n",
       "      <td>0.0</td>\n",
       "      <td>0.0</td>\n",
       "      <td>사용하지 않음</td>\n",
       "      <td>비대면 응대를 활성화해주세요(낯을 가려요, 집에서 쇼핑하고 싶어요, 혼자 고민하고 ...</td>\n",
       "      <td>unchoosable</td>\n",
       "    </tr>\n",
       "    <tr>\n",
       "      <th>2</th>\n",
       "      <td>20 ~ 24세</td>\n",
       "      <td>여성</td>\n",
       "      <td>예</td>\n",
       "      <td>건성, 복합성, 지성이 무엇인지는 알고 있어요.;비타민이 미백에 좋다는 것, 시카와...</td>\n",
       "      <td>제품이 너무 다양하고 많아서 정보를 알 수 없어서;진짜 좋은 제품인지 알 수 없어서</td>\n",
       "      <td>제품을 직접 테스트하고 크기 등을 보려고;사람에게 물어보고 구매하고 싶어서</td>\n",
       "      <td>직원들의 접객이 불편해서;혜택이 더 다양하고 많아서</td>\n",
       "      <td>3.0</td>\n",
       "      <td>1.0</td>\n",
       "      <td>유행을 알고 싶어서;색조, 메이트업베이스 등에 대한 정보를 얻기 위해</td>\n",
       "      <td>직원의 대면 응대를 활성화해주세요(상담은 사람과 만나서 하고 싶어요, 추천받은 제품...</td>\n",
       "      <td>unchoosable</td>\n",
       "    </tr>\n",
       "    <tr>\n",
       "      <th>3</th>\n",
       "      <td>19세 이하</td>\n",
       "      <td>여성</td>\n",
       "      <td>예</td>\n",
       "      <td>자신의 피부에 맞게 상품을 비교하고 선택할 수 있어요.</td>\n",
       "      <td>진짜 좋은 제품인지 알 수 없어서</td>\n",
       "      <td>제품을 직접 테스트하고 크기 등을 보려고</td>\n",
       "      <td>오프라인 매장 방문을 꺼리지 않아요!</td>\n",
       "      <td>4.0</td>\n",
       "      <td>4.0</td>\n",
       "      <td>색조, 메이트업베이스 등에 대한 정보를 얻기 위해;기초제품(스킨, 로션, 미스트, ...</td>\n",
       "      <td>특징별로 상품에 대한 요약 정리를 해주세요(보습라인 : 가,나,다 / 여드름 진정 ...</td>\n",
       "      <td>the related</td>\n",
       "    </tr>\n",
       "    <tr>\n",
       "      <th>4</th>\n",
       "      <td>20 ~ 24세</td>\n",
       "      <td>여성</td>\n",
       "      <td>예</td>\n",
       "      <td>비타민이 미백에 좋다는 것, 시카와 티트리 성분이 진정효과가 있다는 것 등을 알고 ...</td>\n",
       "      <td>제품이 너무 다양하고 많아서 정보를 알 수 없어서;피부가 민감하지 않아서 제품 다양...</td>\n",
       "      <td>집이랑 가까워서;그냥 집가다가 생각나면 사는 거고 아니면 쿠팡으로 사는거구~</td>\n",
       "      <td>오프라인 매장 방문을 꺼리지 않아요!</td>\n",
       "      <td>1.0</td>\n",
       "      <td>0.0</td>\n",
       "      <td>그냥 화장한 얼굴이 예뻐서 대리만족하려구</td>\n",
       "      <td>특징별로 상품에 대한 요약 정리를 해주세요(보습라인 : 가,나,다 / 여드름 진정 ...</td>\n",
       "      <td>unchoosable</td>\n",
       "    </tr>\n",
       "  </tbody>\n",
       "</table>\n",
       "</div>"
      ],
      "text/plain": [
       "  연령대를 선택해주세요. (2020 - \"출생년도\" + 1의 결과값) 성별을 선택해주세요 기초제품을 구매하거나 선물한 적이 있나요?  \\\n",
       "0                              20 ~ 24세         여성                       예   \n",
       "1                              20 ~ 24세         여성                       예   \n",
       "2                              20 ~ 24세         여성                       예   \n",
       "3                                19세 이하         여성                       예   \n",
       "4                              20 ~ 24세         여성                       예   \n",
       "\n",
       "                평소 화장품에 대한 관심/지식은 어느정도인가요? (복수응답 가능)  \\\n",
       "0  건성, 복합성, 지성이 무엇인지는 알고 있어요.;비타민이 미백에 좋다는 것, 시카와...   \n",
       "1  비타민이 미백에 좋다는 것, 시카와 티트리 성분이 진정효과가 있다는 것 등을 알고 ...   \n",
       "2  건성, 복합성, 지성이 무엇인지는 알고 있어요.;비타민이 미백에 좋다는 것, 시카와...   \n",
       "3                     자신의 피부에 맞게 상품을 비교하고 선택할 수 있어요.   \n",
       "4  비타민이 미백에 좋다는 것, 시카와 티트리 성분이 진정효과가 있다는 것 등을 알고 ...   \n",
       "\n",
       "  기초제품 구매 시, 선택에 어려움을 겪은 적이 있나요? 그 이유를 말씀해주세요. (복수응답가능)  \\\n",
       "0  제품이 너무 다양하고 많아서 정보를 알 수 없어서;진짜 좋은 제품인지 알 수 없어서...      \n",
       "1     제품이 너무 다양하고 많아서 정보를 알 수 없어서;진짜 좋은 제품인지 알 수 없어서      \n",
       "2     제품이 너무 다양하고 많아서 정보를 알 수 없어서;진짜 좋은 제품인지 알 수 없어서      \n",
       "3                                 진짜 좋은 제품인지 알 수 없어서      \n",
       "4  제품이 너무 다양하고 많아서 정보를 알 수 없어서;피부가 민감하지 않아서 제품 다양...      \n",
       "\n",
       "           화장품 구매에 있어, 오프라인 매장 방문의 목적이 무엇인가요? (복수응답)  \\\n",
       "0  제품을 직접 테스트하고 크기 등을 보려고;사람에게 물어보고 구매하고 싶어서;온라인 ...   \n",
       "1                             제품을 직접 테스트하고 크기 등을 보려고   \n",
       "2          제품을 직접 테스트하고 크기 등을 보려고;사람에게 물어보고 구매하고 싶어서   \n",
       "3                             제품을 직접 테스트하고 크기 등을 보려고   \n",
       "4         집이랑 가까워서;그냥 집가다가 생각나면 사는 거고 아니면 쿠팡으로 사는거구~   \n",
       "\n",
       "                          오프라인 매장 방문을 꺼리는 이유는 무엇인가요?  \\\n",
       "0                               오프라인 매장 방문을 꺼리지 않아요!   \n",
       "1  오프라인 매장 방문을 꺼리지 않아요!;온라인 쇼핑에 익숙해져서;혼자 비교하고 결정하...   \n",
       "2                       직원들의 접객이 불편해서;혜택이 더 다양하고 많아서   \n",
       "3                               오프라인 매장 방문을 꺼리지 않아요!   \n",
       "4                               오프라인 매장 방문을 꺼리지 않아요!   \n",
       "\n",
       "   화장품과 관련하여 유튜브로 정보를 탐색하시나요?  화장품과 관련한 어플을 사용하시나요? (화해, 글로우픽 등)  \\\n",
       "0                         1.0                                0.0   \n",
       "1                         0.0                                0.0   \n",
       "2                         3.0                                1.0   \n",
       "3                         4.0                                4.0   \n",
       "4                         1.0                                0.0   \n",
       "\n",
       "                화장품과 관련하여 유튜브 혹은 어플을 사용하는 이유는 무엇인가요?  \\\n",
       "0         언젠가 구매할지도 모르니까;색조, 메이트업베이스 등에 대한 정보를 얻기 위해   \n",
       "1                                            사용하지 않음   \n",
       "2             유행을 알고 싶어서;색조, 메이트업베이스 등에 대한 정보를 얻기 위해   \n",
       "3  색조, 메이트업베이스 등에 대한 정보를 얻기 위해;기초제품(스킨, 로션, 미스트, ...   \n",
       "4                             그냥 화장한 얼굴이 예뻐서 대리만족하려구   \n",
       "\n",
       "              어떻게 하면 기초 제품 구매가 더 편리할 것 같아요? (복수응답가능)      related  \n",
       "0  직원의 대면 응대를 활성화해주세요(상담은 사람과 만나서 하고 싶어요, 추천받은 제품...  the related  \n",
       "1  비대면 응대를 활성화해주세요(낯을 가려요, 집에서 쇼핑하고 싶어요, 혼자 고민하고 ...  unchoosable  \n",
       "2  직원의 대면 응대를 활성화해주세요(상담은 사람과 만나서 하고 싶어요, 추천받은 제품...  unchoosable  \n",
       "3  특징별로 상품에 대한 요약 정리를 해주세요(보습라인 : 가,나,다 / 여드름 진정 ...  the related  \n",
       "4  특징별로 상품에 대한 요약 정리를 해주세요(보습라인 : 가,나,다 / 여드름 진정 ...  unchoosable  "
      ]
     },
     "execution_count": 78,
     "metadata": {},
     "output_type": "execute_result"
    }
   ],
   "source": [
    "# 기초제품 구매에 어려움을 겪는 사람 = 자신의 피부 타입에 맞게 고르지는 못하는 사람들\n",
    "data['related'] = data[ques[3]].apply(lambda x: 'the related' if re.search('(업계|할 수 있어요)', x) else 'unchoosable')\n",
    "data.head()\n",
    "\n",
    "# 기초제품 구매에 어려움을 겪는 사람 = 자신의 피부 타입에 맞게 고르지는 못하는 사람들\n",
    "df_purchasers['related'] = df_purchasers[ques[3]].apply(lambda x: 'the related' if re.search('(업계|할 수 있어요)', x) else 'unchoosable')\n",
    "df_purchasers.head()"
   ]
  },
  {
   "cell_type": "code",
   "execution_count": 55,
   "metadata": {},
   "outputs": [
    {
     "data": {
      "text/html": [
       "<div>\n",
       "<style scoped>\n",
       "    .dataframe tbody tr th:only-of-type {\n",
       "        vertical-align: middle;\n",
       "    }\n",
       "\n",
       "    .dataframe tbody tr th {\n",
       "        vertical-align: top;\n",
       "    }\n",
       "\n",
       "    .dataframe thead th {\n",
       "        text-align: right;\n",
       "    }\n",
       "</style>\n",
       "<table border=\"1\" class=\"dataframe\">\n",
       "  <thead>\n",
       "    <tr style=\"text-align: right;\">\n",
       "      <th></th>\n",
       "      <th>연령대를 선택해주세요. (2020 - \"출생년도\" + 1의 결과값)</th>\n",
       "      <th>성별을 선택해주세요</th>\n",
       "      <th>기초제품을 구매하거나 선물한 적이 있나요?</th>\n",
       "      <th>평소 화장품에 대한 관심/지식은 어느정도인가요? (복수응답 가능)</th>\n",
       "      <th>기초제품 구매 시, 선택에 어려움을 겪은 적이 있나요? 그 이유를 말씀해주세요. (복수응답가능)</th>\n",
       "      <th>화장품 구매에 있어, 오프라인 매장 방문의 목적이 무엇인가요? (복수응답)</th>\n",
       "      <th>오프라인 매장 방문을 꺼리는 이유는 무엇인가요?</th>\n",
       "      <th>화장품과 관련하여 유튜브로 정보를 탐색하시나요?</th>\n",
       "      <th>화장품과 관련한 어플을 사용하시나요? (화해, 글로우픽 등)</th>\n",
       "      <th>화장품과 관련하여 유튜브 혹은 어플을 사용하는 이유는 무엇인가요?</th>\n",
       "      <th>어떻게 하면 기초 제품 구매가 더 편리할 것 같아요? (복수응답가능)</th>\n",
       "      <th>related</th>\n",
       "    </tr>\n",
       "  </thead>\n",
       "  <tbody>\n",
       "    <tr>\n",
       "      <th>1</th>\n",
       "      <td>20 ~ 24세</td>\n",
       "      <td>여성</td>\n",
       "      <td>예</td>\n",
       "      <td>비타민이 미백에 좋다는 것, 시카와 티트리 성분이 진정효과가 있다는 것 등을 알고 ...</td>\n",
       "      <td>제품이 너무 다양하고 많아서 정보를 알 수 없어서;진짜 좋은 제품인지 알 수 없어서</td>\n",
       "      <td>제품을 직접 테스트하고 크기 등을 보려고</td>\n",
       "      <td>오프라인 매장 방문을 꺼리지 않아요!;온라인 쇼핑에 익숙해져서;혼자 비교하고 결정하...</td>\n",
       "      <td>0.0</td>\n",
       "      <td>0.0</td>\n",
       "      <td>사용하지 않음</td>\n",
       "      <td>비대면 응대를 활성화해주세요(낯을 가려요, 집에서 쇼핑하고 싶어요, 혼자 고민하고 ...</td>\n",
       "      <td>unchoosable</td>\n",
       "    </tr>\n",
       "    <tr>\n",
       "      <th>2</th>\n",
       "      <td>20 ~ 24세</td>\n",
       "      <td>여성</td>\n",
       "      <td>예</td>\n",
       "      <td>건성, 복합성, 지성이 무엇인지는 알고 있어요.;비타민이 미백에 좋다는 것, 시카와...</td>\n",
       "      <td>제품이 너무 다양하고 많아서 정보를 알 수 없어서;진짜 좋은 제품인지 알 수 없어서</td>\n",
       "      <td>제품을 직접 테스트하고 크기 등을 보려고;사람에게 물어보고 구매하고 싶어서</td>\n",
       "      <td>직원들의 접객이 불편해서;혜택이 더 다양하고 많아서</td>\n",
       "      <td>3.0</td>\n",
       "      <td>1.0</td>\n",
       "      <td>유행을 알고 싶어서;색조, 메이트업베이스 등에 대한 정보를 얻기 위해</td>\n",
       "      <td>직원의 대면 응대를 활성화해주세요(상담은 사람과 만나서 하고 싶어요, 추천받은 제품...</td>\n",
       "      <td>unchoosable</td>\n",
       "    </tr>\n",
       "    <tr>\n",
       "      <th>4</th>\n",
       "      <td>20 ~ 24세</td>\n",
       "      <td>여성</td>\n",
       "      <td>예</td>\n",
       "      <td>비타민이 미백에 좋다는 것, 시카와 티트리 성분이 진정효과가 있다는 것 등을 알고 ...</td>\n",
       "      <td>제품이 너무 다양하고 많아서 정보를 알 수 없어서;피부가 민감하지 않아서 제품 다양...</td>\n",
       "      <td>집이랑 가까워서;그냥 집가다가 생각나면 사는 거고 아니면 쿠팡으로 사는거구~</td>\n",
       "      <td>오프라인 매장 방문을 꺼리지 않아요!</td>\n",
       "      <td>1.0</td>\n",
       "      <td>0.0</td>\n",
       "      <td>그냥 화장한 얼굴이 예뻐서 대리만족하려구</td>\n",
       "      <td>특징별로 상품에 대한 요약 정리를 해주세요(보습라인 : 가,나,다 / 여드름 진정 ...</td>\n",
       "      <td>unchoosable</td>\n",
       "    </tr>\n",
       "    <tr>\n",
       "      <th>5</th>\n",
       "      <td>20 ~ 24세</td>\n",
       "      <td>남성</td>\n",
       "      <td>예</td>\n",
       "      <td>건성, 복합성, 지성이 무엇인지는 알고 있어요.</td>\n",
       "      <td>진짜 좋은 제품인지 알 수 없어서</td>\n",
       "      <td>제품을 직접 테스트하고 크기 등을 보려고;사람에게 물어보고 구매하고 싶어서</td>\n",
       "      <td>집에서 나가고 싶지 않아서</td>\n",
       "      <td>1.0</td>\n",
       "      <td>0.0</td>\n",
       "      <td>기초제품(스킨, 로션, 미스트, 선케어 등)에 대한 정보를 얻기 위해</td>\n",
       "      <td>특징별로 상품에 대한 요약 정리를 해주세요(보습라인 : 가,나,다 / 여드름 진정 ...</td>\n",
       "      <td>unchoosable</td>\n",
       "    </tr>\n",
       "    <tr>\n",
       "      <th>7</th>\n",
       "      <td>25 ~ 29세</td>\n",
       "      <td>여성</td>\n",
       "      <td>예</td>\n",
       "      <td>건성, 복합성, 지성이 무엇인지는 알고 있어요.</td>\n",
       "      <td>제품이 너무 다양하고 많아서 정보를 알 수 없어서;매번 실패해서;진짜 좋은 제품인지...</td>\n",
       "      <td>제품을 직접 테스트하고 크기 등을 보려고;사람에게 물어보고 구매하고 싶어서;집이랑 ...</td>\n",
       "      <td>오프라인 매장 방문을 꺼리지 않아요!</td>\n",
       "      <td>2.0</td>\n",
       "      <td>0.0</td>\n",
       "      <td>색조, 메이트업베이스 등에 대한 정보를 얻기 위해;기초제품(스킨, 로션, 미스트, ...</td>\n",
       "      <td>특징별로 상품에 대한 요약 정리를 해주세요(보습라인 : 가,나,다 / 여드름 진정 ...</td>\n",
       "      <td>unchoosable</td>\n",
       "    </tr>\n",
       "  </tbody>\n",
       "</table>\n",
       "</div>"
      ],
      "text/plain": [
       "  연령대를 선택해주세요. (2020 - \"출생년도\" + 1의 결과값) 성별을 선택해주세요 기초제품을 구매하거나 선물한 적이 있나요?  \\\n",
       "1                              20 ~ 24세         여성                       예   \n",
       "2                              20 ~ 24세         여성                       예   \n",
       "4                              20 ~ 24세         여성                       예   \n",
       "5                              20 ~ 24세         남성                       예   \n",
       "7                              25 ~ 29세         여성                       예   \n",
       "\n",
       "                평소 화장품에 대한 관심/지식은 어느정도인가요? (복수응답 가능)  \\\n",
       "1  비타민이 미백에 좋다는 것, 시카와 티트리 성분이 진정효과가 있다는 것 등을 알고 ...   \n",
       "2  건성, 복합성, 지성이 무엇인지는 알고 있어요.;비타민이 미백에 좋다는 것, 시카와...   \n",
       "4  비타민이 미백에 좋다는 것, 시카와 티트리 성분이 진정효과가 있다는 것 등을 알고 ...   \n",
       "5                         건성, 복합성, 지성이 무엇인지는 알고 있어요.   \n",
       "7                         건성, 복합성, 지성이 무엇인지는 알고 있어요.   \n",
       "\n",
       "  기초제품 구매 시, 선택에 어려움을 겪은 적이 있나요? 그 이유를 말씀해주세요. (복수응답가능)  \\\n",
       "1     제품이 너무 다양하고 많아서 정보를 알 수 없어서;진짜 좋은 제품인지 알 수 없어서      \n",
       "2     제품이 너무 다양하고 많아서 정보를 알 수 없어서;진짜 좋은 제품인지 알 수 없어서      \n",
       "4  제품이 너무 다양하고 많아서 정보를 알 수 없어서;피부가 민감하지 않아서 제품 다양...      \n",
       "5                                 진짜 좋은 제품인지 알 수 없어서      \n",
       "7  제품이 너무 다양하고 많아서 정보를 알 수 없어서;매번 실패해서;진짜 좋은 제품인지...      \n",
       "\n",
       "           화장품 구매에 있어, 오프라인 매장 방문의 목적이 무엇인가요? (복수응답)  \\\n",
       "1                             제품을 직접 테스트하고 크기 등을 보려고   \n",
       "2          제품을 직접 테스트하고 크기 등을 보려고;사람에게 물어보고 구매하고 싶어서   \n",
       "4         집이랑 가까워서;그냥 집가다가 생각나면 사는 거고 아니면 쿠팡으로 사는거구~   \n",
       "5          제품을 직접 테스트하고 크기 등을 보려고;사람에게 물어보고 구매하고 싶어서   \n",
       "7  제품을 직접 테스트하고 크기 등을 보려고;사람에게 물어보고 구매하고 싶어서;집이랑 ...   \n",
       "\n",
       "                          오프라인 매장 방문을 꺼리는 이유는 무엇인가요?  \\\n",
       "1  오프라인 매장 방문을 꺼리지 않아요!;온라인 쇼핑에 익숙해져서;혼자 비교하고 결정하...   \n",
       "2                       직원들의 접객이 불편해서;혜택이 더 다양하고 많아서   \n",
       "4                               오프라인 매장 방문을 꺼리지 않아요!   \n",
       "5                                     집에서 나가고 싶지 않아서   \n",
       "7                               오프라인 매장 방문을 꺼리지 않아요!   \n",
       "\n",
       "   화장품과 관련하여 유튜브로 정보를 탐색하시나요?  화장품과 관련한 어플을 사용하시나요? (화해, 글로우픽 등)  \\\n",
       "1                         0.0                                0.0   \n",
       "2                         3.0                                1.0   \n",
       "4                         1.0                                0.0   \n",
       "5                         1.0                                0.0   \n",
       "7                         2.0                                0.0   \n",
       "\n",
       "                화장품과 관련하여 유튜브 혹은 어플을 사용하는 이유는 무엇인가요?  \\\n",
       "1                                            사용하지 않음   \n",
       "2             유행을 알고 싶어서;색조, 메이트업베이스 등에 대한 정보를 얻기 위해   \n",
       "4                             그냥 화장한 얼굴이 예뻐서 대리만족하려구   \n",
       "5             기초제품(스킨, 로션, 미스트, 선케어 등)에 대한 정보를 얻기 위해   \n",
       "7  색조, 메이트업베이스 등에 대한 정보를 얻기 위해;기초제품(스킨, 로션, 미스트, ...   \n",
       "\n",
       "              어떻게 하면 기초 제품 구매가 더 편리할 것 같아요? (복수응답가능)      related  \n",
       "1  비대면 응대를 활성화해주세요(낯을 가려요, 집에서 쇼핑하고 싶어요, 혼자 고민하고 ...  unchoosable  \n",
       "2  직원의 대면 응대를 활성화해주세요(상담은 사람과 만나서 하고 싶어요, 추천받은 제품...  unchoosable  \n",
       "4  특징별로 상품에 대한 요약 정리를 해주세요(보습라인 : 가,나,다 / 여드름 진정 ...  unchoosable  \n",
       "5  특징별로 상품에 대한 요약 정리를 해주세요(보습라인 : 가,나,다 / 여드름 진정 ...  unchoosable  \n",
       "7  특징별로 상품에 대한 요약 정리를 해주세요(보습라인 : 가,나,다 / 여드름 진정 ...  unchoosable  "
      ]
     },
     "execution_count": 55,
     "metadata": {},
     "output_type": "execute_result"
    }
   ],
   "source": [
    "unchoosable = df_purchasers[df_purchasers['related'] == 'unchoosable']\n",
    "unchoosable.head()"
   ]
  },
  {
   "cell_type": "code",
   "execution_count": 57,
   "metadata": {},
   "outputs": [
    {
     "data": {
      "text/plain": [
       "71"
      ]
     },
     "execution_count": 57,
     "metadata": {},
     "output_type": "execute_result"
    }
   ],
   "source": [
    "unchoosable.shape[0]"
   ]
  },
  {
   "cell_type": "code",
   "execution_count": 75,
   "metadata": {},
   "outputs": [
    {
     "name": "stdout",
     "output_type": "stream",
     "text": [
      "스킨 케어 제품을 혼자 결정할 수 없는 사람은 전체 응답자 135명 중 71명이고, 전체의 약52.59%이다.\n"
     ]
    }
   ],
   "source": [
    "# 스킨 케어 제품을 혼자 결정할 수 없는 사람의 비율\n",
    "print(f'스킨 케어 제품을 혼자 결정할 수 없는 사람은 전체 응답자 {data.shape[0]}명 중 {unchoosable.shape[0]}명이고, 전체의 약{round(unchoosable.shape[0]*100/data.shape[0], 2)}%이다.')"
   ]
  },
  {
   "cell_type": "code",
   "execution_count": 61,
   "metadata": {},
   "outputs": [],
   "source": [
    "def classify_reason(res, regex, boolean='False'):\n",
    "    if re.search(regex, res):\n",
    "        boolean = 'True'\n",
    "    return boolean"
   ]
  },
  {
   "cell_type": "code",
   "execution_count": 63,
   "metadata": {},
   "outputs": [
    {
     "name": "stderr",
     "output_type": "stream",
     "text": [
      "C:\\Users\\rlath\\AppData\\Local\\Continuum\\anaconda3\\lib\\site-packages\\ipykernel_launcher.py:2: SettingWithCopyWarning: \n",
      "A value is trying to be set on a copy of a slice from a DataFrame.\n",
      "Try using .loc[row_indexer,col_indexer] = value instead\n",
      "\n",
      "See the caveats in the documentation: http://pandas.pydata.org/pandas-docs/stable/indexing.html#indexing-view-versus-copy\n",
      "  \n"
     ]
    },
    {
     "data": {
      "text/html": [
       "<div>\n",
       "<style scoped>\n",
       "    .dataframe tbody tr th:only-of-type {\n",
       "        vertical-align: middle;\n",
       "    }\n",
       "\n",
       "    .dataframe tbody tr th {\n",
       "        vertical-align: top;\n",
       "    }\n",
       "\n",
       "    .dataframe thead th {\n",
       "        text-align: right;\n",
       "    }\n",
       "</style>\n",
       "<table border=\"1\" class=\"dataframe\">\n",
       "  <thead>\n",
       "    <tr style=\"text-align: right;\">\n",
       "      <th></th>\n",
       "      <th>연령대를 선택해주세요. (2020 - \"출생년도\" + 1의 결과값)</th>\n",
       "      <th>성별을 선택해주세요</th>\n",
       "      <th>기초제품을 구매하거나 선물한 적이 있나요?</th>\n",
       "      <th>평소 화장품에 대한 관심/지식은 어느정도인가요? (복수응답 가능)</th>\n",
       "      <th>기초제품 구매 시, 선택에 어려움을 겪은 적이 있나요? 그 이유를 말씀해주세요. (복수응답가능)</th>\n",
       "      <th>화장품 구매에 있어, 오프라인 매장 방문의 목적이 무엇인가요? (복수응답)</th>\n",
       "      <th>오프라인 매장 방문을 꺼리는 이유는 무엇인가요?</th>\n",
       "      <th>화장품과 관련하여 유튜브로 정보를 탐색하시나요?</th>\n",
       "      <th>화장품과 관련한 어플을 사용하시나요? (화해, 글로우픽 등)</th>\n",
       "      <th>화장품과 관련하여 유튜브 혹은 어플을 사용하는 이유는 무엇인가요?</th>\n",
       "      <th>어떻게 하면 기초 제품 구매가 더 편리할 것 같아요? (복수응답가능)</th>\n",
       "      <th>related</th>\n",
       "      <th>unchoosable reason</th>\n",
       "    </tr>\n",
       "  </thead>\n",
       "  <tbody>\n",
       "    <tr>\n",
       "      <th>1</th>\n",
       "      <td>20 ~ 24세</td>\n",
       "      <td>여성</td>\n",
       "      <td>예</td>\n",
       "      <td>비타민이 미백에 좋다는 것, 시카와 티트리 성분이 진정효과가 있다는 것 등을 알고 ...</td>\n",
       "      <td>제품이 너무 다양하고 많아서 정보를 알 수 없어서;진짜 좋은 제품인지 알 수 없어서</td>\n",
       "      <td>제품을 직접 테스트하고 크기 등을 보려고</td>\n",
       "      <td>오프라인 매장 방문을 꺼리지 않아요!;온라인 쇼핑에 익숙해져서;혼자 비교하고 결정하...</td>\n",
       "      <td>0.0</td>\n",
       "      <td>0.0</td>\n",
       "      <td>사용하지 않음</td>\n",
       "      <td>비대면 응대를 활성화해주세요(낯을 가려요, 집에서 쇼핑하고 싶어요, 혼자 고민하고 ...</td>\n",
       "      <td>unchoosable</td>\n",
       "      <td>knowledge</td>\n",
       "    </tr>\n",
       "    <tr>\n",
       "      <th>2</th>\n",
       "      <td>20 ~ 24세</td>\n",
       "      <td>여성</td>\n",
       "      <td>예</td>\n",
       "      <td>건성, 복합성, 지성이 무엇인지는 알고 있어요.;비타민이 미백에 좋다는 것, 시카와...</td>\n",
       "      <td>제품이 너무 다양하고 많아서 정보를 알 수 없어서;진짜 좋은 제품인지 알 수 없어서</td>\n",
       "      <td>제품을 직접 테스트하고 크기 등을 보려고;사람에게 물어보고 구매하고 싶어서</td>\n",
       "      <td>직원들의 접객이 불편해서;혜택이 더 다양하고 많아서</td>\n",
       "      <td>3.0</td>\n",
       "      <td>1.0</td>\n",
       "      <td>유행을 알고 싶어서;색조, 메이트업베이스 등에 대한 정보를 얻기 위해</td>\n",
       "      <td>직원의 대면 응대를 활성화해주세요(상담은 사람과 만나서 하고 싶어요, 추천받은 제품...</td>\n",
       "      <td>unchoosable</td>\n",
       "      <td>knowledge</td>\n",
       "    </tr>\n",
       "    <tr>\n",
       "      <th>4</th>\n",
       "      <td>20 ~ 24세</td>\n",
       "      <td>여성</td>\n",
       "      <td>예</td>\n",
       "      <td>비타민이 미백에 좋다는 것, 시카와 티트리 성분이 진정효과가 있다는 것 등을 알고 ...</td>\n",
       "      <td>제품이 너무 다양하고 많아서 정보를 알 수 없어서;피부가 민감하지 않아서 제품 다양...</td>\n",
       "      <td>집이랑 가까워서;그냥 집가다가 생각나면 사는 거고 아니면 쿠팡으로 사는거구~</td>\n",
       "      <td>오프라인 매장 방문을 꺼리지 않아요!</td>\n",
       "      <td>1.0</td>\n",
       "      <td>0.0</td>\n",
       "      <td>그냥 화장한 얼굴이 예뻐서 대리만족하려구</td>\n",
       "      <td>특징별로 상품에 대한 요약 정리를 해주세요(보습라인 : 가,나,다 / 여드름 진정 ...</td>\n",
       "      <td>unchoosable</td>\n",
       "      <td>knowledge</td>\n",
       "    </tr>\n",
       "    <tr>\n",
       "      <th>5</th>\n",
       "      <td>20 ~ 24세</td>\n",
       "      <td>남성</td>\n",
       "      <td>예</td>\n",
       "      <td>건성, 복합성, 지성이 무엇인지는 알고 있어요.</td>\n",
       "      <td>진짜 좋은 제품인지 알 수 없어서</td>\n",
       "      <td>제품을 직접 테스트하고 크기 등을 보려고;사람에게 물어보고 구매하고 싶어서</td>\n",
       "      <td>집에서 나가고 싶지 않아서</td>\n",
       "      <td>1.0</td>\n",
       "      <td>0.0</td>\n",
       "      <td>기초제품(스킨, 로션, 미스트, 선케어 등)에 대한 정보를 얻기 위해</td>\n",
       "      <td>특징별로 상품에 대한 요약 정리를 해주세요(보습라인 : 가,나,다 / 여드름 진정 ...</td>\n",
       "      <td>unchoosable</td>\n",
       "      <td>knowledge</td>\n",
       "    </tr>\n",
       "    <tr>\n",
       "      <th>7</th>\n",
       "      <td>25 ~ 29세</td>\n",
       "      <td>여성</td>\n",
       "      <td>예</td>\n",
       "      <td>건성, 복합성, 지성이 무엇인지는 알고 있어요.</td>\n",
       "      <td>제품이 너무 다양하고 많아서 정보를 알 수 없어서;매번 실패해서;진짜 좋은 제품인지...</td>\n",
       "      <td>제품을 직접 테스트하고 크기 등을 보려고;사람에게 물어보고 구매하고 싶어서;집이랑 ...</td>\n",
       "      <td>오프라인 매장 방문을 꺼리지 않아요!</td>\n",
       "      <td>2.0</td>\n",
       "      <td>0.0</td>\n",
       "      <td>색조, 메이트업베이스 등에 대한 정보를 얻기 위해;기초제품(스킨, 로션, 미스트, ...</td>\n",
       "      <td>특징별로 상품에 대한 요약 정리를 해주세요(보습라인 : 가,나,다 / 여드름 진정 ...</td>\n",
       "      <td>unchoosable</td>\n",
       "      <td>knowledge</td>\n",
       "    </tr>\n",
       "  </tbody>\n",
       "</table>\n",
       "</div>"
      ],
      "text/plain": [
       "  연령대를 선택해주세요. (2020 - \"출생년도\" + 1의 결과값) 성별을 선택해주세요 기초제품을 구매하거나 선물한 적이 있나요?  \\\n",
       "1                              20 ~ 24세         여성                       예   \n",
       "2                              20 ~ 24세         여성                       예   \n",
       "4                              20 ~ 24세         여성                       예   \n",
       "5                              20 ~ 24세         남성                       예   \n",
       "7                              25 ~ 29세         여성                       예   \n",
       "\n",
       "                평소 화장품에 대한 관심/지식은 어느정도인가요? (복수응답 가능)  \\\n",
       "1  비타민이 미백에 좋다는 것, 시카와 티트리 성분이 진정효과가 있다는 것 등을 알고 ...   \n",
       "2  건성, 복합성, 지성이 무엇인지는 알고 있어요.;비타민이 미백에 좋다는 것, 시카와...   \n",
       "4  비타민이 미백에 좋다는 것, 시카와 티트리 성분이 진정효과가 있다는 것 등을 알고 ...   \n",
       "5                         건성, 복합성, 지성이 무엇인지는 알고 있어요.   \n",
       "7                         건성, 복합성, 지성이 무엇인지는 알고 있어요.   \n",
       "\n",
       "  기초제품 구매 시, 선택에 어려움을 겪은 적이 있나요? 그 이유를 말씀해주세요. (복수응답가능)  \\\n",
       "1     제품이 너무 다양하고 많아서 정보를 알 수 없어서;진짜 좋은 제품인지 알 수 없어서      \n",
       "2     제품이 너무 다양하고 많아서 정보를 알 수 없어서;진짜 좋은 제품인지 알 수 없어서      \n",
       "4  제품이 너무 다양하고 많아서 정보를 알 수 없어서;피부가 민감하지 않아서 제품 다양...      \n",
       "5                                 진짜 좋은 제품인지 알 수 없어서      \n",
       "7  제품이 너무 다양하고 많아서 정보를 알 수 없어서;매번 실패해서;진짜 좋은 제품인지...      \n",
       "\n",
       "           화장품 구매에 있어, 오프라인 매장 방문의 목적이 무엇인가요? (복수응답)  \\\n",
       "1                             제품을 직접 테스트하고 크기 등을 보려고   \n",
       "2          제품을 직접 테스트하고 크기 등을 보려고;사람에게 물어보고 구매하고 싶어서   \n",
       "4         집이랑 가까워서;그냥 집가다가 생각나면 사는 거고 아니면 쿠팡으로 사는거구~   \n",
       "5          제품을 직접 테스트하고 크기 등을 보려고;사람에게 물어보고 구매하고 싶어서   \n",
       "7  제품을 직접 테스트하고 크기 등을 보려고;사람에게 물어보고 구매하고 싶어서;집이랑 ...   \n",
       "\n",
       "                          오프라인 매장 방문을 꺼리는 이유는 무엇인가요?  \\\n",
       "1  오프라인 매장 방문을 꺼리지 않아요!;온라인 쇼핑에 익숙해져서;혼자 비교하고 결정하...   \n",
       "2                       직원들의 접객이 불편해서;혜택이 더 다양하고 많아서   \n",
       "4                               오프라인 매장 방문을 꺼리지 않아요!   \n",
       "5                                     집에서 나가고 싶지 않아서   \n",
       "7                               오프라인 매장 방문을 꺼리지 않아요!   \n",
       "\n",
       "   화장품과 관련하여 유튜브로 정보를 탐색하시나요?  화장품과 관련한 어플을 사용하시나요? (화해, 글로우픽 등)  \\\n",
       "1                         0.0                                0.0   \n",
       "2                         3.0                                1.0   \n",
       "4                         1.0                                0.0   \n",
       "5                         1.0                                0.0   \n",
       "7                         2.0                                0.0   \n",
       "\n",
       "                화장품과 관련하여 유튜브 혹은 어플을 사용하는 이유는 무엇인가요?  \\\n",
       "1                                            사용하지 않음   \n",
       "2             유행을 알고 싶어서;색조, 메이트업베이스 등에 대한 정보를 얻기 위해   \n",
       "4                             그냥 화장한 얼굴이 예뻐서 대리만족하려구   \n",
       "5             기초제품(스킨, 로션, 미스트, 선케어 등)에 대한 정보를 얻기 위해   \n",
       "7  색조, 메이트업베이스 등에 대한 정보를 얻기 위해;기초제품(스킨, 로션, 미스트, ...   \n",
       "\n",
       "              어떻게 하면 기초 제품 구매가 더 편리할 것 같아요? (복수응답가능)      related  \\\n",
       "1  비대면 응대를 활성화해주세요(낯을 가려요, 집에서 쇼핑하고 싶어요, 혼자 고민하고 ...  unchoosable   \n",
       "2  직원의 대면 응대를 활성화해주세요(상담은 사람과 만나서 하고 싶어요, 추천받은 제품...  unchoosable   \n",
       "4  특징별로 상품에 대한 요약 정리를 해주세요(보습라인 : 가,나,다 / 여드름 진정 ...  unchoosable   \n",
       "5  특징별로 상품에 대한 요약 정리를 해주세요(보습라인 : 가,나,다 / 여드름 진정 ...  unchoosable   \n",
       "7  특징별로 상품에 대한 요약 정리를 해주세요(보습라인 : 가,나,다 / 여드름 진정 ...  unchoosable   \n",
       "\n",
       "  unchoosable reason  \n",
       "1          knowledge  \n",
       "2          knowledge  \n",
       "4          knowledge  \n",
       "5          knowledge  \n",
       "7          knowledge  "
      ]
     },
     "execution_count": 63,
     "metadata": {},
     "output_type": "execute_result"
    }
   ],
   "source": [
    "# 혼자 결정할 수 없는 사람들 중 기초제품 구매에 어려움을 겪은 이유가 지식 부족인 비율 알아보기\n",
    "unchoosable['unchoosable reason'] = unchoosable[ques[4]].apply(lambda x: 'knowledge' if classify_reason(x, '(지식.*(없[어다]|부족)|몰라)') else 'others')\n",
    "unchoosable.head()"
   ]
  },
  {
   "cell_type": "code",
   "execution_count": 76,
   "metadata": {},
   "outputs": [
    {
     "name": "stdout",
     "output_type": "stream",
     "text": [
      "100.0%가 스킨 케어 지식 부족으로 구매에 어려움을 겪은 적이 있다고 말했다.\n"
     ]
    }
   ],
   "source": [
    "print(f'{round(unchoosable[unchoosable[\"unchoosable reason\"] == \"knowledge\"].shape[0]*100/unchoosable.shape[0], 2)}%가 스킨 케어 지식 부족으로 구매에 어려움을 겪은 적이 있다고 말했다.')"
   ]
  },
  {
   "cell_type": "code",
   "execution_count": null,
   "metadata": {},
   "outputs": [],
   "source": []
  }
 ],
 "metadata": {
  "kernelspec": {
   "display_name": "Python 3",
   "language": "python",
   "name": "python3"
  },
  "language_info": {
   "codemirror_mode": {
    "name": "ipython",
    "version": 3
   },
   "file_extension": ".py",
   "mimetype": "text/x-python",
   "name": "python",
   "nbconvert_exporter": "python",
   "pygments_lexer": "ipython3",
   "version": "3.7.6"
  }
 },
 "nbformat": 4,
 "nbformat_minor": 2
}
