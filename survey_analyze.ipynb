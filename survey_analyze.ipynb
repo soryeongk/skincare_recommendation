{
 "cells": [
  {
   "cell_type": "code",
   "execution_count": 1,
   "metadata": {},
   "outputs": [],
   "source": [
    "import pandas as pd\n",
    "import re"
   ]
  },
  {
   "cell_type": "markdown",
   "metadata": {},
   "source": [
    "# 0. 설문조사 결과 가져오기"
   ]
  },
  {
   "cell_type": "code",
   "execution_count": 2,
   "metadata": {},
   "outputs": [],
   "source": [
    "data = pd.read_csv('survey_data.csv')"
   ]
  },
  {
   "cell_type": "code",
   "execution_count": 3,
   "metadata": {
    "scrolled": true
   },
   "outputs": [
    {
     "data": {
      "text/html": [
       "<div>\n",
       "<style scoped>\n",
       "    .dataframe tbody tr th:only-of-type {\n",
       "        vertical-align: middle;\n",
       "    }\n",
       "\n",
       "    .dataframe tbody tr th {\n",
       "        vertical-align: top;\n",
       "    }\n",
       "\n",
       "    .dataframe thead th {\n",
       "        text-align: right;\n",
       "    }\n",
       "</style>\n",
       "<table border=\"1\" class=\"dataframe\">\n",
       "  <thead>\n",
       "    <tr style=\"text-align: right;\">\n",
       "      <th></th>\n",
       "      <th>타임스탬프</th>\n",
       "      <th>연령대를 선택해주세요. (2020 - \"출생년도\" + 1의 결과값)</th>\n",
       "      <th>성별을 선택해주세요</th>\n",
       "      <th>기초제품을 구매하거나 선물한 적이 있나요?</th>\n",
       "      <th>평소 화장품에 대한 관심/지식은 어느정도인가요? (복수응답 가능)</th>\n",
       "      <th>기초제품 구매 시, 선택에 어려움을 겪은 적이 있나요? 그 이유를 말씀해주세요. (복수응답가능)</th>\n",
       "      <th>화장품 구매에 있어, 오프라인 매장 방문의 목적이 무엇인가요? (복수응답)</th>\n",
       "      <th>오프라인 매장 방문을 꺼리는 이유는 무엇인가요?</th>\n",
       "      <th>화장품과 관련하여 유튜브로 정보를 탐색하시나요?</th>\n",
       "      <th>화장품과 관련한 어플을 사용하시나요? (화해, 글로우픽 등)</th>\n",
       "      <th>화장품과 관련하여 유튜브 혹은 어플을 사용하는 이유는 무엇인가요?</th>\n",
       "      <th>어떻게 하면 기초 제품 구매가 더 편리할 것 같아요? (복수응답가능)</th>\n",
       "    </tr>\n",
       "  </thead>\n",
       "  <tbody>\n",
       "    <tr>\n",
       "      <th>0</th>\n",
       "      <td>2020/05/18 5:26:50 오후 GMT+9</td>\n",
       "      <td>20 ~ 24세</td>\n",
       "      <td>여성</td>\n",
       "      <td>예</td>\n",
       "      <td>건성, 복합성, 지성이 무엇인지는 알고 있어요.;비타민이 미백에 좋다는 것, 시카와...</td>\n",
       "      <td>제품이 너무 다양하고 많아서 정보를 알 수 없어서;진짜 좋은 제품인지 알 수 없어서...</td>\n",
       "      <td>제품을 직접 테스트하고 크기 등을 보려고;사람에게 물어보고 구매하고 싶어서;온라인 ...</td>\n",
       "      <td>오프라인 매장 방문을 꺼리지 않아요!</td>\n",
       "      <td>1.0</td>\n",
       "      <td>0.0</td>\n",
       "      <td>언젠가 구매할지도 모르니까;색조, 메이트업베이스 등에 대한 정보를 얻기 위해</td>\n",
       "      <td>직원의 대면 응대를 활성화해주세요(상담은 사람과 만나서 하고 싶어요, 추천받은 제품...</td>\n",
       "    </tr>\n",
       "    <tr>\n",
       "      <th>1</th>\n",
       "      <td>2020/05/18 5:43:14 오후 GMT+9</td>\n",
       "      <td>20 ~ 24세</td>\n",
       "      <td>여성</td>\n",
       "      <td>예</td>\n",
       "      <td>비타민이 미백에 좋다는 것, 시카와 티트리 성분이 진정효과가 있다는 것 등을 알고 ...</td>\n",
       "      <td>제품이 너무 다양하고 많아서 정보를 알 수 없어서;진짜 좋은 제품인지 알 수 없어서</td>\n",
       "      <td>제품을 직접 테스트하고 크기 등을 보려고</td>\n",
       "      <td>오프라인 매장 방문을 꺼리지 않아요!;온라인 쇼핑에 익숙해져서;혼자 비교하고 결정하...</td>\n",
       "      <td>0.0</td>\n",
       "      <td>0.0</td>\n",
       "      <td>사용하지 않음</td>\n",
       "      <td>비대면 응대를 활성화해주세요(낯을 가려요, 집에서 쇼핑하고 싶어요, 혼자 고민하고 ...</td>\n",
       "    </tr>\n",
       "    <tr>\n",
       "      <th>2</th>\n",
       "      <td>2020/05/18 5:44:06 오후 GMT+9</td>\n",
       "      <td>20 ~ 24세</td>\n",
       "      <td>여성</td>\n",
       "      <td>예</td>\n",
       "      <td>건성, 복합성, 지성이 무엇인지는 알고 있어요.;비타민이 미백에 좋다는 것, 시카와...</td>\n",
       "      <td>제품이 너무 다양하고 많아서 정보를 알 수 없어서;진짜 좋은 제품인지 알 수 없어서</td>\n",
       "      <td>제품을 직접 테스트하고 크기 등을 보려고;사람에게 물어보고 구매하고 싶어서</td>\n",
       "      <td>직원들의 접객이 불편해서;혜택이 더 다양하고 많아서</td>\n",
       "      <td>3.0</td>\n",
       "      <td>1.0</td>\n",
       "      <td>유행을 알고 싶어서;색조, 메이트업베이스 등에 대한 정보를 얻기 위해</td>\n",
       "      <td>직원의 대면 응대를 활성화해주세요(상담은 사람과 만나서 하고 싶어요, 추천받은 제품...</td>\n",
       "    </tr>\n",
       "    <tr>\n",
       "      <th>3</th>\n",
       "      <td>2020/05/18 5:45:14 오후 GMT+9</td>\n",
       "      <td>19세 이하</td>\n",
       "      <td>여성</td>\n",
       "      <td>예</td>\n",
       "      <td>자신의 피부에 맞게 상품을 비교하고 선택할 수 있어요.</td>\n",
       "      <td>진짜 좋은 제품인지 알 수 없어서</td>\n",
       "      <td>제품을 직접 테스트하고 크기 등을 보려고</td>\n",
       "      <td>오프라인 매장 방문을 꺼리지 않아요!</td>\n",
       "      <td>4.0</td>\n",
       "      <td>4.0</td>\n",
       "      <td>색조, 메이트업베이스 등에 대한 정보를 얻기 위해;기초제품(스킨, 로션, 미스트, ...</td>\n",
       "      <td>특징별로 상품에 대한 요약 정리를 해주세요(보습라인 : 가,나,다 / 여드름 진정 ...</td>\n",
       "    </tr>\n",
       "    <tr>\n",
       "      <th>4</th>\n",
       "      <td>2020/05/18 5:46:18 오후 GMT+9</td>\n",
       "      <td>20 ~ 24세</td>\n",
       "      <td>여성</td>\n",
       "      <td>예</td>\n",
       "      <td>비타민이 미백에 좋다는 것, 시카와 티트리 성분이 진정효과가 있다는 것 등을 알고 ...</td>\n",
       "      <td>제품이 너무 다양하고 많아서 정보를 알 수 없어서;피부가 민감하지 않아서 제품 다양...</td>\n",
       "      <td>집이랑 가까워서;그냥 집가다가 생각나면 사는 거고 아니면 쿠팡으로 사는거구~</td>\n",
       "      <td>오프라인 매장 방문을 꺼리지 않아요!</td>\n",
       "      <td>1.0</td>\n",
       "      <td>0.0</td>\n",
       "      <td>그냥 화장한 얼굴이 예뻐서 대리만족하려구</td>\n",
       "      <td>특징별로 상품에 대한 요약 정리를 해주세요(보습라인 : 가,나,다 / 여드름 진정 ...</td>\n",
       "    </tr>\n",
       "  </tbody>\n",
       "</table>\n",
       "</div>"
      ],
      "text/plain": [
       "                         타임스탬프 연령대를 선택해주세요. (2020 - \"출생년도\" + 1의 결과값)  \\\n",
       "0  2020/05/18 5:26:50 오후 GMT+9                              20 ~ 24세   \n",
       "1  2020/05/18 5:43:14 오후 GMT+9                              20 ~ 24세   \n",
       "2  2020/05/18 5:44:06 오후 GMT+9                              20 ~ 24세   \n",
       "3  2020/05/18 5:45:14 오후 GMT+9                                19세 이하   \n",
       "4  2020/05/18 5:46:18 오후 GMT+9                              20 ~ 24세   \n",
       "\n",
       "  성별을 선택해주세요 기초제품을 구매하거나 선물한 적이 있나요?  \\\n",
       "0         여성                       예   \n",
       "1         여성                       예   \n",
       "2         여성                       예   \n",
       "3         여성                       예   \n",
       "4         여성                       예   \n",
       "\n",
       "                평소 화장품에 대한 관심/지식은 어느정도인가요? (복수응답 가능)  \\\n",
       "0  건성, 복합성, 지성이 무엇인지는 알고 있어요.;비타민이 미백에 좋다는 것, 시카와...   \n",
       "1  비타민이 미백에 좋다는 것, 시카와 티트리 성분이 진정효과가 있다는 것 등을 알고 ...   \n",
       "2  건성, 복합성, 지성이 무엇인지는 알고 있어요.;비타민이 미백에 좋다는 것, 시카와...   \n",
       "3                     자신의 피부에 맞게 상품을 비교하고 선택할 수 있어요.   \n",
       "4  비타민이 미백에 좋다는 것, 시카와 티트리 성분이 진정효과가 있다는 것 등을 알고 ...   \n",
       "\n",
       "  기초제품 구매 시, 선택에 어려움을 겪은 적이 있나요? 그 이유를 말씀해주세요. (복수응답가능)  \\\n",
       "0  제품이 너무 다양하고 많아서 정보를 알 수 없어서;진짜 좋은 제품인지 알 수 없어서...      \n",
       "1     제품이 너무 다양하고 많아서 정보를 알 수 없어서;진짜 좋은 제품인지 알 수 없어서      \n",
       "2     제품이 너무 다양하고 많아서 정보를 알 수 없어서;진짜 좋은 제품인지 알 수 없어서      \n",
       "3                                 진짜 좋은 제품인지 알 수 없어서      \n",
       "4  제품이 너무 다양하고 많아서 정보를 알 수 없어서;피부가 민감하지 않아서 제품 다양...      \n",
       "\n",
       "           화장품 구매에 있어, 오프라인 매장 방문의 목적이 무엇인가요? (복수응답)  \\\n",
       "0  제품을 직접 테스트하고 크기 등을 보려고;사람에게 물어보고 구매하고 싶어서;온라인 ...   \n",
       "1                             제품을 직접 테스트하고 크기 등을 보려고   \n",
       "2          제품을 직접 테스트하고 크기 등을 보려고;사람에게 물어보고 구매하고 싶어서   \n",
       "3                             제품을 직접 테스트하고 크기 등을 보려고   \n",
       "4         집이랑 가까워서;그냥 집가다가 생각나면 사는 거고 아니면 쿠팡으로 사는거구~   \n",
       "\n",
       "                          오프라인 매장 방문을 꺼리는 이유는 무엇인가요?  \\\n",
       "0                               오프라인 매장 방문을 꺼리지 않아요!   \n",
       "1  오프라인 매장 방문을 꺼리지 않아요!;온라인 쇼핑에 익숙해져서;혼자 비교하고 결정하...   \n",
       "2                       직원들의 접객이 불편해서;혜택이 더 다양하고 많아서   \n",
       "3                               오프라인 매장 방문을 꺼리지 않아요!   \n",
       "4                               오프라인 매장 방문을 꺼리지 않아요!   \n",
       "\n",
       "   화장품과 관련하여 유튜브로 정보를 탐색하시나요?  화장품과 관련한 어플을 사용하시나요? (화해, 글로우픽 등)  \\\n",
       "0                         1.0                                0.0   \n",
       "1                         0.0                                0.0   \n",
       "2                         3.0                                1.0   \n",
       "3                         4.0                                4.0   \n",
       "4                         1.0                                0.0   \n",
       "\n",
       "                화장품과 관련하여 유튜브 혹은 어플을 사용하는 이유는 무엇인가요?  \\\n",
       "0         언젠가 구매할지도 모르니까;색조, 메이트업베이스 등에 대한 정보를 얻기 위해   \n",
       "1                                            사용하지 않음   \n",
       "2             유행을 알고 싶어서;색조, 메이트업베이스 등에 대한 정보를 얻기 위해   \n",
       "3  색조, 메이트업베이스 등에 대한 정보를 얻기 위해;기초제품(스킨, 로션, 미스트, ...   \n",
       "4                             그냥 화장한 얼굴이 예뻐서 대리만족하려구   \n",
       "\n",
       "              어떻게 하면 기초 제품 구매가 더 편리할 것 같아요? (복수응답가능)  \n",
       "0  직원의 대면 응대를 활성화해주세요(상담은 사람과 만나서 하고 싶어요, 추천받은 제품...  \n",
       "1  비대면 응대를 활성화해주세요(낯을 가려요, 집에서 쇼핑하고 싶어요, 혼자 고민하고 ...  \n",
       "2  직원의 대면 응대를 활성화해주세요(상담은 사람과 만나서 하고 싶어요, 추천받은 제품...  \n",
       "3  특징별로 상품에 대한 요약 정리를 해주세요(보습라인 : 가,나,다 / 여드름 진정 ...  \n",
       "4  특징별로 상품에 대한 요약 정리를 해주세요(보습라인 : 가,나,다 / 여드름 진정 ...  "
      ]
     },
     "execution_count": 3,
     "metadata": {},
     "output_type": "execute_result"
    }
   ],
   "source": [
    "data.head()"
   ]
  },
  {
   "cell_type": "code",
   "execution_count": 4,
   "metadata": {},
   "outputs": [
    {
     "data": {
      "text/plain": [
       "(137, 12)"
      ]
     },
     "execution_count": 4,
     "metadata": {},
     "output_type": "execute_result"
    }
   ],
   "source": [
    "data.shape"
   ]
  },
  {
   "cell_type": "markdown",
   "metadata": {},
   "source": [
    "타임스탬프를 제외한 11개의 질문과 137개의 응답"
   ]
  },
  {
   "cell_type": "markdown",
   "metadata": {},
   "source": [
    "# 1. 질문 리스트 만들기"
   ]
  },
  {
   "cell_type": "code",
   "execution_count": 5,
   "metadata": {},
   "outputs": [
    {
     "data": {
      "text/plain": [
       "['연령대를 선택해주세요. (2020 - \"출생년도\" + 1의 결과값)',\n",
       " '성별을 선택해주세요',\n",
       " '기초제품을 구매하거나 선물한 적이 있나요?',\n",
       " '평소 화장품에 대한 관심/지식은 어느정도인가요? (복수응답 가능)',\n",
       " '기초제품 구매 시, 선택에 어려움을 겪은 적이 있나요? 그 이유를 말씀해주세요. (복수응답가능)',\n",
       " '화장품 구매에 있어, 오프라인 매장 방문의 목적이 무엇인가요? (복수응답)',\n",
       " '오프라인 매장 방문을 꺼리는 이유는 무엇인가요?',\n",
       " '화장품과 관련하여 유튜브로 정보를 탐색하시나요?',\n",
       " '화장품과 관련한 어플을 사용하시나요? (화해, 글로우픽 등)',\n",
       " '화장품과 관련하여 유튜브 혹은 어플을 사용하는 이유는 무엇인가요?',\n",
       " '어떻게 하면 기초 제품 구매가 더 편리할 것 같아요? (복수응답가능)']"
      ]
     },
     "execution_count": 5,
     "metadata": {},
     "output_type": "execute_result"
    }
   ],
   "source": [
    "ques = list(data.columns)[1:]  # 타임스탬프 제외\n",
    "ques"
   ]
  },
  {
   "cell_type": "markdown",
   "metadata": {},
   "source": [
    "# 2. 응답자 구분하기"
   ]
  },
  {
   "cell_type": "markdown",
   "metadata": {},
   "source": [
    "relatd = '업계에 종사하고 있어요.'를 선택한 응답자\n",
    "\n",
    "customers = '업계에 종사하고 있어요'를 선택하지 않은 응답자 (화장품 미구매자 포함)\n",
    "\n",
    "purchasers = 스킨케어 제품을 구매한 적이 있다고 답한 응답자 (업계 종사자 포함)"
   ]
  },
  {
   "cell_type": "code",
   "execution_count": 6,
   "metadata": {},
   "outputs": [],
   "source": [
    "related = pd.DataFrame(columns = data.columns)\n",
    "customers = pd.DataFrame(columns = data.columns)\n",
    "purchasers = pd.DataFrame(columns = data.columns)"
   ]
  },
  {
   "cell_type": "code",
   "execution_count": 7,
   "metadata": {},
   "outputs": [],
   "source": [
    "for i, ans in enumerate(data.iloc[:, 4]):\n",
    "    if type(ans) is not str:\n",
    "        customers = customers.append(data.iloc[i])\n",
    "        continue\n",
    "    purchasers = purchasers.append(data.iloc[i])\n",
    "    \n",
    "    if '업계에 종사하고 있어요'in ans:\n",
    "        related = related.append(data.iloc[i])\n",
    "    else:\n",
    "        customers = customers.append(data.iloc[i])"
   ]
  },
  {
   "cell_type": "code",
   "execution_count": 8,
   "metadata": {},
   "outputs": [
    {
     "data": {
      "text/plain": [
       "(3, 12)"
      ]
     },
     "execution_count": 8,
     "metadata": {},
     "output_type": "execute_result"
    }
   ],
   "source": [
    "related.shape"
   ]
  },
  {
   "cell_type": "code",
   "execution_count": 9,
   "metadata": {},
   "outputs": [
    {
     "data": {
      "text/plain": [
       "(134, 12)"
      ]
     },
     "execution_count": 9,
     "metadata": {},
     "output_type": "execute_result"
    }
   ],
   "source": [
    "customers.shape"
   ]
  },
  {
   "cell_type": "code",
   "execution_count": 10,
   "metadata": {},
   "outputs": [
    {
     "data": {
      "text/plain": [
       "(124, 12)"
      ]
     },
     "execution_count": 10,
     "metadata": {},
     "output_type": "execute_result"
    }
   ],
   "source": [
    "purchasers.shape"
   ]
  },
  {
   "cell_type": "markdown",
   "metadata": {},
   "source": [
    "# 3. 오프라인 매장 방문을 꺼리는 이유 살피기"
   ]
  },
  {
   "cell_type": "markdown",
   "metadata": {},
   "source": [
    "답변별로 몇 명이 응답하지는지에 대한 함수 만들기\n",
    "\n",
    "데이터 프레임과 질문의 번호를 전달하면 '답변 내용' : '인원수'를 반환"
   ]
  },
  {
   "cell_type": "code",
   "execution_count": 11,
   "metadata": {},
   "outputs": [
    {
     "name": "stdout",
     "output_type": "stream",
     "text": [
      "1 : 연령대를 선택해주세요. (2020 - \"출생년도\" + 1의 결과값)\n",
      "2 : 성별을 선택해주세요\n",
      "3 : 기초제품을 구매하거나 선물한 적이 있나요?\n",
      "4 : 평소 화장품에 대한 관심/지식은 어느정도인가요? (복수응답 가능)\n",
      "5 : 기초제품 구매 시, 선택에 어려움을 겪은 적이 있나요? 그 이유를 말씀해주세요. (복수응답가능)\n",
      "6 : 화장품 구매에 있어, 오프라인 매장 방문의 목적이 무엇인가요? (복수응답)\n",
      "7 : 오프라인 매장 방문을 꺼리는 이유는 무엇인가요?\n",
      "8 : 화장품과 관련하여 유튜브로 정보를 탐색하시나요?\n",
      "9 : 화장품과 관련한 어플을 사용하시나요? (화해, 글로우픽 등)\n",
      "10 : 화장품과 관련하여 유튜브 혹은 어플을 사용하는 이유는 무엇인가요?\n",
      "11 : 어떻게 하면 기초 제품 구매가 더 편리할 것 같아요? (복수응답가능)\n"
     ]
    }
   ],
   "source": [
    "for i, q in enumerate(ques):\n",
    "    print(f'{i+1} : {q}')"
   ]
  },
  {
   "cell_type": "code",
   "execution_count": 12,
   "metadata": {},
   "outputs": [],
   "source": [
    "# 더 간단하게 할 수 있는 방법 모색하기\n",
    "\n",
    "def count_answers(df, ques_num):\n",
    "    count = dict()\n",
    "    \n",
    "    for answer in df.iloc[:,ques_num]:\n",
    "        if ';' in answer:\n",
    "            for ans in answer.split(';'):\n",
    "                if ans not in count.keys():\n",
    "                    count[ans] = 1\n",
    "                else:\n",
    "                    count[ans] += 1\n",
    "        else:\n",
    "            if answer not in count.keys():\n",
    "                count[answer] = 1\n",
    "            else:\n",
    "                count[answer] += 1\n",
    "    return count"
   ]
  },
  {
   "cell_type": "code",
   "execution_count": 13,
   "metadata": {},
   "outputs": [
    {
     "data": {
      "text/plain": [
       "{'오프라인 매장 방문을 꺼리지 않아요!': 59,\n",
       " '온라인 쇼핑에 익숙해져서': 20,\n",
       " '혼자 비교하고 결정하고 싶어서': 20,\n",
       " '직원들의 접객이 불편해서': 28,\n",
       " '혜택이 더 다양하고 많아서': 16,\n",
       " '집에서 나가고 싶지 않아서': 16,\n",
       " '온라인이 더 싸요': 1,\n",
       " '어플, 유튜브, 방송 등 스스로도 충분히 정보를 얻을 수 있어서': 18,\n",
       " '사람 많은 곳을 좋아하지 않아서': 2,\n",
       " '귀찮아서': 1,\n",
       " '온라인으로 더 저렴히 구매가능해서': 1,\n",
       " '온라인으로 받을 수 있는 혜택(ex.할인)이 많아서': 1,\n",
       " '나가기귀찮아서': 1}"
      ]
     },
     "execution_count": 13,
     "metadata": {},
     "output_type": "execute_result"
    }
   ],
   "source": [
    "count_answers(purchasers, 7)"
   ]
  },
  {
   "cell_type": "markdown",
   "metadata": {},
   "source": [
    "오프라인 방문을 꺼리지 않는다고 답한 사람들이 꺼리는 이유를 선택한 경우도 있었다.\n",
    "\n",
    "선택의 이유는 아래의 경우라고 추정할 수 있다.\n",
    "\n",
    "1. 본인은 오프라인 방문을 꺼리지 않지만, 사람들이 생각한 이유에 대해서 추측한 답변\n",
    "2. 오프라인 매장 방문을 꺼리지는 않지만, 한 번씩 불편함을 느끼는 정도\n",
    "3. 업계 종사자가 느낀 일반 고객들의 생각\n",
    "4. 기타\n",
    "\n",
    "중복된 답변은 아래와 같이 처리하자.\n",
    "\n",
    "1. '귀찮'이라는 답변이 들어간 내용은 '집에서 나가고 싶지 않아서'로 합친다.\n",
    "2. '온라인', '혜택', '저렴'이라는 단어가 들어간 답변은 '온라인에서의 혜택이 더 다양하고 많아서'라는 답변으로 고친다.\n",
    "3. 기타(추가 사항이 있다면 기록해두기)"
   ]
  },
  {
   "cell_type": "code",
   "execution_count": 14,
   "metadata": {},
   "outputs": [],
   "source": [
    "temp_counting = count_answers(purchasers, 7)"
   ]
  },
  {
   "cell_type": "code",
   "execution_count": 15,
   "metadata": {},
   "outputs": [
    {
     "data": {
      "text/plain": [
       "{'오프라인 매장 방문을 꺼리지 않아요!': 59,\n",
       " '온라인 쇼핑에 익숙해져서': 20,\n",
       " '혼자 비교하고 결정하고 싶어서': 20,\n",
       " '직원들의 접객이 불편해서': 28,\n",
       " '혜택이 더 다양하고 많아서': 19,\n",
       " '집에서 나가고 싶지 않아서': 18,\n",
       " '온라인이 더 싸요': 0,\n",
       " '어플, 유튜브, 방송 등 스스로도 충분히 정보를 얻을 수 있어서': 18,\n",
       " '사람 많은 곳을 좋아하지 않아서': 2,\n",
       " '귀찮아서': 0,\n",
       " '온라인으로 더 저렴히 구매가능해서': 0,\n",
       " '온라인으로 받을 수 있는 혜택(ex.할인)이 많아서': 0,\n",
       " '나가기귀찮아서': 0}"
      ]
     },
     "execution_count": 15,
     "metadata": {},
     "output_type": "execute_result"
    }
   ],
   "source": [
    "for key, value in temp_counting.items():\n",
    "    if '귀찮' in key:\n",
    "        temp_counting['집에서 나가고 싶지 않아서'] += value\n",
    "        temp_counting[key] = 0\n",
    "    elif re.search('온라인.+(혜택|싸[요다서]|저렴)', key):\n",
    "        temp_counting['혜택이 더 다양하고 많아서'] += value\n",
    "        temp_counting[key] = 0\n",
    "\n",
    "temp_counting"
   ]
  },
  {
   "cell_type": "code",
   "execution_count": 16,
   "metadata": {},
   "outputs": [
    {
     "data": {
      "text/plain": [
       "{'오프라인 매장 방문을 꺼리지 않아요!': 59,\n",
       " '온라인 쇼핑에 익숙해져서': 20,\n",
       " '혼자 비교하고 결정하고 싶어서': 20,\n",
       " '직원들의 접객이 불편해서': 28,\n",
       " '집에서 나가고 싶지 않아서': 18,\n",
       " '온라인이 더 싸요': 0,\n",
       " '어플, 유튜브, 방송 등 스스로도 충분히 정보를 얻을 수 있어서': 18,\n",
       " '사람 많은 곳을 좋아하지 않아서': 2,\n",
       " '귀찮아서': 0,\n",
       " '온라인으로 더 저렴히 구매가능해서': 0,\n",
       " '온라인으로 받을 수 있는 혜택(ex.할인)이 많아서': 0,\n",
       " '나가기귀찮아서': 0,\n",
       " '온라인 구매가 혜택이 더 다양하고 많아서': 19}"
      ]
     },
     "execution_count": 16,
     "metadata": {},
     "output_type": "execute_result"
    }
   ],
   "source": [
    "temp_counting['온라인 구매가 혜택이 더 다양하고 많아서'] = temp_counting.pop('혜택이 더 다양하고 많아서')\n",
    "temp_counting"
   ]
  },
  {
   "cell_type": "code",
   "execution_count": 17,
   "metadata": {},
   "outputs": [
    {
     "data": {
      "text/plain": [
       "{'오프라인 매장 방문을 꺼리지 않아요!': 59,\n",
       " '온라인 쇼핑에 익숙해져서': 20,\n",
       " '혼자 비교하고 결정하고 싶어서': 20,\n",
       " '직원들의 접객이 불편해서': 28,\n",
       " '집에서 나가고 싶지 않아서': 18,\n",
       " '어플, 유튜브, 방송 등 스스로도 충분히 정보를 얻을 수 있어서': 18,\n",
       " '사람 많은 곳을 좋아하지 않아서': 2,\n",
       " '온라인 구매가 혜택이 더 다양하고 많아서': 19}"
      ]
     },
     "execution_count": 17,
     "metadata": {},
     "output_type": "execute_result"
    }
   ],
   "source": [
    "reasons_mind_offline = dict()\n",
    "\n",
    "for k, v in temp_counting.items():\n",
    "    if v:\n",
    "        reasons_mind_offline[k] = v\n",
    "\n",
    "reasons_mind_offline"
   ]
  },
  {
   "cell_type": "code",
   "execution_count": 18,
   "metadata": {},
   "outputs": [
    {
     "name": "stdout",
     "output_type": "stream",
     "text": [
      "오프라인 매장 방문을 조금이라도 꺼리는 고객의 비율 : 60.48%\n",
      "온라인을 선호하기 떄문에 굳이 매장에 오지 않는 고객의 비율 : 30.67%\n",
      "접객이 불편하거나 혼자 의사결정을 하고 싶은 고객의 비율 : 44.0%\n"
     ]
    }
   ],
   "source": [
    "'''\n",
    "오프라인 매장 방문을 조금이라도 꺼리는 사람들의 비율\n",
    "     = \"오프라인 방문을 꺼리지 않아요\"를 선택하지 않은 사람들\n",
    "        + 꺼리지 않지만, 이유는 알겠는 사람들\n",
    "구매 경험이 있는 사람들(purchaser) 중에서 살피기\n",
    "'''\n",
    "\n",
    "num_mind_visiting, num_prefer_online, num_dislike_hospitality = 0, 0, 0\n",
    "\n",
    "for ans in purchasers.iloc[:, 7]:\n",
    "    if re.search('오프라인 매장 방문을 꺼리지 않아요!', ans):\n",
    "        if ';' not in ans:  # 오프라인 매장을 꺼리는 이유를 전혀 선택하지 않은 사람들\n",
    "            continue\n",
    "    num_mind_visiting += 1\n",
    "    if re.search('온라인', ans):\n",
    "        num_prefer_online += 1\n",
    "    elif re.search('(혼자|직원(접객)?)', ans):\n",
    "        num_dislike_hospitality += 1\n",
    "        \n",
    "print(f'오프라인 매장 방문을 조금이라도 꺼리는 고객의 비율 : {round(num_mind_visiting*100/purchasers.shape[0], 2)}%')\n",
    "\n",
    "# 오프라인을 조금이라도 꺼리는 사람들 중 온라인을 선호기 때문에 굳이 오프라인에 방문하지 않는 비율 찾기\n",
    "print(f'온라인을 선호하기 떄문에 굳이 매장에 오지 않는 고객의 비율 : {round(num_prefer_online*100/num_mind_visiting, 2)}%')\n",
    "\n",
    "print(f'접객이 불편하거나 혼자 의사결정을 하고 싶은 고객의 비율 : {round(num_dislike_hospitality*100/num_mind_visiting, 2)}%')"
   ]
  },
  {
   "cell_type": "markdown",
   "metadata": {},
   "source": [
    "접객이 불편하거나 혼자 의사결정을 하고 싶은 고객의 정보 좀 더 살피기\n",
    "\n",
    "1. 연령대\n",
    "2. 성별\n",
    "3. 후보군 추천 희망 비율"
   ]
  },
  {
   "cell_type": "code",
   "execution_count": 19,
   "metadata": {},
   "outputs": [
    {
     "name": "stdout",
     "output_type": "stream",
     "text": [
      "33\n"
     ]
    }
   ],
   "source": [
    "print(num_dislike_hospitality)"
   ]
  },
  {
   "cell_type": "markdown",
   "metadata": {},
   "source": [
    "7번째 질문에서 혼자 의사결정 혹은 접객 불편을 선택했다면\n",
    "\n",
    "그사람의 연령대, 성별, 어떻게 하면~의 응답(11)을 기록"
   ]
  },
  {
   "cell_type": "code",
   "execution_count": 20,
   "metadata": {},
   "outputs": [
    {
     "data": {
      "text/html": [
       "<div>\n",
       "<style scoped>\n",
       "    .dataframe tbody tr th:only-of-type {\n",
       "        vertical-align: middle;\n",
       "    }\n",
       "\n",
       "    .dataframe tbody tr th {\n",
       "        vertical-align: top;\n",
       "    }\n",
       "\n",
       "    .dataframe thead th {\n",
       "        text-align: right;\n",
       "    }\n",
       "</style>\n",
       "<table border=\"1\" class=\"dataframe\">\n",
       "  <thead>\n",
       "    <tr style=\"text-align: right;\">\n",
       "      <th></th>\n",
       "      <th>연령대를 선택해주세요. (2020 - \"출생년도\" + 1의 결과값)</th>\n",
       "      <th>성별을 선택해주세요</th>\n",
       "      <th>오프라인 매장 방문을 꺼리는 이유는 무엇인가요?</th>\n",
       "      <th>어떻게 하면 기초 제품 구매가 더 편리할 것 같아요? (복수응답가능)</th>\n",
       "    </tr>\n",
       "  </thead>\n",
       "  <tbody>\n",
       "    <tr>\n",
       "      <th>0</th>\n",
       "      <td>20 ~ 24세</td>\n",
       "      <td>여성</td>\n",
       "      <td>오프라인 매장 방문을 꺼리지 않아요!</td>\n",
       "      <td>직원의 대면 응대를 활성화해주세요(상담은 사람과 만나서 하고 싶어요, 추천받은 제품...</td>\n",
       "    </tr>\n",
       "    <tr>\n",
       "      <th>1</th>\n",
       "      <td>20 ~ 24세</td>\n",
       "      <td>여성</td>\n",
       "      <td>오프라인 매장 방문을 꺼리지 않아요!;온라인 쇼핑에 익숙해져서;혼자 비교하고 결정하...</td>\n",
       "      <td>비대면 응대를 활성화해주세요(낯을 가려요, 집에서 쇼핑하고 싶어요, 혼자 고민하고 ...</td>\n",
       "    </tr>\n",
       "    <tr>\n",
       "      <th>2</th>\n",
       "      <td>20 ~ 24세</td>\n",
       "      <td>여성</td>\n",
       "      <td>직원들의 접객이 불편해서;혜택이 더 다양하고 많아서</td>\n",
       "      <td>직원의 대면 응대를 활성화해주세요(상담은 사람과 만나서 하고 싶어요, 추천받은 제품...</td>\n",
       "    </tr>\n",
       "    <tr>\n",
       "      <th>3</th>\n",
       "      <td>19세 이하</td>\n",
       "      <td>여성</td>\n",
       "      <td>오프라인 매장 방문을 꺼리지 않아요!</td>\n",
       "      <td>특징별로 상품에 대한 요약 정리를 해주세요(보습라인 : 가,나,다 / 여드름 진정 ...</td>\n",
       "    </tr>\n",
       "    <tr>\n",
       "      <th>4</th>\n",
       "      <td>20 ~ 24세</td>\n",
       "      <td>여성</td>\n",
       "      <td>오프라인 매장 방문을 꺼리지 않아요!</td>\n",
       "      <td>특징별로 상품에 대한 요약 정리를 해주세요(보습라인 : 가,나,다 / 여드름 진정 ...</td>\n",
       "    </tr>\n",
       "  </tbody>\n",
       "</table>\n",
       "</div>"
      ],
      "text/plain": [
       "  연령대를 선택해주세요. (2020 - \"출생년도\" + 1의 결과값) 성별을 선택해주세요  \\\n",
       "0                              20 ~ 24세         여성   \n",
       "1                              20 ~ 24세         여성   \n",
       "2                              20 ~ 24세         여성   \n",
       "3                                19세 이하         여성   \n",
       "4                              20 ~ 24세         여성   \n",
       "\n",
       "                          오프라인 매장 방문을 꺼리는 이유는 무엇인가요?  \\\n",
       "0                               오프라인 매장 방문을 꺼리지 않아요!   \n",
       "1  오프라인 매장 방문을 꺼리지 않아요!;온라인 쇼핑에 익숙해져서;혼자 비교하고 결정하...   \n",
       "2                       직원들의 접객이 불편해서;혜택이 더 다양하고 많아서   \n",
       "3                               오프라인 매장 방문을 꺼리지 않아요!   \n",
       "4                               오프라인 매장 방문을 꺼리지 않아요!   \n",
       "\n",
       "              어떻게 하면 기초 제품 구매가 더 편리할 것 같아요? (복수응답가능)  \n",
       "0  직원의 대면 응대를 활성화해주세요(상담은 사람과 만나서 하고 싶어요, 추천받은 제품...  \n",
       "1  비대면 응대를 활성화해주세요(낯을 가려요, 집에서 쇼핑하고 싶어요, 혼자 고민하고 ...  \n",
       "2  직원의 대면 응대를 활성화해주세요(상담은 사람과 만나서 하고 싶어요, 추천받은 제품...  \n",
       "3  특징별로 상품에 대한 요약 정리를 해주세요(보습라인 : 가,나,다 / 여드름 진정 ...  \n",
       "4  특징별로 상품에 대한 요약 정리를 해주세요(보습라인 : 가,나,다 / 여드름 진정 ...  "
      ]
     },
     "execution_count": 20,
     "metadata": {},
     "output_type": "execute_result"
    }
   ],
   "source": [
    "df_purchasers = purchasers[[ques[0], ques[1], ques[6], ques[10]]]\n",
    "df_purchasers.head()"
   ]
  },
  {
   "cell_type": "code",
   "execution_count": 21,
   "metadata": {},
   "outputs": [],
   "source": [
    "ages = {}\n",
    "gender = {'여성' : 0, '남성' : 0, '기타' : 0, '응답을 원하지 않음' : 0}\n",
    "like_recomendation_sys = 0\n",
    "basic_ways = [\n",
    "    '직원의 대면 응대를 활성화해주세요(상담은 사람과 만나서 하고 싶어요, 추천받은 제품을 사는 것이 마음 편해요 등)',\n",
    "'비대면 응대를 활성화해주세요(낯을 가려요, 집에서 쇼핑하고 싶어요, 혼자 고민하고 싶어요 등)',\n",
    "'특징별로 상품에 대한 요약 정리를 해주세요(보습라인 : 가,나,다 / 여드름 진정 : A,B,C / 미백라인 : x,y,z 등)',\n",
    "'응답을 원하지 않아요']\n",
    "other_ways = []\n",
    "\n",
    "for age in list(df_purchasers.iloc[:, 0].unique()):\n",
    "    ages[age] = 0\n",
    "    \n",
    "i = 0\n",
    "for reason in df_purchasers.iloc[:, 2]:\n",
    "    if re.search('(혼자|직원(접객)?)', reason):\n",
    "        ages[df_purchasers.iloc[i, 0]] += 1\n",
    "        gender[df_purchasers.iloc[i, 1]] += 1\n",
    "        \n",
    "        if re.search('(요약|정리)', df_purchasers.iloc[i, 3]):\n",
    "            like_recomendation_sys += 1\n",
    "    i += 1\n",
    "    \n",
    "    \n",
    "basic_ways = [\n",
    "    '직원의 대면 응대를 활성화해주세요(상담은 사람과 만나서 하고 싶어요, 추천받은 제품을 사는 것이 마음 편해요 등)',\n",
    "'비대면 응대를 활성화해주세요(낯을 가려요, 집에서 쇼핑하고 싶어요, 혼자 고민하고 싶어요 등)',\n",
    "'특징별로 상품에 대한 요약 정리를 해주세요(보습라인 : 가,나,다 / 여드름 진정 : A,B,C / 미백라인 : x,y,z 등)',\n",
    "'응답을 원하지 않아요']\n",
    "other_ways = []\n",
    "for way in df_purchasers.iloc[:, 3]:\n",
    "    if ';' in way:\n",
    "        for w in way.split(';'):\n",
    "            if w not in basic_ways:\n",
    "                other_ways.append(w)\n",
    "    else:\n",
    "        if way not in basic_ways:\n",
    "            other_ways.append(way)"
   ]
  },
  {
   "cell_type": "code",
   "execution_count": 26,
   "metadata": {},
   "outputs": [
    {
     "name": "stdout",
     "output_type": "stream",
     "text": [
      "* 접객이 불편하다고 답한 사람들의 나이 분포\n",
      "{'20 ~ 24세': 21, '19세 이하': 6, '25 ~ 29세': 9, '40 ~ 44세': 2, '30 ~ 34세': 2, '35 ~ 39세': 0, '응답을 원하지 않음': 0, '45 ~ 49세': 0, '50 ~ 59세': 1}\n",
      "\n",
      "\n",
      "* 접객이 불편하다고 답한 사람들의 성별 분포\n",
      "{'여성': 34, '남성': 7, '기타': 0, '응답을 원하지 않음': 0}\n",
      "\n",
      "\n",
      "* 기초 제품 구매에 있어 원하는 방식에 대한 의견\n",
      "['사실 특징별로 상품요약은 잘되어있는편이라고 생각하는데 특히 화장품업계에서 무분별한 광고가 오히려 소비자들에게 혼란을 준다고 생각합니당', \"보통 하나의 브랜드별로는 분류 및 표기가 잘 되어있는데 사실 매장가서 고민하고 검색하는건 여러 브랜드간의 여드름진정라인 비교를 하는것 같아요. 직원분께 추천받는것도 한 브랜드내에서 제품군을 비교받기보단 모든 브랜드 통틀어서 내가 원하는 성분을 포함한 것 중 가성비가 좋거나 '효과'좋은 걸 추천받고 싶으니까요!\", '특징별 요약 + 상품별 비교가 잘 되어있으면 편할 거 같습니다', '알레르기 유발성분을 정리 해주세요']\n",
      "\n",
      "\n",
      "전체 응답자 중에서 요약이나 정리를 선호하는 사람들은 104명으로, 약 83.87%이다.\n"
     ]
    }
   ],
   "source": [
    "print ('* 접객이 불편하다고 답한 사람들의 나이 분포')\n",
    "print(ages)\n",
    "print('\\n')\n",
    "\n",
    "print('* 접객이 불편하다고 답한 사람들의 성별 분포')\n",
    "print(gender)\n",
    "print('\\n')\n",
    "\n",
    "print('* 기초 제품 구매에 있어 원하는 방식에 대한 의견')\n",
    "print(other_ways)\n",
    "print('\\n')\n",
    "\n",
    "like_recomendation_sys_whole = 0\n",
    "\n",
    "for ans in df_purchasers.iloc[:, 3]:\n",
    "    if re.search('(요약|정리)', ans):\n",
    "        like_recomendation_sys_whole += 1\n",
    "\n",
    "print(f'전체 응답자 중에서 요약이나 정리를 선호하는 사람들은 {like_recomendation_sys_whole}명으로, 약 {round(like_recomendation_sys_whole*100/df_purchasers.shape[0], 2)}%이다.')"
   ]
  },
  {
   "cell_type": "code",
   "execution_count": 30,
   "metadata": {},
   "outputs": [
    {
     "name": "stdout",
     "output_type": "stream",
     "text": [
      "접객이 불편하거나 혼자 보고 싶은 20대는 30명으로 20대 중 약 37.04%를 차지한다.\n",
      "또한, 비대면 응대를 선호하거나 상품의 요약 정리를 원하는 20대는 75명으로 20대 중 약 92.59%를 차지한다.\n",
      "접객이 불편하거나 혼자 보고 싶은 40대는 3명으로 40대 중 약 18.75%를 차지한다.\n",
      "또한, 비대면 응대를 선호하거나 상품의 요약 정리를 원하는 40대는 12명으로 40대 중 약 75.0%를 차지한다.\n"
     ]
    }
   ],
   "source": [
    "age_20s = 0; age_40_over = 0\n",
    "dislike_contact_20s = 0; dislike_contact_40s = 0\n",
    "prefer_untact_20s = 0; prefer_untact_40s = 0\n",
    "\n",
    "i = 0\n",
    "for age in df_purchasers.iloc[:, 0]:\n",
    "    if re.search('^2', age):\n",
    "        age_20s += 1\n",
    "        if re.search('(접객|혼자)', df_purchasers.iloc[i, 2]):\n",
    "            dislike_contact_20s += 1\n",
    "        if re.search('(비대면|요약|정리)', df_purchasers.iloc[i, 3]):\n",
    "            prefer_untact_20s += 1\n",
    "    elif re.search('^[456]', age):\n",
    "        age_40_over += 1\n",
    "        if re.search('(접객|혼자)', df_purchasers.iloc[i, 2]):\n",
    "            dislike_contact_40s += 1\n",
    "        if re.search('(비대면|요약|정리)', df_purchasers.iloc[i, 3]):\n",
    "            prefer_untact_40s += 1\n",
    "    i += 1\n",
    "\n",
    "print(f'접객이 불편하거나 혼자 보고 싶은 20대는 {dislike_contact_20s}명으로 20대 중 약 {round(dislike_contact_20s*100/age_20s, 2)}%를 차지한다.')\n",
    "print(f'또한, 비대면 응대를 선호하거나 상품의 요약 정리를 원하는 20대는 {prefer_untact_20s}명으로 20대 중 약 {round(prefer_untact_20s*100/age_20s, 2)}%를 차지한다.')\n",
    "print(f'접객이 불편하거나 혼자 보고 싶은 40대는 {dislike_contact_40s}명으로 40대 중 약 {round(dislike_contact_40s*100/age_40_over, 2)}%를 차지한다.')\n",
    "print(f'또한, 비대면 응대를 선호하거나 상품의 요약 정리를 원하는 40대는 {prefer_untact_40s}명으로 40대 중 약 {round(prefer_untact_40s*100/age_40_over, 2)}%를 차지한다.')"
   ]
  },
  {
   "cell_type": "markdown",
   "metadata": {},
   "source": [
    "# 4. 오프라인 매장 방문 목적 살피기"
   ]
  },
  {
   "cell_type": "code",
   "execution_count": 32,
   "metadata": {},
   "outputs": [
    {
     "data": {
      "text/plain": [
       "{'급해서 혹은 빨리 사용하고 싶어서': 3,\n",
       " '온라인은 신뢰할 수 없어서': 2,\n",
       " '제품을 직접 테스트하고 크기 등을 보려고': 44,\n",
       " '사람에게 물어보고 구매하고 싶어서': 31,\n",
       " '온라인 쇼핑이 익숙하지 않아서': 8,\n",
       " '온라인 결제가 귀찮아서/불편해서': 15,\n",
       " '집이랑 가까워서': 24,\n",
       " '특별한 이유 없음': 1,\n",
       " '샘플, 증정품 등 혜택이 더 다양하고 많아서': 10}"
      ]
     },
     "execution_count": 32,
     "metadata": {},
     "output_type": "execute_result"
    }
   ],
   "source": [
    "reason_visit = {'급해서 혹은 빨리 사용하고 싶어서' : 0,\n",
    "               '온라인은 신뢰할 수 없어서' : 0}\n",
    "\n",
    "for reason in purchasers.iloc[:,6]:\n",
    "    if '방문하지 않아요' == reason:\n",
    "        continue\n",
    "    elif ';' in reason:\n",
    "        for r in reason.split(';'):\n",
    "            if r == '방문하지 않아요':\n",
    "                continue\n",
    "            elif re.search('(급해서|당장|빨리)', r):\n",
    "#                 print(r)\n",
    "                reason_visit['급해서 혹은 빨리 사용하고 싶어서'] += 1\n",
    "                reason_visit[r] = 0\n",
    "                continue\n",
    "            elif re.search('온라인.*(신뢰|믿을\\s?수)', r):\n",
    "                reason_visit['온라인은 신뢰할 수 없어서'] += 1\n",
    "                reason_visit[r] = 0\n",
    "                continue\n",
    "            if r not in reason_visit.keys():\n",
    "                reason_visit[r] = 1\n",
    "            else:\n",
    "                reason_visit[r] += 1\n",
    "\n",
    "reason_visit_store = dict()\n",
    "\n",
    "for k, v in reason_visit.items():\n",
    "    if re.search('(그냥|생각이?/s나면)', k):\n",
    "        reason_visit_store['특별한 이유 없음'] = v\n",
    "        continue\n",
    "    elif v:\n",
    "        reason_visit_store[k] = v\n",
    "        \n",
    "reason_visit_store"
   ]
  },
  {
   "cell_type": "markdown",
   "metadata": {},
   "source": [
    "# 5. 일반 구매자들의 성별 분포 살피기"
   ]
  },
  {
   "cell_type": "code",
   "execution_count": 33,
   "metadata": {},
   "outputs": [
    {
     "data": {
      "text/plain": [
       "{'여성': 91, '남성': 31}"
      ]
     },
     "execution_count": 33,
     "metadata": {},
     "output_type": "execute_result"
    }
   ],
   "source": [
    "purchaser_genders = dict()\n",
    "purchaser_genders['여성'] = 0\n",
    "purchaser_genders['남성'] = 0\n",
    "\n",
    "for gender in purchasers.iloc[:,2]:\n",
    "    if gender == '여성':\n",
    "        purchaser_genders[gender] += 1\n",
    "    elif gender == '남성':\n",
    "        purchaser_genders[gender] += 1\n",
    "    else:\n",
    "        continue\n",
    "\n",
    "purchaser_genders"
   ]
  },
  {
   "cell_type": "markdown",
   "metadata": {},
   "source": [
    "# 6. 스킨케어 지식이 부족한 사람들의 응답 살피기"
   ]
  },
  {
   "cell_type": "code",
   "execution_count": 46,
   "metadata": {},
   "outputs": [
    {
     "data": {
      "text/html": [
       "<div>\n",
       "<style scoped>\n",
       "    .dataframe tbody tr th:only-of-type {\n",
       "        vertical-align: middle;\n",
       "    }\n",
       "\n",
       "    .dataframe tbody tr th {\n",
       "        vertical-align: top;\n",
       "    }\n",
       "\n",
       "    .dataframe thead th {\n",
       "        text-align: right;\n",
       "    }\n",
       "</style>\n",
       "<table border=\"1\" class=\"dataframe\">\n",
       "  <thead>\n",
       "    <tr style=\"text-align: right;\">\n",
       "      <th></th>\n",
       "      <th>타임스탬프</th>\n",
       "      <th>연령대를 선택해주세요. (2020 - \"출생년도\" + 1의 결과값)</th>\n",
       "      <th>성별을 선택해주세요</th>\n",
       "      <th>기초제품을 구매하거나 선물한 적이 있나요?</th>\n",
       "      <th>평소 화장품에 대한 관심/지식은 어느정도인가요? (복수응답 가능)</th>\n",
       "      <th>기초제품 구매 시, 선택에 어려움을 겪은 적이 있나요? 그 이유를 말씀해주세요. (복수응답가능)</th>\n",
       "      <th>화장품 구매에 있어, 오프라인 매장 방문의 목적이 무엇인가요? (복수응답)</th>\n",
       "      <th>오프라인 매장 방문을 꺼리는 이유는 무엇인가요?</th>\n",
       "      <th>화장품과 관련하여 유튜브로 정보를 탐색하시나요?</th>\n",
       "      <th>화장품과 관련한 어플을 사용하시나요? (화해, 글로우픽 등)</th>\n",
       "      <th>화장품과 관련하여 유튜브 혹은 어플을 사용하는 이유는 무엇인가요?</th>\n",
       "      <th>어떻게 하면 기초 제품 구매가 더 편리할 것 같아요? (복수응답가능)</th>\n",
       "      <th>기초 제품 구매가 가능한가?</th>\n",
       "    </tr>\n",
       "  </thead>\n",
       "  <tbody>\n",
       "    <tr>\n",
       "      <th>0</th>\n",
       "      <td>2020/05/18 5:26:50 오후 GMT+9</td>\n",
       "      <td>20 ~ 24세</td>\n",
       "      <td>여성</td>\n",
       "      <td>예</td>\n",
       "      <td>건성, 복합성, 지성이 무엇인지는 알고 있어요.;비타민이 미백에 좋다는 것, 시카와...</td>\n",
       "      <td>제품이 너무 다양하고 많아서 정보를 알 수 없어서;진짜 좋은 제품인지 알 수 없어서...</td>\n",
       "      <td>제품을 직접 테스트하고 크기 등을 보려고;사람에게 물어보고 구매하고 싶어서;온라인 ...</td>\n",
       "      <td>오프라인 매장 방문을 꺼리지 않아요!</td>\n",
       "      <td>1.0</td>\n",
       "      <td>0.0</td>\n",
       "      <td>언젠가 구매할지도 모르니까;색조, 메이트업베이스 등에 대한 정보를 얻기 위해</td>\n",
       "      <td>직원의 대면 응대를 활성화해주세요(상담은 사람과 만나서 하고 싶어요, 추천받은 제품...</td>\n",
       "      <td>choosable</td>\n",
       "    </tr>\n",
       "    <tr>\n",
       "      <th>1</th>\n",
       "      <td>2020/05/18 5:43:14 오후 GMT+9</td>\n",
       "      <td>20 ~ 24세</td>\n",
       "      <td>여성</td>\n",
       "      <td>예</td>\n",
       "      <td>비타민이 미백에 좋다는 것, 시카와 티트리 성분이 진정효과가 있다는 것 등을 알고 ...</td>\n",
       "      <td>제품이 너무 다양하고 많아서 정보를 알 수 없어서;진짜 좋은 제품인지 알 수 없어서</td>\n",
       "      <td>제품을 직접 테스트하고 크기 등을 보려고</td>\n",
       "      <td>오프라인 매장 방문을 꺼리지 않아요!;온라인 쇼핑에 익숙해져서;혼자 비교하고 결정하...</td>\n",
       "      <td>0.0</td>\n",
       "      <td>0.0</td>\n",
       "      <td>사용하지 않음</td>\n",
       "      <td>비대면 응대를 활성화해주세요(낯을 가려요, 집에서 쇼핑하고 싶어요, 혼자 고민하고 ...</td>\n",
       "      <td>unchoosable</td>\n",
       "    </tr>\n",
       "    <tr>\n",
       "      <th>2</th>\n",
       "      <td>2020/05/18 5:44:06 오후 GMT+9</td>\n",
       "      <td>20 ~ 24세</td>\n",
       "      <td>여성</td>\n",
       "      <td>예</td>\n",
       "      <td>건성, 복합성, 지성이 무엇인지는 알고 있어요.;비타민이 미백에 좋다는 것, 시카와...</td>\n",
       "      <td>제품이 너무 다양하고 많아서 정보를 알 수 없어서;진짜 좋은 제품인지 알 수 없어서</td>\n",
       "      <td>제품을 직접 테스트하고 크기 등을 보려고;사람에게 물어보고 구매하고 싶어서</td>\n",
       "      <td>직원들의 접객이 불편해서;혜택이 더 다양하고 많아서</td>\n",
       "      <td>3.0</td>\n",
       "      <td>1.0</td>\n",
       "      <td>유행을 알고 싶어서;색조, 메이트업베이스 등에 대한 정보를 얻기 위해</td>\n",
       "      <td>직원의 대면 응대를 활성화해주세요(상담은 사람과 만나서 하고 싶어요, 추천받은 제품...</td>\n",
       "      <td>unchoosable</td>\n",
       "    </tr>\n",
       "    <tr>\n",
       "      <th>3</th>\n",
       "      <td>2020/05/18 5:45:14 오후 GMT+9</td>\n",
       "      <td>19세 이하</td>\n",
       "      <td>여성</td>\n",
       "      <td>예</td>\n",
       "      <td>자신의 피부에 맞게 상품을 비교하고 선택할 수 있어요.</td>\n",
       "      <td>진짜 좋은 제품인지 알 수 없어서</td>\n",
       "      <td>제품을 직접 테스트하고 크기 등을 보려고</td>\n",
       "      <td>오프라인 매장 방문을 꺼리지 않아요!</td>\n",
       "      <td>4.0</td>\n",
       "      <td>4.0</td>\n",
       "      <td>색조, 메이트업베이스 등에 대한 정보를 얻기 위해;기초제품(스킨, 로션, 미스트, ...</td>\n",
       "      <td>특징별로 상품에 대한 요약 정리를 해주세요(보습라인 : 가,나,다 / 여드름 진정 ...</td>\n",
       "      <td>choosable</td>\n",
       "    </tr>\n",
       "    <tr>\n",
       "      <th>4</th>\n",
       "      <td>2020/05/18 5:46:18 오후 GMT+9</td>\n",
       "      <td>20 ~ 24세</td>\n",
       "      <td>여성</td>\n",
       "      <td>예</td>\n",
       "      <td>비타민이 미백에 좋다는 것, 시카와 티트리 성분이 진정효과가 있다는 것 등을 알고 ...</td>\n",
       "      <td>제품이 너무 다양하고 많아서 정보를 알 수 없어서;피부가 민감하지 않아서 제품 다양...</td>\n",
       "      <td>집이랑 가까워서;그냥 집가다가 생각나면 사는 거고 아니면 쿠팡으로 사는거구~</td>\n",
       "      <td>오프라인 매장 방문을 꺼리지 않아요!</td>\n",
       "      <td>1.0</td>\n",
       "      <td>0.0</td>\n",
       "      <td>그냥 화장한 얼굴이 예뻐서 대리만족하려구</td>\n",
       "      <td>특징별로 상품에 대한 요약 정리를 해주세요(보습라인 : 가,나,다 / 여드름 진정 ...</td>\n",
       "      <td>unchoosable</td>\n",
       "    </tr>\n",
       "  </tbody>\n",
       "</table>\n",
       "</div>"
      ],
      "text/plain": [
       "                         타임스탬프 연령대를 선택해주세요. (2020 - \"출생년도\" + 1의 결과값)  \\\n",
       "0  2020/05/18 5:26:50 오후 GMT+9                              20 ~ 24세   \n",
       "1  2020/05/18 5:43:14 오후 GMT+9                              20 ~ 24세   \n",
       "2  2020/05/18 5:44:06 오후 GMT+9                              20 ~ 24세   \n",
       "3  2020/05/18 5:45:14 오후 GMT+9                                19세 이하   \n",
       "4  2020/05/18 5:46:18 오후 GMT+9                              20 ~ 24세   \n",
       "\n",
       "  성별을 선택해주세요 기초제품을 구매하거나 선물한 적이 있나요?  \\\n",
       "0         여성                       예   \n",
       "1         여성                       예   \n",
       "2         여성                       예   \n",
       "3         여성                       예   \n",
       "4         여성                       예   \n",
       "\n",
       "                평소 화장품에 대한 관심/지식은 어느정도인가요? (복수응답 가능)  \\\n",
       "0  건성, 복합성, 지성이 무엇인지는 알고 있어요.;비타민이 미백에 좋다는 것, 시카와...   \n",
       "1  비타민이 미백에 좋다는 것, 시카와 티트리 성분이 진정효과가 있다는 것 등을 알고 ...   \n",
       "2  건성, 복합성, 지성이 무엇인지는 알고 있어요.;비타민이 미백에 좋다는 것, 시카와...   \n",
       "3                     자신의 피부에 맞게 상품을 비교하고 선택할 수 있어요.   \n",
       "4  비타민이 미백에 좋다는 것, 시카와 티트리 성분이 진정효과가 있다는 것 등을 알고 ...   \n",
       "\n",
       "  기초제품 구매 시, 선택에 어려움을 겪은 적이 있나요? 그 이유를 말씀해주세요. (복수응답가능)  \\\n",
       "0  제품이 너무 다양하고 많아서 정보를 알 수 없어서;진짜 좋은 제품인지 알 수 없어서...      \n",
       "1     제품이 너무 다양하고 많아서 정보를 알 수 없어서;진짜 좋은 제품인지 알 수 없어서      \n",
       "2     제품이 너무 다양하고 많아서 정보를 알 수 없어서;진짜 좋은 제품인지 알 수 없어서      \n",
       "3                                 진짜 좋은 제품인지 알 수 없어서      \n",
       "4  제품이 너무 다양하고 많아서 정보를 알 수 없어서;피부가 민감하지 않아서 제품 다양...      \n",
       "\n",
       "           화장품 구매에 있어, 오프라인 매장 방문의 목적이 무엇인가요? (복수응답)  \\\n",
       "0  제품을 직접 테스트하고 크기 등을 보려고;사람에게 물어보고 구매하고 싶어서;온라인 ...   \n",
       "1                             제품을 직접 테스트하고 크기 등을 보려고   \n",
       "2          제품을 직접 테스트하고 크기 등을 보려고;사람에게 물어보고 구매하고 싶어서   \n",
       "3                             제품을 직접 테스트하고 크기 등을 보려고   \n",
       "4         집이랑 가까워서;그냥 집가다가 생각나면 사는 거고 아니면 쿠팡으로 사는거구~   \n",
       "\n",
       "                          오프라인 매장 방문을 꺼리는 이유는 무엇인가요?  \\\n",
       "0                               오프라인 매장 방문을 꺼리지 않아요!   \n",
       "1  오프라인 매장 방문을 꺼리지 않아요!;온라인 쇼핑에 익숙해져서;혼자 비교하고 결정하...   \n",
       "2                       직원들의 접객이 불편해서;혜택이 더 다양하고 많아서   \n",
       "3                               오프라인 매장 방문을 꺼리지 않아요!   \n",
       "4                               오프라인 매장 방문을 꺼리지 않아요!   \n",
       "\n",
       "   화장품과 관련하여 유튜브로 정보를 탐색하시나요?  화장품과 관련한 어플을 사용하시나요? (화해, 글로우픽 등)  \\\n",
       "0                         1.0                                0.0   \n",
       "1                         0.0                                0.0   \n",
       "2                         3.0                                1.0   \n",
       "3                         4.0                                4.0   \n",
       "4                         1.0                                0.0   \n",
       "\n",
       "                화장품과 관련하여 유튜브 혹은 어플을 사용하는 이유는 무엇인가요?  \\\n",
       "0         언젠가 구매할지도 모르니까;색조, 메이트업베이스 등에 대한 정보를 얻기 위해   \n",
       "1                                            사용하지 않음   \n",
       "2             유행을 알고 싶어서;색조, 메이트업베이스 등에 대한 정보를 얻기 위해   \n",
       "3  색조, 메이트업베이스 등에 대한 정보를 얻기 위해;기초제품(스킨, 로션, 미스트, ...   \n",
       "4                             그냥 화장한 얼굴이 예뻐서 대리만족하려구   \n",
       "\n",
       "              어떻게 하면 기초 제품 구매가 더 편리할 것 같아요? (복수응답가능) 기초 제품 구매가 가능한가?  \n",
       "0  직원의 대면 응대를 활성화해주세요(상담은 사람과 만나서 하고 싶어요, 추천받은 제품...       choosable  \n",
       "1  비대면 응대를 활성화해주세요(낯을 가려요, 집에서 쇼핑하고 싶어요, 혼자 고민하고 ...     unchoosable  \n",
       "2  직원의 대면 응대를 활성화해주세요(상담은 사람과 만나서 하고 싶어요, 추천받은 제품...     unchoosable  \n",
       "3  특징별로 상품에 대한 요약 정리를 해주세요(보습라인 : 가,나,다 / 여드름 진정 ...       choosable  \n",
       "4  특징별로 상품에 대한 요약 정리를 해주세요(보습라인 : 가,나,다 / 여드름 진정 ...     unchoosable  "
      ]
     },
     "execution_count": 46,
     "metadata": {},
     "output_type": "execute_result"
    }
   ],
   "source": [
    "purchasers['기초 제품 구매가 가능한가?'] = purchasers[ques[3]].apply(lambda x: 'choosable' if re.search('(업계|할 수 있어요)', x) else 'unchoosable')\n",
    "purchasers.head()"
   ]
  },
  {
   "cell_type": "code",
   "execution_count": 48,
   "metadata": {},
   "outputs": [
    {
     "data": {
      "text/html": [
       "<div>\n",
       "<style scoped>\n",
       "    .dataframe tbody tr th:only-of-type {\n",
       "        vertical-align: middle;\n",
       "    }\n",
       "\n",
       "    .dataframe tbody tr th {\n",
       "        vertical-align: top;\n",
       "    }\n",
       "\n",
       "    .dataframe thead th {\n",
       "        text-align: right;\n",
       "    }\n",
       "</style>\n",
       "<table border=\"1\" class=\"dataframe\">\n",
       "  <thead>\n",
       "    <tr style=\"text-align: right;\">\n",
       "      <th></th>\n",
       "      <th>타임스탬프</th>\n",
       "      <th>연령대를 선택해주세요. (2020 - \"출생년도\" + 1의 결과값)</th>\n",
       "      <th>성별을 선택해주세요</th>\n",
       "      <th>기초제품을 구매하거나 선물한 적이 있나요?</th>\n",
       "      <th>평소 화장품에 대한 관심/지식은 어느정도인가요? (복수응답 가능)</th>\n",
       "      <th>기초제품 구매 시, 선택에 어려움을 겪은 적이 있나요? 그 이유를 말씀해주세요. (복수응답가능)</th>\n",
       "      <th>화장품 구매에 있어, 오프라인 매장 방문의 목적이 무엇인가요? (복수응답)</th>\n",
       "      <th>오프라인 매장 방문을 꺼리는 이유는 무엇인가요?</th>\n",
       "      <th>화장품과 관련하여 유튜브로 정보를 탐색하시나요?</th>\n",
       "      <th>화장품과 관련한 어플을 사용하시나요? (화해, 글로우픽 등)</th>\n",
       "      <th>화장품과 관련하여 유튜브 혹은 어플을 사용하는 이유는 무엇인가요?</th>\n",
       "      <th>어떻게 하면 기초 제품 구매가 더 편리할 것 같아요? (복수응답가능)</th>\n",
       "      <th>기초 제품 구매가 가능한가?</th>\n",
       "    </tr>\n",
       "  </thead>\n",
       "  <tbody>\n",
       "    <tr>\n",
       "      <th>1</th>\n",
       "      <td>2020/05/18 5:43:14 오후 GMT+9</td>\n",
       "      <td>20 ~ 24세</td>\n",
       "      <td>여성</td>\n",
       "      <td>예</td>\n",
       "      <td>비타민이 미백에 좋다는 것, 시카와 티트리 성분이 진정효과가 있다는 것 등을 알고 ...</td>\n",
       "      <td>제품이 너무 다양하고 많아서 정보를 알 수 없어서;진짜 좋은 제품인지 알 수 없어서</td>\n",
       "      <td>제품을 직접 테스트하고 크기 등을 보려고</td>\n",
       "      <td>오프라인 매장 방문을 꺼리지 않아요!;온라인 쇼핑에 익숙해져서;혼자 비교하고 결정하...</td>\n",
       "      <td>0.0</td>\n",
       "      <td>0.0</td>\n",
       "      <td>사용하지 않음</td>\n",
       "      <td>비대면 응대를 활성화해주세요(낯을 가려요, 집에서 쇼핑하고 싶어요, 혼자 고민하고 ...</td>\n",
       "      <td>unchoosable</td>\n",
       "    </tr>\n",
       "    <tr>\n",
       "      <th>2</th>\n",
       "      <td>2020/05/18 5:44:06 오후 GMT+9</td>\n",
       "      <td>20 ~ 24세</td>\n",
       "      <td>여성</td>\n",
       "      <td>예</td>\n",
       "      <td>건성, 복합성, 지성이 무엇인지는 알고 있어요.;비타민이 미백에 좋다는 것, 시카와...</td>\n",
       "      <td>제품이 너무 다양하고 많아서 정보를 알 수 없어서;진짜 좋은 제품인지 알 수 없어서</td>\n",
       "      <td>제품을 직접 테스트하고 크기 등을 보려고;사람에게 물어보고 구매하고 싶어서</td>\n",
       "      <td>직원들의 접객이 불편해서;혜택이 더 다양하고 많아서</td>\n",
       "      <td>3.0</td>\n",
       "      <td>1.0</td>\n",
       "      <td>유행을 알고 싶어서;색조, 메이트업베이스 등에 대한 정보를 얻기 위해</td>\n",
       "      <td>직원의 대면 응대를 활성화해주세요(상담은 사람과 만나서 하고 싶어요, 추천받은 제품...</td>\n",
       "      <td>unchoosable</td>\n",
       "    </tr>\n",
       "    <tr>\n",
       "      <th>4</th>\n",
       "      <td>2020/05/18 5:46:18 오후 GMT+9</td>\n",
       "      <td>20 ~ 24세</td>\n",
       "      <td>여성</td>\n",
       "      <td>예</td>\n",
       "      <td>비타민이 미백에 좋다는 것, 시카와 티트리 성분이 진정효과가 있다는 것 등을 알고 ...</td>\n",
       "      <td>제품이 너무 다양하고 많아서 정보를 알 수 없어서;피부가 민감하지 않아서 제품 다양...</td>\n",
       "      <td>집이랑 가까워서;그냥 집가다가 생각나면 사는 거고 아니면 쿠팡으로 사는거구~</td>\n",
       "      <td>오프라인 매장 방문을 꺼리지 않아요!</td>\n",
       "      <td>1.0</td>\n",
       "      <td>0.0</td>\n",
       "      <td>그냥 화장한 얼굴이 예뻐서 대리만족하려구</td>\n",
       "      <td>특징별로 상품에 대한 요약 정리를 해주세요(보습라인 : 가,나,다 / 여드름 진정 ...</td>\n",
       "      <td>unchoosable</td>\n",
       "    </tr>\n",
       "    <tr>\n",
       "      <th>5</th>\n",
       "      <td>2020/05/18 5:47:56 오후 GMT+9</td>\n",
       "      <td>20 ~ 24세</td>\n",
       "      <td>남성</td>\n",
       "      <td>예</td>\n",
       "      <td>건성, 복합성, 지성이 무엇인지는 알고 있어요.</td>\n",
       "      <td>진짜 좋은 제품인지 알 수 없어서</td>\n",
       "      <td>제품을 직접 테스트하고 크기 등을 보려고;사람에게 물어보고 구매하고 싶어서</td>\n",
       "      <td>집에서 나가고 싶지 않아서</td>\n",
       "      <td>1.0</td>\n",
       "      <td>0.0</td>\n",
       "      <td>기초제품(스킨, 로션, 미스트, 선케어 등)에 대한 정보를 얻기 위해</td>\n",
       "      <td>특징별로 상품에 대한 요약 정리를 해주세요(보습라인 : 가,나,다 / 여드름 진정 ...</td>\n",
       "      <td>unchoosable</td>\n",
       "    </tr>\n",
       "    <tr>\n",
       "      <th>7</th>\n",
       "      <td>2020/05/18 5:55:37 오후 GMT+9</td>\n",
       "      <td>25 ~ 29세</td>\n",
       "      <td>여성</td>\n",
       "      <td>예</td>\n",
       "      <td>건성, 복합성, 지성이 무엇인지는 알고 있어요.</td>\n",
       "      <td>제품이 너무 다양하고 많아서 정보를 알 수 없어서;매번 실패해서;진짜 좋은 제품인지...</td>\n",
       "      <td>제품을 직접 테스트하고 크기 등을 보려고;사람에게 물어보고 구매하고 싶어서;집이랑 ...</td>\n",
       "      <td>오프라인 매장 방문을 꺼리지 않아요!</td>\n",
       "      <td>2.0</td>\n",
       "      <td>0.0</td>\n",
       "      <td>색조, 메이트업베이스 등에 대한 정보를 얻기 위해;기초제품(스킨, 로션, 미스트, ...</td>\n",
       "      <td>특징별로 상품에 대한 요약 정리를 해주세요(보습라인 : 가,나,다 / 여드름 진정 ...</td>\n",
       "      <td>unchoosable</td>\n",
       "    </tr>\n",
       "    <tr>\n",
       "      <th>...</th>\n",
       "      <td>...</td>\n",
       "      <td>...</td>\n",
       "      <td>...</td>\n",
       "      <td>...</td>\n",
       "      <td>...</td>\n",
       "      <td>...</td>\n",
       "      <td>...</td>\n",
       "      <td>...</td>\n",
       "      <td>...</td>\n",
       "      <td>...</td>\n",
       "      <td>...</td>\n",
       "      <td>...</td>\n",
       "      <td>...</td>\n",
       "    </tr>\n",
       "    <tr>\n",
       "      <th>125</th>\n",
       "      <td>2020/05/19 12:34:52 오후 GMT+9</td>\n",
       "      <td>50 ~ 59세</td>\n",
       "      <td>여성</td>\n",
       "      <td>예</td>\n",
       "      <td>건성, 복합성, 지성이 무엇인지는 알고 있어요.;비타민이 미백에 좋다는 것, 시카와...</td>\n",
       "      <td>진짜 좋은 제품인지 알 수 없어서</td>\n",
       "      <td>사람에게 물어보고 구매하고 싶어서;온라인 쇼핑이 익숙하지 않아서;온라인 결제가 귀찮...</td>\n",
       "      <td>오프라인 매장 방문을 꺼리지 않아요!</td>\n",
       "      <td>0.0</td>\n",
       "      <td>0.0</td>\n",
       "      <td>사용하지 않음</td>\n",
       "      <td>직원의 대면 응대를 활성화해주세요(상담은 사람과 만나서 하고 싶어요, 추천받은 제품...</td>\n",
       "      <td>unchoosable</td>\n",
       "    </tr>\n",
       "    <tr>\n",
       "      <th>127</th>\n",
       "      <td>2020/05/19 1:12:52 오후 GMT+9</td>\n",
       "      <td>25 ~ 29세</td>\n",
       "      <td>남성</td>\n",
       "      <td>예</td>\n",
       "      <td>건성, 복합성, 지성이 무엇인지는 알고 있어요.</td>\n",
       "      <td>피부(스킨케어)에 대한 지식이 없어서</td>\n",
       "      <td>사람에게 물어보고 구매하고 싶어서</td>\n",
       "      <td>혼자 비교하고 결정하고 싶어서</td>\n",
       "      <td>3.0</td>\n",
       "      <td>0.0</td>\n",
       "      <td>기초제품(스킨, 로션, 미스트, 선케어 등)에 대한 정보를 얻기 위해</td>\n",
       "      <td>직원의 대면 응대를 활성화해주세요(상담은 사람과 만나서 하고 싶어요, 추천받은 제품...</td>\n",
       "      <td>unchoosable</td>\n",
       "    </tr>\n",
       "    <tr>\n",
       "      <th>128</th>\n",
       "      <td>2020/05/19 1:31:07 오후 GMT+9</td>\n",
       "      <td>25 ~ 29세</td>\n",
       "      <td>남성</td>\n",
       "      <td>예</td>\n",
       "      <td>건성, 복합성, 지성이 무엇인지는 알고 있어요.</td>\n",
       "      <td>없음;물어보면 잘 알려주던뎅</td>\n",
       "      <td>제품을 직접 테스트하고 크기 등을 보려고;온라인 결제가 귀찮아서/불편해서;샘플, 증...</td>\n",
       "      <td>오프라인 매장 방문을 꺼리지 않아요!</td>\n",
       "      <td>0.0</td>\n",
       "      <td>0.0</td>\n",
       "      <td>사용하지 않음</td>\n",
       "      <td>특징별로 상품에 대한 요약 정리를 해주세요(보습라인 : 가,나,다 / 여드름 진정 ...</td>\n",
       "      <td>unchoosable</td>\n",
       "    </tr>\n",
       "    <tr>\n",
       "      <th>132</th>\n",
       "      <td>2020/05/19 6:21:44 오후 GMT+9</td>\n",
       "      <td>40 ~ 44세</td>\n",
       "      <td>여성</td>\n",
       "      <td>예</td>\n",
       "      <td>나의 피부가 건성인지 지성인지 몰라요.</td>\n",
       "      <td>제품이 너무 다양하고 많아서 정보를 알 수 없어서;진짜 좋은 제품인지 알 수 없어서</td>\n",
       "      <td>사람에게 물어보고 구매하고 싶어서</td>\n",
       "      <td>직원들의 접객이 불편해서</td>\n",
       "      <td>0.0</td>\n",
       "      <td>0.0</td>\n",
       "      <td>사용하지 않음</td>\n",
       "      <td>응답을 원하지 않아요</td>\n",
       "      <td>unchoosable</td>\n",
       "    </tr>\n",
       "    <tr>\n",
       "      <th>135</th>\n",
       "      <td>2020/05/20 11:25:19 오후 GMT+9</td>\n",
       "      <td>20 ~ 24세</td>\n",
       "      <td>여성</td>\n",
       "      <td>예</td>\n",
       "      <td>나의 피부가 건성인지 지성인지 몰라요.;비타민이 미백에 좋다는 것, 시카와 티트리 ...</td>\n",
       "      <td>진짜 좋은 제품인지 알 수 없어서</td>\n",
       "      <td>제품을 직접 테스트하고 크기 등을 보려고;사람에게 물어보고 구매하고 싶어서</td>\n",
       "      <td>오프라인 매장 방문을 꺼리지 않아요!</td>\n",
       "      <td>3.0</td>\n",
       "      <td>3.0</td>\n",
       "      <td>색조, 메이트업베이스 등에 대한 정보를 얻기 위해;기초제품(스킨, 로션, 미스트, ...</td>\n",
       "      <td>특징별로 상품에 대한 요약 정리를 해주세요(보습라인 : 가,나,다 / 여드름 진정 ...</td>\n",
       "      <td>unchoosable</td>\n",
       "    </tr>\n",
       "  </tbody>\n",
       "</table>\n",
       "<p>72 rows × 13 columns</p>\n",
       "</div>"
      ],
      "text/plain": [
       "                            타임스탬프 연령대를 선택해주세요. (2020 - \"출생년도\" + 1의 결과값)  \\\n",
       "1     2020/05/18 5:43:14 오후 GMT+9                              20 ~ 24세   \n",
       "2     2020/05/18 5:44:06 오후 GMT+9                              20 ~ 24세   \n",
       "4     2020/05/18 5:46:18 오후 GMT+9                              20 ~ 24세   \n",
       "5     2020/05/18 5:47:56 오후 GMT+9                              20 ~ 24세   \n",
       "7     2020/05/18 5:55:37 오후 GMT+9                              25 ~ 29세   \n",
       "..                            ...                                   ...   \n",
       "125  2020/05/19 12:34:52 오후 GMT+9                              50 ~ 59세   \n",
       "127   2020/05/19 1:12:52 오후 GMT+9                              25 ~ 29세   \n",
       "128   2020/05/19 1:31:07 오후 GMT+9                              25 ~ 29세   \n",
       "132   2020/05/19 6:21:44 오후 GMT+9                              40 ~ 44세   \n",
       "135  2020/05/20 11:25:19 오후 GMT+9                              20 ~ 24세   \n",
       "\n",
       "    성별을 선택해주세요 기초제품을 구매하거나 선물한 적이 있나요?  \\\n",
       "1           여성                       예   \n",
       "2           여성                       예   \n",
       "4           여성                       예   \n",
       "5           남성                       예   \n",
       "7           여성                       예   \n",
       "..         ...                     ...   \n",
       "125         여성                       예   \n",
       "127         남성                       예   \n",
       "128         남성                       예   \n",
       "132         여성                       예   \n",
       "135         여성                       예   \n",
       "\n",
       "                  평소 화장품에 대한 관심/지식은 어느정도인가요? (복수응답 가능)  \\\n",
       "1    비타민이 미백에 좋다는 것, 시카와 티트리 성분이 진정효과가 있다는 것 등을 알고 ...   \n",
       "2    건성, 복합성, 지성이 무엇인지는 알고 있어요.;비타민이 미백에 좋다는 것, 시카와...   \n",
       "4    비타민이 미백에 좋다는 것, 시카와 티트리 성분이 진정효과가 있다는 것 등을 알고 ...   \n",
       "5                           건성, 복합성, 지성이 무엇인지는 알고 있어요.   \n",
       "7                           건성, 복합성, 지성이 무엇인지는 알고 있어요.   \n",
       "..                                                 ...   \n",
       "125  건성, 복합성, 지성이 무엇인지는 알고 있어요.;비타민이 미백에 좋다는 것, 시카와...   \n",
       "127                         건성, 복합성, 지성이 무엇인지는 알고 있어요.   \n",
       "128                         건성, 복합성, 지성이 무엇인지는 알고 있어요.   \n",
       "132                              나의 피부가 건성인지 지성인지 몰라요.   \n",
       "135  나의 피부가 건성인지 지성인지 몰라요.;비타민이 미백에 좋다는 것, 시카와 티트리 ...   \n",
       "\n",
       "    기초제품 구매 시, 선택에 어려움을 겪은 적이 있나요? 그 이유를 말씀해주세요. (복수응답가능)  \\\n",
       "1       제품이 너무 다양하고 많아서 정보를 알 수 없어서;진짜 좋은 제품인지 알 수 없어서      \n",
       "2       제품이 너무 다양하고 많아서 정보를 알 수 없어서;진짜 좋은 제품인지 알 수 없어서      \n",
       "4    제품이 너무 다양하고 많아서 정보를 알 수 없어서;피부가 민감하지 않아서 제품 다양...      \n",
       "5                                   진짜 좋은 제품인지 알 수 없어서      \n",
       "7    제품이 너무 다양하고 많아서 정보를 알 수 없어서;매번 실패해서;진짜 좋은 제품인지...      \n",
       "..                                                 ...      \n",
       "125                                 진짜 좋은 제품인지 알 수 없어서      \n",
       "127                               피부(스킨케어)에 대한 지식이 없어서      \n",
       "128                                    없음;물어보면 잘 알려주던뎅      \n",
       "132     제품이 너무 다양하고 많아서 정보를 알 수 없어서;진짜 좋은 제품인지 알 수 없어서      \n",
       "135                                 진짜 좋은 제품인지 알 수 없어서      \n",
       "\n",
       "             화장품 구매에 있어, 오프라인 매장 방문의 목적이 무엇인가요? (복수응답)  \\\n",
       "1                               제품을 직접 테스트하고 크기 등을 보려고   \n",
       "2            제품을 직접 테스트하고 크기 등을 보려고;사람에게 물어보고 구매하고 싶어서   \n",
       "4           집이랑 가까워서;그냥 집가다가 생각나면 사는 거고 아니면 쿠팡으로 사는거구~   \n",
       "5            제품을 직접 테스트하고 크기 등을 보려고;사람에게 물어보고 구매하고 싶어서   \n",
       "7    제품을 직접 테스트하고 크기 등을 보려고;사람에게 물어보고 구매하고 싶어서;집이랑 ...   \n",
       "..                                                 ...   \n",
       "125  사람에게 물어보고 구매하고 싶어서;온라인 쇼핑이 익숙하지 않아서;온라인 결제가 귀찮...   \n",
       "127                                 사람에게 물어보고 구매하고 싶어서   \n",
       "128  제품을 직접 테스트하고 크기 등을 보려고;온라인 결제가 귀찮아서/불편해서;샘플, 증...   \n",
       "132                                 사람에게 물어보고 구매하고 싶어서   \n",
       "135          제품을 직접 테스트하고 크기 등을 보려고;사람에게 물어보고 구매하고 싶어서   \n",
       "\n",
       "                            오프라인 매장 방문을 꺼리는 이유는 무엇인가요?  \\\n",
       "1    오프라인 매장 방문을 꺼리지 않아요!;온라인 쇼핑에 익숙해져서;혼자 비교하고 결정하...   \n",
       "2                         직원들의 접객이 불편해서;혜택이 더 다양하고 많아서   \n",
       "4                                 오프라인 매장 방문을 꺼리지 않아요!   \n",
       "5                                       집에서 나가고 싶지 않아서   \n",
       "7                                 오프라인 매장 방문을 꺼리지 않아요!   \n",
       "..                                                 ...   \n",
       "125                               오프라인 매장 방문을 꺼리지 않아요!   \n",
       "127                                   혼자 비교하고 결정하고 싶어서   \n",
       "128                               오프라인 매장 방문을 꺼리지 않아요!   \n",
       "132                                      직원들의 접객이 불편해서   \n",
       "135                               오프라인 매장 방문을 꺼리지 않아요!   \n",
       "\n",
       "     화장품과 관련하여 유튜브로 정보를 탐색하시나요?  화장품과 관련한 어플을 사용하시나요? (화해, 글로우픽 등)  \\\n",
       "1                           0.0                                0.0   \n",
       "2                           3.0                                1.0   \n",
       "4                           1.0                                0.0   \n",
       "5                           1.0                                0.0   \n",
       "7                           2.0                                0.0   \n",
       "..                          ...                                ...   \n",
       "125                         0.0                                0.0   \n",
       "127                         3.0                                0.0   \n",
       "128                         0.0                                0.0   \n",
       "132                         0.0                                0.0   \n",
       "135                         3.0                                3.0   \n",
       "\n",
       "                  화장품과 관련하여 유튜브 혹은 어플을 사용하는 이유는 무엇인가요?  \\\n",
       "1                                              사용하지 않음   \n",
       "2               유행을 알고 싶어서;색조, 메이트업베이스 등에 대한 정보를 얻기 위해   \n",
       "4                               그냥 화장한 얼굴이 예뻐서 대리만족하려구   \n",
       "5               기초제품(스킨, 로션, 미스트, 선케어 등)에 대한 정보를 얻기 위해   \n",
       "7    색조, 메이트업베이스 등에 대한 정보를 얻기 위해;기초제품(스킨, 로션, 미스트, ...   \n",
       "..                                                 ...   \n",
       "125                                            사용하지 않음   \n",
       "127             기초제품(스킨, 로션, 미스트, 선케어 등)에 대한 정보를 얻기 위해   \n",
       "128                                            사용하지 않음   \n",
       "132                                            사용하지 않음   \n",
       "135  색조, 메이트업베이스 등에 대한 정보를 얻기 위해;기초제품(스킨, 로션, 미스트, ...   \n",
       "\n",
       "                어떻게 하면 기초 제품 구매가 더 편리할 것 같아요? (복수응답가능) 기초 제품 구매가 가능한가?  \n",
       "1    비대면 응대를 활성화해주세요(낯을 가려요, 집에서 쇼핑하고 싶어요, 혼자 고민하고 ...     unchoosable  \n",
       "2    직원의 대면 응대를 활성화해주세요(상담은 사람과 만나서 하고 싶어요, 추천받은 제품...     unchoosable  \n",
       "4    특징별로 상품에 대한 요약 정리를 해주세요(보습라인 : 가,나,다 / 여드름 진정 ...     unchoosable  \n",
       "5    특징별로 상품에 대한 요약 정리를 해주세요(보습라인 : 가,나,다 / 여드름 진정 ...     unchoosable  \n",
       "7    특징별로 상품에 대한 요약 정리를 해주세요(보습라인 : 가,나,다 / 여드름 진정 ...     unchoosable  \n",
       "..                                                 ...             ...  \n",
       "125  직원의 대면 응대를 활성화해주세요(상담은 사람과 만나서 하고 싶어요, 추천받은 제품...     unchoosable  \n",
       "127  직원의 대면 응대를 활성화해주세요(상담은 사람과 만나서 하고 싶어요, 추천받은 제품...     unchoosable  \n",
       "128  특징별로 상품에 대한 요약 정리를 해주세요(보습라인 : 가,나,다 / 여드름 진정 ...     unchoosable  \n",
       "132                                        응답을 원하지 않아요     unchoosable  \n",
       "135  특징별로 상품에 대한 요약 정리를 해주세요(보습라인 : 가,나,다 / 여드름 진정 ...     unchoosable  \n",
       "\n",
       "[72 rows x 13 columns]"
      ]
     },
     "execution_count": 48,
     "metadata": {},
     "output_type": "execute_result"
    }
   ],
   "source": [
    "the_unchoosable = purchasers[purchasers['기초 제품 구매가 가능한가?'] == 'unchoosable']\n",
    "the_unchoosable"
   ]
  },
  {
   "cell_type": "code",
   "execution_count": 49,
   "metadata": {},
   "outputs": [
    {
     "name": "stdout",
     "output_type": "stream",
     "text": [
      "스킨 케어 제품을 혼자 결정할 수 없는 사람은 전체 응답자 137명 중 72명이고, 전체의 약52.55%이다.\n"
     ]
    }
   ],
   "source": [
    "# 스킨 케어 제품을 혼자 결정할 수 없는 사람의 비율\n",
    "print(f'스킨 케어 제품을 혼자 결정할 수 없는 사람은 전체 응답자 {data.shape[0]}명 중 {the_unchoosable.shape[0]}명이고, 전체의 약{round(the_unchoosable.shape[0]*100/data.shape[0], 2)}%이다.')"
   ]
  },
  {
   "cell_type": "code",
   "execution_count": 50,
   "metadata": {},
   "outputs": [],
   "source": [
    "def classify_reason(res, regex, boolean='False'):\n",
    "    if re.search(regex, res):\n",
    "        boolean = 'True'\n",
    "    return boolean"
   ]
  },
  {
   "cell_type": "code",
   "execution_count": 53,
   "metadata": {},
   "outputs": [
    {
     "name": "stdout",
     "output_type": "stream",
     "text": [
      "100.0%가 스킨 케어 지식 부족으로 구매에 어려움을 겪은 적이 있다고 말했다.\n"
     ]
    },
    {
     "name": "stderr",
     "output_type": "stream",
     "text": [
      "C:\\Users\\sorye\\anaconda3\\lib\\site-packages\\ipykernel_launcher.py:2: SettingWithCopyWarning: \n",
      "A value is trying to be set on a copy of a slice from a DataFrame.\n",
      "Try using .loc[row_indexer,col_indexer] = value instead\n",
      "\n",
      "See the caveats in the documentation: https://pandas.pydata.org/pandas-docs/stable/user_guide/indexing.html#returning-a-view-versus-a-copy\n",
      "  \n"
     ]
    }
   ],
   "source": [
    "# 혼자 결정할 수 없는 사람들 중 기초제품 구매에 어려움을 겪은 이유가 지식 부족인 비율 알아보기\n",
    "the_unchoosable['unchoosable reason'] = the_unchoosable[ques[4]].apply(lambda x: 'knowledge' if classify_reason(x, '(지식.*(없[어다]|부족)|몰라)') else 'others')\n",
    "print(f'{round(the_unchoosable[the_unchoosable[\"unchoosable reason\"] == \"knowledge\"].shape[0]*100/the_unchoosable.shape[0], 2)}%가 스킨 케어 지식 부족으로 구매에 어려움을 겪은 적이 있다고 말했다.')"
   ]
  },
  {
   "cell_type": "code",
   "execution_count": 54,
   "metadata": {},
   "outputs": [
    {
     "data": {
      "text/plain": [
       "{'오프라인 매장 방문을 꺼리지 않아요!': 32,\n",
       " '온라인 쇼핑에 익숙해져서': 10,\n",
       " '혼자 비교하고 결정하고 싶어서': 8,\n",
       " '직원들의 접객이 불편해서': 18,\n",
       " '혜택이 더 다양하고 많아서': 6,\n",
       " '집에서 나가고 싶지 않아서': 12,\n",
       " '어플, 유튜브, 방송 등 스스로도 충분히 정보를 얻을 수 있어서': 8,\n",
       " '귀찮아서': 1,\n",
       " '온라인으로 더 저렴히 구매가능해서': 1}"
      ]
     },
     "execution_count": 54,
     "metadata": {},
     "output_type": "execute_result"
    }
   ],
   "source": [
    "count_answers(the_unchoosable, 7)"
   ]
  },
  {
   "cell_type": "code",
   "execution_count": 55,
   "metadata": {},
   "outputs": [
    {
     "data": {
      "text/plain": [
       "{'비대면 응대를 활성화해주세요(낯을 가려요, 집에서 쇼핑하고 싶어요, 혼자 고민하고 싶어요 등)': 14,\n",
       " '직원의 대면 응대를 활성화해주세요(상담은 사람과 만나서 하고 싶어요, 추천받은 제품을 사는 것이 마음 편해요 등)': 16,\n",
       " '특징별로 상품에 대한 요약 정리를 해주세요(보습라인 : 가,나,다 / 여드름 진정 : A,B,C / 미백라인 : x,y,z 등)': 60,\n",
       " \"보통 하나의 브랜드별로는 분류 및 표기가 잘 되어있는데 사실 매장가서 고민하고 검색하는건 여러 브랜드간의 여드름진정라인 비교를 하는것 같아요. 직원분께 추천받는것도 한 브랜드내에서 제품군을 비교받기보단 모든 브랜드 통틀어서 내가 원하는 성분을 포함한 것 중 가성비가 좋거나 '효과'좋은 걸 추천받고 싶으니까요!\": 1,\n",
       " '응답을 원하지 않아요': 2,\n",
       " '알레르기 유발성분을 정리 해주세요': 1}"
      ]
     },
     "execution_count": 55,
     "metadata": {},
     "output_type": "execute_result"
    }
   ],
   "source": [
    "count_answers(the_unchoosable, 11)"
   ]
  },
  {
   "cell_type": "code",
   "execution_count": null,
   "metadata": {},
   "outputs": [],
   "source": []
  }
 ],
 "metadata": {
  "kernelspec": {
   "display_name": "Python 3",
   "language": "python",
   "name": "python3"
  },
  "language_info": {
   "codemirror_mode": {
    "name": "ipython",
    "version": 3
   },
   "file_extension": ".py",
   "mimetype": "text/x-python",
   "name": "python",
   "nbconvert_exporter": "python",
   "pygments_lexer": "ipython3",
   "version": "3.7.6"
  }
 },
 "nbformat": 4,
 "nbformat_minor": 4
}
